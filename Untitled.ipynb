{
 "cells": [
  {
   "cell_type": "code",
   "execution_count": 2,
   "metadata": {},
   "outputs": [],
   "source": [
    "import pandas as pd\n",
    "import numpy as np\n",
    "import plotly.express as px\n",
    "import matplotlib.pyplot as plt"
   ]
  },
  {
   "cell_type": "code",
   "execution_count": 5,
   "metadata": {},
   "outputs": [],
   "source": [
    "file = r\"C:\\Users\\esimonds\\GitHub\\hiprbind-dataparser\\tempist_v_nimbus\\Test_Tempist_v_Nimbus.xlsx\""
   ]
  },
  {
   "cell_type": "code",
   "execution_count": 6,
   "metadata": {},
   "outputs": [],
   "source": [
    "signals_df = pd.read_excel(file, index_col=0)\n",
    "calcs_df = pd.read_excel(file, index_col=0, sheet_name=\"Calculations\")"
   ]
  },
  {
   "cell_type": "code",
   "execution_count": 65,
   "metadata": {},
   "outputs": [
    {
     "data": {
      "text/html": [
       "<div>\n",
       "<style scoped>\n",
       "    .dataframe tbody tr th:only-of-type {\n",
       "        vertical-align: middle;\n",
       "    }\n",
       "\n",
       "    .dataframe tbody tr th {\n",
       "        vertical-align: top;\n",
       "    }\n",
       "\n",
       "    .dataframe thead th {\n",
       "        text-align: right;\n",
       "    }\n",
       "</style>\n",
       "<table border=\"1\" class=\"dataframe\">\n",
       "  <thead>\n",
       "    <tr style=\"text-align: right;\">\n",
       "      <th></th>\n",
       "      <th>Id</th>\n",
       "      <th>Plate</th>\n",
       "      <th>Method</th>\n",
       "      <th>Sample</th>\n",
       "      <th>Well_Id</th>\n",
       "      <th>Volumes</th>\n",
       "      <th>Alpha</th>\n",
       "      <th>DNA</th>\n",
       "    </tr>\n",
       "  </thead>\n",
       "  <tbody>\n",
       "    <tr>\n",
       "      <th>0</th>\n",
       "      <td>P1-A10</td>\n",
       "      <td>P1</td>\n",
       "      <td>Nimbus</td>\n",
       "      <td>Experimental</td>\n",
       "      <td>A10</td>\n",
       "      <td>2.40000</td>\n",
       "      <td>13895</td>\n",
       "      <td>542273</td>\n",
       "    </tr>\n",
       "    <tr>\n",
       "      <th>1</th>\n",
       "      <td>P1-A10</td>\n",
       "      <td>P1</td>\n",
       "      <td>Nimbus</td>\n",
       "      <td>Experimental</td>\n",
       "      <td>A10</td>\n",
       "      <td>0.96000</td>\n",
       "      <td>64457</td>\n",
       "      <td>452602</td>\n",
       "    </tr>\n",
       "    <tr>\n",
       "      <th>2</th>\n",
       "      <td>P1-A10</td>\n",
       "      <td>P1</td>\n",
       "      <td>Nimbus</td>\n",
       "      <td>Experimental</td>\n",
       "      <td>A10</td>\n",
       "      <td>0.38400</td>\n",
       "      <td>104008</td>\n",
       "      <td>339458</td>\n",
       "    </tr>\n",
       "    <tr>\n",
       "      <th>3</th>\n",
       "      <td>P1-A10</td>\n",
       "      <td>P1</td>\n",
       "      <td>Nimbus</td>\n",
       "      <td>Experimental</td>\n",
       "      <td>A10</td>\n",
       "      <td>0.15360</td>\n",
       "      <td>232182</td>\n",
       "      <td>198559</td>\n",
       "    </tr>\n",
       "    <tr>\n",
       "      <th>4</th>\n",
       "      <td>P1-A10</td>\n",
       "      <td>P1</td>\n",
       "      <td>Nimbus</td>\n",
       "      <td>Experimental</td>\n",
       "      <td>A10</td>\n",
       "      <td>0.06144</td>\n",
       "      <td>199420</td>\n",
       "      <td>145085</td>\n",
       "    </tr>\n",
       "    <tr>\n",
       "      <th>5</th>\n",
       "      <td>P1-A10</td>\n",
       "      <td>P1</td>\n",
       "      <td>Nimbus</td>\n",
       "      <td>Experimental</td>\n",
       "      <td>A10</td>\n",
       "      <td>0.02458</td>\n",
       "      <td>88539</td>\n",
       "      <td>96682</td>\n",
       "    </tr>\n",
       "    <tr>\n",
       "      <th>6</th>\n",
       "      <td>P1-A10</td>\n",
       "      <td>P1</td>\n",
       "      <td>Nimbus</td>\n",
       "      <td>Experimental</td>\n",
       "      <td>A10</td>\n",
       "      <td>0.00983</td>\n",
       "      <td>24972</td>\n",
       "      <td>91422</td>\n",
       "    </tr>\n",
       "    <tr>\n",
       "      <th>7</th>\n",
       "      <td>P1-A10</td>\n",
       "      <td>P1</td>\n",
       "      <td>Nimbus</td>\n",
       "      <td>Experimental</td>\n",
       "      <td>A10</td>\n",
       "      <td>0.00393</td>\n",
       "      <td>7394</td>\n",
       "      <td>87828</td>\n",
       "    </tr>\n",
       "  </tbody>\n",
       "</table>\n",
       "</div>"
      ],
      "text/plain": [
       "       Id Plate  Method        Sample Well_Id  Volumes   Alpha     DNA\n",
       "0  P1-A10    P1  Nimbus  Experimental     A10  2.40000   13895  542273\n",
       "1  P1-A10    P1  Nimbus  Experimental     A10  0.96000   64457  452602\n",
       "2  P1-A10    P1  Nimbus  Experimental     A10  0.38400  104008  339458\n",
       "3  P1-A10    P1  Nimbus  Experimental     A10  0.15360  232182  198559\n",
       "4  P1-A10    P1  Nimbus  Experimental     A10  0.06144  199420  145085\n",
       "5  P1-A10    P1  Nimbus  Experimental     A10  0.02458   88539   96682\n",
       "6  P1-A10    P1  Nimbus  Experimental     A10  0.00983   24972   91422\n",
       "7  P1-A10    P1  Nimbus  Experimental     A10  0.00393    7394   87828"
      ]
     },
     "execution_count": 65,
     "metadata": {},
     "output_type": "execute_result"
    }
   ],
   "source": [
    "signals_df[signals_df[\"Id\"] == \"P1-A10\"]"
   ]
  },
  {
   "cell_type": "code",
   "execution_count": 8,
   "metadata": {},
   "outputs": [],
   "source": [
    "unique_ids = list(signals_df[\"Id\"].unique())"
   ]
  },
  {
   "cell_type": "code",
   "execution_count": 72,
   "metadata": {},
   "outputs": [],
   "source": [
    "signal_p1 = signals_df[(signals_df[\"Plate\"] == \"P1\") & (signals_df[\"Sample\"] == \"Experimental\")]\n",
    "standard_p1 = signals_df[(signals_df[\"Plate\"] == \"P1\") & (signals_df[\"Sample\"] == \"Standard\")]"
   ]
  },
  {
   "cell_type": "code",
   "execution_count": 73,
   "metadata": {},
   "outputs": [
    {
     "data": {
      "application/vnd.plotly.v1+json": {
       "config": {
        "plotlyServerURL": "https://plot.ly"
       },
       "data": [
        {
         "hovertemplate": "Well_Id=A01<br>Volumes=%{x}<br>Alpha=%{marker.size}<extra></extra>",
         "legendgroup": "A01",
         "marker": {
          "color": "#636efa",
          "size": [
           3347,
           1212,
           1099,
           982,
           2144,
           3446,
           3285,
           2022
          ],
          "sizemode": "area",
          "sizeref": 580.455,
          "symbol": "circle"
         },
         "mode": "lines+markers",
         "name": "A01",
         "orientation": "v",
         "showlegend": true,
         "type": "scatter",
         "x": [
          2.4,
          0.96,
          0.384,
          0.1536,
          0.06144,
          0.02458,
          0.00983,
          0.00393
         ],
         "xaxis": "x",
         "y": [
          3347,
          1212,
          1099,
          982,
          2144,
          3446,
          3285,
          2022
         ],
         "yaxis": "y"
        },
        {
         "hovertemplate": "Well_Id=A02<br>Volumes=%{x}<br>Alpha=%{marker.size}<extra></extra>",
         "legendgroup": "A02",
         "marker": {
          "color": "#EF553B",
          "size": [
           1095,
           914,
           763,
           986,
           1635,
           3269,
           2961,
           1700
          ],
          "sizemode": "area",
          "sizeref": 580.455,
          "symbol": "circle"
         },
         "mode": "lines+markers",
         "name": "A02",
         "orientation": "v",
         "showlegend": true,
         "type": "scatter",
         "x": [
          2.4,
          0.96,
          0.384,
          0.1536,
          0.06144,
          0.02458,
          0.00983,
          0.00393
         ],
         "xaxis": "x",
         "y": [
          1095,
          914,
          763,
          986,
          1635,
          3269,
          2961,
          1700
         ],
         "yaxis": "y"
        },
        {
         "hovertemplate": "Well_Id=A03<br>Volumes=%{x}<br>Alpha=%{marker.size}<extra></extra>",
         "legendgroup": "A03",
         "marker": {
          "color": "#00cc96",
          "size": [
           928,
           844,
           877,
           1366,
           1243,
           4695,
           2604,
           1549
          ],
          "sizemode": "area",
          "sizeref": 580.455,
          "symbol": "circle"
         },
         "mode": "lines+markers",
         "name": "A03",
         "orientation": "v",
         "showlegend": true,
         "type": "scatter",
         "x": [
          2.4,
          0.96,
          0.384,
          0.1536,
          0.06144,
          0.02458,
          0.00983,
          0.00393
         ],
         "xaxis": "x",
         "y": [
          928,
          844,
          877,
          1366,
          1243,
          4695,
          2604,
          1549
         ],
         "yaxis": "y"
        },
        {
         "hovertemplate": "Well_Id=A04<br>Volumes=%{x}<br>Alpha=%{marker.size}<extra></extra>",
         "legendgroup": "A04",
         "marker": {
          "color": "#ab63fa",
          "size": [
           17727,
           60735,
           100538,
           161911,
           142696,
           60847,
           17337,
           4918
          ],
          "sizemode": "area",
          "sizeref": 580.455,
          "symbol": "circle"
         },
         "mode": "lines+markers",
         "name": "A04",
         "orientation": "v",
         "showlegend": true,
         "type": "scatter",
         "x": [
          2.4,
          0.96,
          0.384,
          0.1536,
          0.06144,
          0.02458,
          0.00983,
          0.00393
         ],
         "xaxis": "x",
         "y": [
          17727,
          60735,
          100538,
          161911,
          142696,
          60847,
          17337,
          4918
         ],
         "yaxis": "y"
        },
        {
         "hovertemplate": "Well_Id=A05<br>Volumes=%{x}<br>Alpha=%{marker.size}<extra></extra>",
         "legendgroup": "A05",
         "marker": {
          "color": "#FFA15A",
          "size": [
           7288,
           37859,
           89520,
           143539,
           139190,
           51800,
           17732,
           4860
          ],
          "sizemode": "area",
          "sizeref": 580.455,
          "symbol": "circle"
         },
         "mode": "lines+markers",
         "name": "A05",
         "orientation": "v",
         "showlegend": true,
         "type": "scatter",
         "x": [
          2.4,
          0.96,
          0.384,
          0.1536,
          0.06144,
          0.02458,
          0.00983,
          0.00393
         ],
         "xaxis": "x",
         "y": [
          7288,
          37859,
          89520,
          143539,
          139190,
          51800,
          17732,
          4860
         ],
         "yaxis": "y"
        },
        {
         "hovertemplate": "Well_Id=A06<br>Volumes=%{x}<br>Alpha=%{marker.size}<extra></extra>",
         "legendgroup": "A06",
         "marker": {
          "color": "#19d3f3",
          "size": [
           13486,
           62161,
           94151,
           134950,
           142961,
           46939,
           15487,
           4435
          ],
          "sizemode": "area",
          "sizeref": 580.455,
          "symbol": "circle"
         },
         "mode": "lines+markers",
         "name": "A06",
         "orientation": "v",
         "showlegend": true,
         "type": "scatter",
         "x": [
          2.4,
          0.96,
          0.384,
          0.1536,
          0.06144,
          0.02458,
          0.00983,
          0.00393
         ],
         "xaxis": "x",
         "y": [
          13486,
          62161,
          94151,
          134950,
          142961,
          46939,
          15487,
          4435
         ],
         "yaxis": "y"
        },
        {
         "hovertemplate": "Well_Id=A07<br>Volumes=%{x}<br>Alpha=%{marker.size}<extra></extra>",
         "legendgroup": "A07",
         "marker": {
          "color": "#FF6692",
          "size": [
           12634,
           39308,
           102308,
           136696,
           136489,
           57776,
           16283,
           4752
          ],
          "sizemode": "area",
          "sizeref": 580.455,
          "symbol": "circle"
         },
         "mode": "lines+markers",
         "name": "A07",
         "orientation": "v",
         "showlegend": true,
         "type": "scatter",
         "x": [
          2.4,
          0.96,
          0.384,
          0.1536,
          0.06144,
          0.02458,
          0.00983,
          0.00393
         ],
         "xaxis": "x",
         "y": [
          12634,
          39308,
          102308,
          136696,
          136489,
          57776,
          16283,
          4752
         ],
         "yaxis": "y"
        },
        {
         "hovertemplate": "Well_Id=A08<br>Volumes=%{x}<br>Alpha=%{marker.size}<extra></extra>",
         "legendgroup": "A08",
         "marker": {
          "color": "#B6E880",
          "size": [
           16086,
           59387,
           104020,
           155559,
           147274,
           61611,
           17774,
           5176
          ],
          "sizemode": "area",
          "sizeref": 580.455,
          "symbol": "circle"
         },
         "mode": "lines+markers",
         "name": "A08",
         "orientation": "v",
         "showlegend": true,
         "type": "scatter",
         "x": [
          2.4,
          0.96,
          0.384,
          0.1536,
          0.06144,
          0.02458,
          0.00983,
          0.00393
         ],
         "xaxis": "x",
         "y": [
          16086,
          59387,
          104020,
          155559,
          147274,
          61611,
          17774,
          5176
         ],
         "yaxis": "y"
        },
        {
         "hovertemplate": "Well_Id=A09<br>Volumes=%{x}<br>Alpha=%{marker.size}<extra></extra>",
         "legendgroup": "A09",
         "marker": {
          "color": "#FF97FF",
          "size": [
           16154,
           49680,
           105845,
           183754,
           143580,
           54536,
           15258,
           4502
          ],
          "sizemode": "area",
          "sizeref": 580.455,
          "symbol": "circle"
         },
         "mode": "lines+markers",
         "name": "A09",
         "orientation": "v",
         "showlegend": true,
         "type": "scatter",
         "x": [
          2.4,
          0.96,
          0.384,
          0.1536,
          0.06144,
          0.02458,
          0.00983,
          0.00393
         ],
         "xaxis": "x",
         "y": [
          16154,
          49680,
          105845,
          183754,
          143580,
          54536,
          15258,
          4502
         ],
         "yaxis": "y"
        },
        {
         "hovertemplate": "Well_Id=A10<br>Volumes=%{x}<br>Alpha=%{marker.size}<extra></extra>",
         "legendgroup": "A10",
         "marker": {
          "color": "#FECB52",
          "size": [
           13895,
           64457,
           104008,
           232182,
           199420,
           88539,
           24972,
           7394
          ],
          "sizemode": "area",
          "sizeref": 580.455,
          "symbol": "circle"
         },
         "mode": "lines+markers",
         "name": "A10",
         "orientation": "v",
         "showlegend": true,
         "type": "scatter",
         "x": [
          2.4,
          0.96,
          0.384,
          0.1536,
          0.06144,
          0.02458,
          0.00983,
          0.00393
         ],
         "xaxis": "x",
         "y": [
          13895,
          64457,
          104008,
          232182,
          199420,
          88539,
          24972,
          7394
         ],
         "yaxis": "y"
        },
        {
         "hovertemplate": "Well_Id=A11<br>Volumes=%{x}<br>Alpha=%{marker.size}<extra></extra>",
         "legendgroup": "A11",
         "marker": {
          "color": "#636efa",
          "size": [
           7620,
           47904,
           71189,
           175323,
           187542,
           103695,
           35361,
           10300
          ],
          "sizemode": "area",
          "sizeref": 580.455,
          "symbol": "circle"
         },
         "mode": "lines+markers",
         "name": "A11",
         "orientation": "v",
         "showlegend": true,
         "type": "scatter",
         "x": [
          2.4,
          0.96,
          0.384,
          0.1536,
          0.06144,
          0.02458,
          0.00983,
          0.00393
         ],
         "xaxis": "x",
         "y": [
          7620,
          47904,
          71189,
          175323,
          187542,
          103695,
          35361,
          10300
         ],
         "yaxis": "y"
        },
        {
         "hovertemplate": "Well_Id=A12<br>Volumes=%{x}<br>Alpha=%{marker.size}<extra></extra>",
         "legendgroup": "A12",
         "marker": {
          "color": "#EF553B",
          "size": [
           12026,
           42898,
           67279,
           129735,
           205343,
           103185,
           30132,
           8087
          ],
          "sizemode": "area",
          "sizeref": 580.455,
          "symbol": "circle"
         },
         "mode": "lines+markers",
         "name": "A12",
         "orientation": "v",
         "showlegend": true,
         "type": "scatter",
         "x": [
          2.4,
          0.96,
          0.384,
          0.1536,
          0.06144,
          0.02458,
          0.00983,
          0.00393
         ],
         "xaxis": "x",
         "y": [
          12026,
          42898,
          67279,
          129735,
          205343,
          103185,
          30132,
          8087
         ],
         "yaxis": "y"
        },
        {
         "hovertemplate": "Well_Id=B01<br>Volumes=%{x}<br>Alpha=%{marker.size}<extra></extra>",
         "legendgroup": "B01",
         "marker": {
          "color": "#00cc96",
          "size": [
           710,
           803,
           838,
           820,
           996,
           853,
           1111,
           1156
          ],
          "sizemode": "area",
          "sizeref": 580.455,
          "symbol": "circle"
         },
         "mode": "lines+markers",
         "name": "B01",
         "orientation": "v",
         "showlegend": true,
         "type": "scatter",
         "x": [
          2.4,
          0.96,
          0.384,
          0.1536,
          0.06144,
          0.02458,
          0.00983,
          0.00393
         ],
         "xaxis": "x",
         "y": [
          710,
          803,
          838,
          820,
          996,
          853,
          1111,
          1156
         ],
         "yaxis": "y"
        },
        {
         "hovertemplate": "Well_Id=B02<br>Volumes=%{x}<br>Alpha=%{marker.size}<extra></extra>",
         "legendgroup": "B02",
         "marker": {
          "color": "#ab63fa",
          "size": [
           750,
           744,
           744,
           803,
           853,
           836,
           793,
           735
          ],
          "sizemode": "area",
          "sizeref": 580.455,
          "symbol": "circle"
         },
         "mode": "lines+markers",
         "name": "B02",
         "orientation": "v",
         "showlegend": true,
         "type": "scatter",
         "x": [
          2.4,
          0.96,
          0.384,
          0.1536,
          0.06144,
          0.02458,
          0.00983,
          0.00393
         ],
         "xaxis": "x",
         "y": [
          750,
          744,
          744,
          803,
          853,
          836,
          793,
          735
         ],
         "yaxis": "y"
        },
        {
         "hovertemplate": "Well_Id=B03<br>Volumes=%{x}<br>Alpha=%{marker.size}<extra></extra>",
         "legendgroup": "B03",
         "marker": {
          "color": "#FFA15A",
          "size": [
           601,
           784,
           716,
           605,
           737,
           795,
           758,
           780
          ],
          "sizemode": "area",
          "sizeref": 580.455,
          "symbol": "circle"
         },
         "mode": "lines+markers",
         "name": "B03",
         "orientation": "v",
         "showlegend": true,
         "type": "scatter",
         "x": [
          2.4,
          0.96,
          0.384,
          0.1536,
          0.06144,
          0.02458,
          0.00983,
          0.00393
         ],
         "xaxis": "x",
         "y": [
          601,
          784,
          716,
          605,
          737,
          795,
          758,
          780
         ],
         "yaxis": "y"
        },
        {
         "hovertemplate": "Well_Id=B04<br>Volumes=%{x}<br>Alpha=%{marker.size}<extra></extra>",
         "legendgroup": "B04",
         "marker": {
          "color": "#19d3f3",
          "size": [
           680,
           801,
           706,
           711,
           781,
           863,
           821,
           821
          ],
          "sizemode": "area",
          "sizeref": 580.455,
          "symbol": "circle"
         },
         "mode": "lines+markers",
         "name": "B04",
         "orientation": "v",
         "showlegend": true,
         "type": "scatter",
         "x": [
          2.4,
          0.96,
          0.384,
          0.1536,
          0.06144,
          0.02458,
          0.00983,
          0.00393
         ],
         "xaxis": "x",
         "y": [
          680,
          801,
          706,
          711,
          781,
          863,
          821,
          821
         ],
         "yaxis": "y"
        },
        {
         "hovertemplate": "Well_Id=B05<br>Volumes=%{x}<br>Alpha=%{marker.size}<extra></extra>",
         "legendgroup": "B05",
         "marker": {
          "color": "#FF6692",
          "size": [
           683,
           910,
           901,
           1006,
           818,
           958,
           788,
           809
          ],
          "sizemode": "area",
          "sizeref": 580.455,
          "symbol": "circle"
         },
         "mode": "lines+markers",
         "name": "B05",
         "orientation": "v",
         "showlegend": true,
         "type": "scatter",
         "x": [
          2.4,
          0.96,
          0.384,
          0.1536,
          0.06144,
          0.02458,
          0.00983,
          0.00393
         ],
         "xaxis": "x",
         "y": [
          683,
          910,
          901,
          1006,
          818,
          958,
          788,
          809
         ],
         "yaxis": "y"
        },
        {
         "hovertemplate": "Well_Id=B06<br>Volumes=%{x}<br>Alpha=%{marker.size}<extra></extra>",
         "legendgroup": "B06",
         "marker": {
          "color": "#B6E880",
          "size": [
           685,
           687,
           827,
           892,
           823,
           769,
           825,
           821
          ],
          "sizemode": "area",
          "sizeref": 580.455,
          "symbol": "circle"
         },
         "mode": "lines+markers",
         "name": "B06",
         "orientation": "v",
         "showlegend": true,
         "type": "scatter",
         "x": [
          2.4,
          0.96,
          0.384,
          0.1536,
          0.06144,
          0.02458,
          0.00983,
          0.00393
         ],
         "xaxis": "x",
         "y": [
          685,
          687,
          827,
          892,
          823,
          769,
          825,
          821
         ],
         "yaxis": "y"
        },
        {
         "hovertemplate": "Well_Id=B07<br>Volumes=%{x}<br>Alpha=%{marker.size}<extra></extra>",
         "legendgroup": "B07",
         "marker": {
          "color": "#FF97FF",
          "size": [
           902,
           730,
           810,
           791,
           764,
           791,
           826,
           836
          ],
          "sizemode": "area",
          "sizeref": 580.455,
          "symbol": "circle"
         },
         "mode": "lines+markers",
         "name": "B07",
         "orientation": "v",
         "showlegend": true,
         "type": "scatter",
         "x": [
          2.4,
          0.96,
          0.384,
          0.1536,
          0.06144,
          0.02458,
          0.00983,
          0.00393
         ],
         "xaxis": "x",
         "y": [
          902,
          730,
          810,
          791,
          764,
          791,
          826,
          836
         ],
         "yaxis": "y"
        },
        {
         "hovertemplate": "Well_Id=B08<br>Volumes=%{x}<br>Alpha=%{marker.size}<extra></extra>",
         "legendgroup": "B08",
         "marker": {
          "color": "#FECB52",
          "size": [
           723,
           799,
           747,
           825,
           894,
           868,
           792,
           764
          ],
          "sizemode": "area",
          "sizeref": 580.455,
          "symbol": "circle"
         },
         "mode": "lines+markers",
         "name": "B08",
         "orientation": "v",
         "showlegend": true,
         "type": "scatter",
         "x": [
          2.4,
          0.96,
          0.384,
          0.1536,
          0.06144,
          0.02458,
          0.00983,
          0.00393
         ],
         "xaxis": "x",
         "y": [
          723,
          799,
          747,
          825,
          894,
          868,
          792,
          764
         ],
         "yaxis": "y"
        },
        {
         "hovertemplate": "Well_Id=B09<br>Volumes=%{x}<br>Alpha=%{marker.size}<extra></extra>",
         "legendgroup": "B09",
         "marker": {
          "color": "#636efa",
          "size": [
           750,
           833,
           831,
           872,
           828,
           792,
           901,
           854
          ],
          "sizemode": "area",
          "sizeref": 580.455,
          "symbol": "circle"
         },
         "mode": "lines+markers",
         "name": "B09",
         "orientation": "v",
         "showlegend": true,
         "type": "scatter",
         "x": [
          2.4,
          0.96,
          0.384,
          0.1536,
          0.06144,
          0.02458,
          0.00983,
          0.00393
         ],
         "xaxis": "x",
         "y": [
          750,
          833,
          831,
          872,
          828,
          792,
          901,
          854
         ],
         "yaxis": "y"
        },
        {
         "hovertemplate": "Well_Id=B10<br>Volumes=%{x}<br>Alpha=%{marker.size}<extra></extra>",
         "legendgroup": "B10",
         "marker": {
          "color": "#EF553B",
          "size": [
           798,
           740,
           761,
           776,
           802,
           880,
           886,
           816
          ],
          "sizemode": "area",
          "sizeref": 580.455,
          "symbol": "circle"
         },
         "mode": "lines+markers",
         "name": "B10",
         "orientation": "v",
         "showlegend": true,
         "type": "scatter",
         "x": [
          2.4,
          0.96,
          0.384,
          0.1536,
          0.06144,
          0.02458,
          0.00983,
          0.00393
         ],
         "xaxis": "x",
         "y": [
          798,
          740,
          761,
          776,
          802,
          880,
          886,
          816
         ],
         "yaxis": "y"
        },
        {
         "hovertemplate": "Well_Id=B11<br>Volumes=%{x}<br>Alpha=%{marker.size}<extra></extra>",
         "legendgroup": "B11",
         "marker": {
          "color": "#00cc96",
          "size": [
           787,
           737,
           824,
           862,
           870,
           878,
           853,
           862
          ],
          "sizemode": "area",
          "sizeref": 580.455,
          "symbol": "circle"
         },
         "mode": "lines+markers",
         "name": "B11",
         "orientation": "v",
         "showlegend": true,
         "type": "scatter",
         "x": [
          2.4,
          0.96,
          0.384,
          0.1536,
          0.06144,
          0.02458,
          0.00983,
          0.00393
         ],
         "xaxis": "x",
         "y": [
          787,
          737,
          824,
          862,
          870,
          878,
          853,
          862
         ],
         "yaxis": "y"
        },
        {
         "hovertemplate": "Well_Id=B12<br>Volumes=%{x}<br>Alpha=%{marker.size}<extra></extra>",
         "legendgroup": "B12",
         "marker": {
          "color": "#ab63fa",
          "size": [
           826,
           939,
           896,
           813,
           851,
           866,
           853,
           970
          ],
          "sizemode": "area",
          "sizeref": 580.455,
          "symbol": "circle"
         },
         "mode": "lines+markers",
         "name": "B12",
         "orientation": "v",
         "showlegend": true,
         "type": "scatter",
         "x": [
          2.4,
          0.96,
          0.384,
          0.1536,
          0.06144,
          0.02458,
          0.00983,
          0.00393
         ],
         "xaxis": "x",
         "y": [
          826,
          939,
          896,
          813,
          851,
          866,
          853,
          970
         ],
         "yaxis": "y"
        },
        {
         "hovertemplate": "Well_Id=C01<br>Volumes=%{x}<br>Alpha=%{marker.size}<extra></extra>",
         "legendgroup": "C01",
         "marker": {
          "color": "#FFA15A",
          "size": [
           3935,
           1599,
           1034,
           956,
           1272,
           2702,
           3052,
           2171
          ],
          "sizemode": "area",
          "sizeref": 580.455,
          "symbol": "circle"
         },
         "mode": "lines+markers",
         "name": "C01",
         "orientation": "v",
         "showlegend": true,
         "type": "scatter",
         "x": [
          2.4,
          0.96,
          0.384,
          0.1536,
          0.06144,
          0.02458,
          0.00983,
          0.00393
         ],
         "xaxis": "x",
         "y": [
          3935,
          1599,
          1034,
          956,
          1272,
          2702,
          3052,
          2171
         ],
         "yaxis": "y"
        },
        {
         "hovertemplate": "Well_Id=C02<br>Volumes=%{x}<br>Alpha=%{marker.size}<extra></extra>",
         "legendgroup": "C02",
         "marker": {
          "color": "#19d3f3",
          "size": [
           1103,
           717,
           910,
           856,
           2042,
           3399,
           2895,
           1944
          ],
          "sizemode": "area",
          "sizeref": 580.455,
          "symbol": "circle"
         },
         "mode": "lines+markers",
         "name": "C02",
         "orientation": "v",
         "showlegend": true,
         "type": "scatter",
         "x": [
          2.4,
          0.96,
          0.384,
          0.1536,
          0.06144,
          0.02458,
          0.00983,
          0.00393
         ],
         "xaxis": "x",
         "y": [
          1103,
          717,
          910,
          856,
          2042,
          3399,
          2895,
          1944
         ],
         "yaxis": "y"
        },
        {
         "hovertemplate": "Well_Id=C03<br>Volumes=%{x}<br>Alpha=%{marker.size}<extra></extra>",
         "legendgroup": "C03",
         "marker": {
          "color": "#FF6692",
          "size": [
           1103,
           770,
           759,
           883,
           1493,
           2887,
           3457,
           2337
          ],
          "sizemode": "area",
          "sizeref": 580.455,
          "symbol": "circle"
         },
         "mode": "lines+markers",
         "name": "C03",
         "orientation": "v",
         "showlegend": true,
         "type": "scatter",
         "x": [
          2.4,
          0.96,
          0.384,
          0.1536,
          0.06144,
          0.02458,
          0.00983,
          0.00393
         ],
         "xaxis": "x",
         "y": [
          1103,
          770,
          759,
          883,
          1493,
          2887,
          3457,
          2337
         ],
         "yaxis": "y"
        },
        {
         "hovertemplate": "Well_Id=C04<br>Volumes=%{x}<br>Alpha=%{marker.size}<extra></extra>",
         "legendgroup": "C04",
         "marker": {
          "color": "#B6E880",
          "size": [
           9021,
           24494,
           75915,
           133242,
           145002,
           88685,
           24601,
           8215
          ],
          "sizemode": "area",
          "sizeref": 580.455,
          "symbol": "circle"
         },
         "mode": "lines+markers",
         "name": "C04",
         "orientation": "v",
         "showlegend": true,
         "type": "scatter",
         "x": [
          2.4,
          0.96,
          0.384,
          0.1536,
          0.06144,
          0.02458,
          0.00983,
          0.00393
         ],
         "xaxis": "x",
         "y": [
          9021,
          24494,
          75915,
          133242,
          145002,
          88685,
          24601,
          8215
         ],
         "yaxis": "y"
        },
        {
         "hovertemplate": "Well_Id=C05<br>Volumes=%{x}<br>Alpha=%{marker.size}<extra></extra>",
         "legendgroup": "C05",
         "marker": {
          "color": "#FF97FF",
          "size": [
           6694,
           20638,
           63984,
           108749,
           143399,
           80447,
           29076,
           8050
          ],
          "sizemode": "area",
          "sizeref": 580.455,
          "symbol": "circle"
         },
         "mode": "lines+markers",
         "name": "C05",
         "orientation": "v",
         "showlegend": true,
         "type": "scatter",
         "x": [
          2.4,
          0.96,
          0.384,
          0.1536,
          0.06144,
          0.02458,
          0.00983,
          0.00393
         ],
         "xaxis": "x",
         "y": [
          6694,
          20638,
          63984,
          108749,
          143399,
          80447,
          29076,
          8050
         ],
         "yaxis": "y"
        },
        {
         "hovertemplate": "Well_Id=C06<br>Volumes=%{x}<br>Alpha=%{marker.size}<extra></extra>",
         "legendgroup": "C06",
         "marker": {
          "color": "#FECB52",
          "size": [
           9781,
           39365,
           88422,
           148139,
           158939,
           83204,
           25658,
           7237
          ],
          "sizemode": "area",
          "sizeref": 580.455,
          "symbol": "circle"
         },
         "mode": "lines+markers",
         "name": "C06",
         "orientation": "v",
         "showlegend": true,
         "type": "scatter",
         "x": [
          2.4,
          0.96,
          0.384,
          0.1536,
          0.06144,
          0.02458,
          0.00983,
          0.00393
         ],
         "xaxis": "x",
         "y": [
          9781,
          39365,
          88422,
          148139,
          158939,
          83204,
          25658,
          7237
         ],
         "yaxis": "y"
        },
        {
         "hovertemplate": "Well_Id=C07<br>Volumes=%{x}<br>Alpha=%{marker.size}<extra></extra>",
         "legendgroup": "C07",
         "marker": {
          "color": "#636efa",
          "size": [
           8829,
           27457,
           73010,
           114368,
           173165,
           88507,
           27204,
           7620
          ],
          "sizemode": "area",
          "sizeref": 580.455,
          "symbol": "circle"
         },
         "mode": "lines+markers",
         "name": "C07",
         "orientation": "v",
         "showlegend": true,
         "type": "scatter",
         "x": [
          2.4,
          0.96,
          0.384,
          0.1536,
          0.06144,
          0.02458,
          0.00983,
          0.00393
         ],
         "xaxis": "x",
         "y": [
          8829,
          27457,
          73010,
          114368,
          173165,
          88507,
          27204,
          7620
         ],
         "yaxis": "y"
        },
        {
         "hovertemplate": "Well_Id=C08<br>Volumes=%{x}<br>Alpha=%{marker.size}<extra></extra>",
         "legendgroup": "C08",
         "marker": {
          "color": "#EF553B",
          "size": [
           7624,
           18169,
           80737,
           139873,
           172475,
           98499,
           32012,
           8921
          ],
          "sizemode": "area",
          "sizeref": 580.455,
          "symbol": "circle"
         },
         "mode": "lines+markers",
         "name": "C08",
         "orientation": "v",
         "showlegend": true,
         "type": "scatter",
         "x": [
          2.4,
          0.96,
          0.384,
          0.1536,
          0.06144,
          0.02458,
          0.00983,
          0.00393
         ],
         "xaxis": "x",
         "y": [
          7624,
          18169,
          80737,
          139873,
          172475,
          98499,
          32012,
          8921
         ],
         "yaxis": "y"
        },
        {
         "hovertemplate": "Well_Id=C09<br>Volumes=%{x}<br>Alpha=%{marker.size}<extra></extra>",
         "legendgroup": "C09",
         "marker": {
          "color": "#00cc96",
          "size": [
           10438,
           45625,
           87791,
           154766,
           154141,
           74805,
           22009,
           5955
          ],
          "sizemode": "area",
          "sizeref": 580.455,
          "symbol": "circle"
         },
         "mode": "lines+markers",
         "name": "C09",
         "orientation": "v",
         "showlegend": true,
         "type": "scatter",
         "x": [
          2.4,
          0.96,
          0.384,
          0.1536,
          0.06144,
          0.02458,
          0.00983,
          0.00393
         ],
         "xaxis": "x",
         "y": [
          10438,
          45625,
          87791,
          154766,
          154141,
          74805,
          22009,
          5955
         ],
         "yaxis": "y"
        },
        {
         "hovertemplate": "Well_Id=C10<br>Volumes=%{x}<br>Alpha=%{marker.size}<extra></extra>",
         "legendgroup": "C10",
         "marker": {
          "color": "#ab63fa",
          "size": [
           11858,
           41422,
           64239,
           164893,
           230620,
           143019,
           50530,
           14486
          ],
          "sizemode": "area",
          "sizeref": 580.455,
          "symbol": "circle"
         },
         "mode": "lines+markers",
         "name": "C10",
         "orientation": "v",
         "showlegend": true,
         "type": "scatter",
         "x": [
          2.4,
          0.96,
          0.384,
          0.1536,
          0.06144,
          0.02458,
          0.00983,
          0.00393
         ],
         "xaxis": "x",
         "y": [
          11858,
          41422,
          64239,
          164893,
          230620,
          143019,
          50530,
          14486
         ],
         "yaxis": "y"
        },
        {
         "hovertemplate": "Well_Id=C11<br>Volumes=%{x}<br>Alpha=%{marker.size}<extra></extra>",
         "legendgroup": "C11",
         "marker": {
          "color": "#FFA15A",
          "size": [
           6353,
           26327,
           45256,
           103125,
           154781,
           168633,
           69896,
           21311
          ],
          "sizemode": "area",
          "sizeref": 580.455,
          "symbol": "circle"
         },
         "mode": "lines+markers",
         "name": "C11",
         "orientation": "v",
         "showlegend": true,
         "type": "scatter",
         "x": [
          2.4,
          0.96,
          0.384,
          0.1536,
          0.06144,
          0.02458,
          0.00983,
          0.00393
         ],
         "xaxis": "x",
         "y": [
          6353,
          26327,
          45256,
          103125,
          154781,
          168633,
          69896,
          21311
         ],
         "yaxis": "y"
        },
        {
         "hovertemplate": "Well_Id=C12<br>Volumes=%{x}<br>Alpha=%{marker.size}<extra></extra>",
         "legendgroup": "C12",
         "marker": {
          "color": "#19d3f3",
          "size": [
           5444,
           30964,
           54709,
           133279,
           204341,
           134009,
           47979,
           13361
          ],
          "sizemode": "area",
          "sizeref": 580.455,
          "symbol": "circle"
         },
         "mode": "lines+markers",
         "name": "C12",
         "orientation": "v",
         "showlegend": true,
         "type": "scatter",
         "x": [
          2.4,
          0.96,
          0.384,
          0.1536,
          0.06144,
          0.02458,
          0.00983,
          0.00393
         ],
         "xaxis": "x",
         "y": [
          5444,
          30964,
          54709,
          133279,
          204341,
          134009,
          47979,
          13361
         ],
         "yaxis": "y"
        }
       ],
       "layout": {
        "legend": {
         "itemsizing": "constant",
         "title": {
          "text": "Well_Id"
         },
         "tracegroupgap": 0
        },
        "margin": {
         "t": 60
        },
        "template": {
         "data": {
          "bar": [
           {
            "error_x": {
             "color": "#2a3f5f"
            },
            "error_y": {
             "color": "#2a3f5f"
            },
            "marker": {
             "line": {
              "color": "#E5ECF6",
              "width": 0.5
             }
            },
            "type": "bar"
           }
          ],
          "barpolar": [
           {
            "marker": {
             "line": {
              "color": "#E5ECF6",
              "width": 0.5
             }
            },
            "type": "barpolar"
           }
          ],
          "carpet": [
           {
            "aaxis": {
             "endlinecolor": "#2a3f5f",
             "gridcolor": "white",
             "linecolor": "white",
             "minorgridcolor": "white",
             "startlinecolor": "#2a3f5f"
            },
            "baxis": {
             "endlinecolor": "#2a3f5f",
             "gridcolor": "white",
             "linecolor": "white",
             "minorgridcolor": "white",
             "startlinecolor": "#2a3f5f"
            },
            "type": "carpet"
           }
          ],
          "choropleth": [
           {
            "colorbar": {
             "outlinewidth": 0,
             "ticks": ""
            },
            "type": "choropleth"
           }
          ],
          "contour": [
           {
            "colorbar": {
             "outlinewidth": 0,
             "ticks": ""
            },
            "colorscale": [
             [
              0,
              "#0d0887"
             ],
             [
              0.1111111111111111,
              "#46039f"
             ],
             [
              0.2222222222222222,
              "#7201a8"
             ],
             [
              0.3333333333333333,
              "#9c179e"
             ],
             [
              0.4444444444444444,
              "#bd3786"
             ],
             [
              0.5555555555555556,
              "#d8576b"
             ],
             [
              0.6666666666666666,
              "#ed7953"
             ],
             [
              0.7777777777777778,
              "#fb9f3a"
             ],
             [
              0.8888888888888888,
              "#fdca26"
             ],
             [
              1,
              "#f0f921"
             ]
            ],
            "type": "contour"
           }
          ],
          "contourcarpet": [
           {
            "colorbar": {
             "outlinewidth": 0,
             "ticks": ""
            },
            "type": "contourcarpet"
           }
          ],
          "heatmap": [
           {
            "colorbar": {
             "outlinewidth": 0,
             "ticks": ""
            },
            "colorscale": [
             [
              0,
              "#0d0887"
             ],
             [
              0.1111111111111111,
              "#46039f"
             ],
             [
              0.2222222222222222,
              "#7201a8"
             ],
             [
              0.3333333333333333,
              "#9c179e"
             ],
             [
              0.4444444444444444,
              "#bd3786"
             ],
             [
              0.5555555555555556,
              "#d8576b"
             ],
             [
              0.6666666666666666,
              "#ed7953"
             ],
             [
              0.7777777777777778,
              "#fb9f3a"
             ],
             [
              0.8888888888888888,
              "#fdca26"
             ],
             [
              1,
              "#f0f921"
             ]
            ],
            "type": "heatmap"
           }
          ],
          "heatmapgl": [
           {
            "colorbar": {
             "outlinewidth": 0,
             "ticks": ""
            },
            "colorscale": [
             [
              0,
              "#0d0887"
             ],
             [
              0.1111111111111111,
              "#46039f"
             ],
             [
              0.2222222222222222,
              "#7201a8"
             ],
             [
              0.3333333333333333,
              "#9c179e"
             ],
             [
              0.4444444444444444,
              "#bd3786"
             ],
             [
              0.5555555555555556,
              "#d8576b"
             ],
             [
              0.6666666666666666,
              "#ed7953"
             ],
             [
              0.7777777777777778,
              "#fb9f3a"
             ],
             [
              0.8888888888888888,
              "#fdca26"
             ],
             [
              1,
              "#f0f921"
             ]
            ],
            "type": "heatmapgl"
           }
          ],
          "histogram": [
           {
            "marker": {
             "colorbar": {
              "outlinewidth": 0,
              "ticks": ""
             }
            },
            "type": "histogram"
           }
          ],
          "histogram2d": [
           {
            "colorbar": {
             "outlinewidth": 0,
             "ticks": ""
            },
            "colorscale": [
             [
              0,
              "#0d0887"
             ],
             [
              0.1111111111111111,
              "#46039f"
             ],
             [
              0.2222222222222222,
              "#7201a8"
             ],
             [
              0.3333333333333333,
              "#9c179e"
             ],
             [
              0.4444444444444444,
              "#bd3786"
             ],
             [
              0.5555555555555556,
              "#d8576b"
             ],
             [
              0.6666666666666666,
              "#ed7953"
             ],
             [
              0.7777777777777778,
              "#fb9f3a"
             ],
             [
              0.8888888888888888,
              "#fdca26"
             ],
             [
              1,
              "#f0f921"
             ]
            ],
            "type": "histogram2d"
           }
          ],
          "histogram2dcontour": [
           {
            "colorbar": {
             "outlinewidth": 0,
             "ticks": ""
            },
            "colorscale": [
             [
              0,
              "#0d0887"
             ],
             [
              0.1111111111111111,
              "#46039f"
             ],
             [
              0.2222222222222222,
              "#7201a8"
             ],
             [
              0.3333333333333333,
              "#9c179e"
             ],
             [
              0.4444444444444444,
              "#bd3786"
             ],
             [
              0.5555555555555556,
              "#d8576b"
             ],
             [
              0.6666666666666666,
              "#ed7953"
             ],
             [
              0.7777777777777778,
              "#fb9f3a"
             ],
             [
              0.8888888888888888,
              "#fdca26"
             ],
             [
              1,
              "#f0f921"
             ]
            ],
            "type": "histogram2dcontour"
           }
          ],
          "mesh3d": [
           {
            "colorbar": {
             "outlinewidth": 0,
             "ticks": ""
            },
            "type": "mesh3d"
           }
          ],
          "parcoords": [
           {
            "line": {
             "colorbar": {
              "outlinewidth": 0,
              "ticks": ""
             }
            },
            "type": "parcoords"
           }
          ],
          "pie": [
           {
            "automargin": true,
            "type": "pie"
           }
          ],
          "scatter": [
           {
            "marker": {
             "colorbar": {
              "outlinewidth": 0,
              "ticks": ""
             }
            },
            "type": "scatter"
           }
          ],
          "scatter3d": [
           {
            "line": {
             "colorbar": {
              "outlinewidth": 0,
              "ticks": ""
             }
            },
            "marker": {
             "colorbar": {
              "outlinewidth": 0,
              "ticks": ""
             }
            },
            "type": "scatter3d"
           }
          ],
          "scattercarpet": [
           {
            "marker": {
             "colorbar": {
              "outlinewidth": 0,
              "ticks": ""
             }
            },
            "type": "scattercarpet"
           }
          ],
          "scattergeo": [
           {
            "marker": {
             "colorbar": {
              "outlinewidth": 0,
              "ticks": ""
             }
            },
            "type": "scattergeo"
           }
          ],
          "scattergl": [
           {
            "marker": {
             "colorbar": {
              "outlinewidth": 0,
              "ticks": ""
             }
            },
            "type": "scattergl"
           }
          ],
          "scattermapbox": [
           {
            "marker": {
             "colorbar": {
              "outlinewidth": 0,
              "ticks": ""
             }
            },
            "type": "scattermapbox"
           }
          ],
          "scatterpolar": [
           {
            "marker": {
             "colorbar": {
              "outlinewidth": 0,
              "ticks": ""
             }
            },
            "type": "scatterpolar"
           }
          ],
          "scatterpolargl": [
           {
            "marker": {
             "colorbar": {
              "outlinewidth": 0,
              "ticks": ""
             }
            },
            "type": "scatterpolargl"
           }
          ],
          "scatterternary": [
           {
            "marker": {
             "colorbar": {
              "outlinewidth": 0,
              "ticks": ""
             }
            },
            "type": "scatterternary"
           }
          ],
          "surface": [
           {
            "colorbar": {
             "outlinewidth": 0,
             "ticks": ""
            },
            "colorscale": [
             [
              0,
              "#0d0887"
             ],
             [
              0.1111111111111111,
              "#46039f"
             ],
             [
              0.2222222222222222,
              "#7201a8"
             ],
             [
              0.3333333333333333,
              "#9c179e"
             ],
             [
              0.4444444444444444,
              "#bd3786"
             ],
             [
              0.5555555555555556,
              "#d8576b"
             ],
             [
              0.6666666666666666,
              "#ed7953"
             ],
             [
              0.7777777777777778,
              "#fb9f3a"
             ],
             [
              0.8888888888888888,
              "#fdca26"
             ],
             [
              1,
              "#f0f921"
             ]
            ],
            "type": "surface"
           }
          ],
          "table": [
           {
            "cells": {
             "fill": {
              "color": "#EBF0F8"
             },
             "line": {
              "color": "white"
             }
            },
            "header": {
             "fill": {
              "color": "#C8D4E3"
             },
             "line": {
              "color": "white"
             }
            },
            "type": "table"
           }
          ]
         },
         "layout": {
          "annotationdefaults": {
           "arrowcolor": "#2a3f5f",
           "arrowhead": 0,
           "arrowwidth": 1
          },
          "autotypenumbers": "strict",
          "coloraxis": {
           "colorbar": {
            "outlinewidth": 0,
            "ticks": ""
           }
          },
          "colorscale": {
           "diverging": [
            [
             0,
             "#8e0152"
            ],
            [
             0.1,
             "#c51b7d"
            ],
            [
             0.2,
             "#de77ae"
            ],
            [
             0.3,
             "#f1b6da"
            ],
            [
             0.4,
             "#fde0ef"
            ],
            [
             0.5,
             "#f7f7f7"
            ],
            [
             0.6,
             "#e6f5d0"
            ],
            [
             0.7,
             "#b8e186"
            ],
            [
             0.8,
             "#7fbc41"
            ],
            [
             0.9,
             "#4d9221"
            ],
            [
             1,
             "#276419"
            ]
           ],
           "sequential": [
            [
             0,
             "#0d0887"
            ],
            [
             0.1111111111111111,
             "#46039f"
            ],
            [
             0.2222222222222222,
             "#7201a8"
            ],
            [
             0.3333333333333333,
             "#9c179e"
            ],
            [
             0.4444444444444444,
             "#bd3786"
            ],
            [
             0.5555555555555556,
             "#d8576b"
            ],
            [
             0.6666666666666666,
             "#ed7953"
            ],
            [
             0.7777777777777778,
             "#fb9f3a"
            ],
            [
             0.8888888888888888,
             "#fdca26"
            ],
            [
             1,
             "#f0f921"
            ]
           ],
           "sequentialminus": [
            [
             0,
             "#0d0887"
            ],
            [
             0.1111111111111111,
             "#46039f"
            ],
            [
             0.2222222222222222,
             "#7201a8"
            ],
            [
             0.3333333333333333,
             "#9c179e"
            ],
            [
             0.4444444444444444,
             "#bd3786"
            ],
            [
             0.5555555555555556,
             "#d8576b"
            ],
            [
             0.6666666666666666,
             "#ed7953"
            ],
            [
             0.7777777777777778,
             "#fb9f3a"
            ],
            [
             0.8888888888888888,
             "#fdca26"
            ],
            [
             1,
             "#f0f921"
            ]
           ]
          },
          "colorway": [
           "#636efa",
           "#EF553B",
           "#00cc96",
           "#ab63fa",
           "#FFA15A",
           "#19d3f3",
           "#FF6692",
           "#B6E880",
           "#FF97FF",
           "#FECB52"
          ],
          "font": {
           "color": "#2a3f5f"
          },
          "geo": {
           "bgcolor": "white",
           "lakecolor": "white",
           "landcolor": "#E5ECF6",
           "showlakes": true,
           "showland": true,
           "subunitcolor": "white"
          },
          "hoverlabel": {
           "align": "left"
          },
          "hovermode": "closest",
          "mapbox": {
           "style": "light"
          },
          "paper_bgcolor": "white",
          "plot_bgcolor": "#E5ECF6",
          "polar": {
           "angularaxis": {
            "gridcolor": "white",
            "linecolor": "white",
            "ticks": ""
           },
           "bgcolor": "#E5ECF6",
           "radialaxis": {
            "gridcolor": "white",
            "linecolor": "white",
            "ticks": ""
           }
          },
          "scene": {
           "xaxis": {
            "backgroundcolor": "#E5ECF6",
            "gridcolor": "white",
            "gridwidth": 2,
            "linecolor": "white",
            "showbackground": true,
            "ticks": "",
            "zerolinecolor": "white"
           },
           "yaxis": {
            "backgroundcolor": "#E5ECF6",
            "gridcolor": "white",
            "gridwidth": 2,
            "linecolor": "white",
            "showbackground": true,
            "ticks": "",
            "zerolinecolor": "white"
           },
           "zaxis": {
            "backgroundcolor": "#E5ECF6",
            "gridcolor": "white",
            "gridwidth": 2,
            "linecolor": "white",
            "showbackground": true,
            "ticks": "",
            "zerolinecolor": "white"
           }
          },
          "shapedefaults": {
           "line": {
            "color": "#2a3f5f"
           }
          },
          "ternary": {
           "aaxis": {
            "gridcolor": "white",
            "linecolor": "white",
            "ticks": ""
           },
           "baxis": {
            "gridcolor": "white",
            "linecolor": "white",
            "ticks": ""
           },
           "bgcolor": "#E5ECF6",
           "caxis": {
            "gridcolor": "white",
            "linecolor": "white",
            "ticks": ""
           }
          },
          "title": {
           "x": 0.05
          },
          "xaxis": {
           "automargin": true,
           "gridcolor": "white",
           "linecolor": "white",
           "ticks": "",
           "title": {
            "standoff": 15
           },
           "zerolinecolor": "white",
           "zerolinewidth": 2
          },
          "yaxis": {
           "automargin": true,
           "gridcolor": "white",
           "linecolor": "white",
           "ticks": "",
           "title": {
            "standoff": 15
           },
           "zerolinecolor": "white",
           "zerolinewidth": 2
          }
         }
        },
        "xaxis": {
         "anchor": "y",
         "domain": [
          0,
          1
         ],
         "title": {
          "text": "Volumes (uL)"
         }
        },
        "yaxis": {
         "anchor": "x",
         "domain": [
          0,
          1
         ],
         "title": {
          "text": "Alpha Signal"
         }
        }
       }
      },
      "text/html": [
       "<div>                            <div id=\"ae800048-a029-4ae2-ab9c-a593dc7fa320\" class=\"plotly-graph-div\" style=\"height:525px; width:100%;\"></div>            <script type=\"text/javascript\">                require([\"plotly\"], function(Plotly) {                    window.PLOTLYENV=window.PLOTLYENV || {};                                    if (document.getElementById(\"ae800048-a029-4ae2-ab9c-a593dc7fa320\")) {                    Plotly.newPlot(                        \"ae800048-a029-4ae2-ab9c-a593dc7fa320\",                        [{\"hovertemplate\": \"Well_Id=A01<br>Volumes=%{x}<br>Alpha=%{marker.size}<extra></extra>\", \"legendgroup\": \"A01\", \"marker\": {\"color\": \"#636efa\", \"size\": [3347, 1212, 1099, 982, 2144, 3446, 3285, 2022], \"sizemode\": \"area\", \"sizeref\": 580.455, \"symbol\": \"circle\"}, \"mode\": \"lines+markers\", \"name\": \"A01\", \"orientation\": \"v\", \"showlegend\": true, \"type\": \"scatter\", \"x\": [2.4, 0.96, 0.384, 0.1536, 0.06144, 0.02458, 0.00983, 0.00393], \"xaxis\": \"x\", \"y\": [3347, 1212, 1099, 982, 2144, 3446, 3285, 2022], \"yaxis\": \"y\"}, {\"hovertemplate\": \"Well_Id=A02<br>Volumes=%{x}<br>Alpha=%{marker.size}<extra></extra>\", \"legendgroup\": \"A02\", \"marker\": {\"color\": \"#EF553B\", \"size\": [1095, 914, 763, 986, 1635, 3269, 2961, 1700], \"sizemode\": \"area\", \"sizeref\": 580.455, \"symbol\": \"circle\"}, \"mode\": \"lines+markers\", \"name\": \"A02\", \"orientation\": \"v\", \"showlegend\": true, \"type\": \"scatter\", \"x\": [2.4, 0.96, 0.384, 0.1536, 0.06144, 0.02458, 0.00983, 0.00393], \"xaxis\": \"x\", \"y\": [1095, 914, 763, 986, 1635, 3269, 2961, 1700], \"yaxis\": \"y\"}, {\"hovertemplate\": \"Well_Id=A03<br>Volumes=%{x}<br>Alpha=%{marker.size}<extra></extra>\", \"legendgroup\": \"A03\", \"marker\": {\"color\": \"#00cc96\", \"size\": [928, 844, 877, 1366, 1243, 4695, 2604, 1549], \"sizemode\": \"area\", \"sizeref\": 580.455, \"symbol\": \"circle\"}, \"mode\": \"lines+markers\", \"name\": \"A03\", \"orientation\": \"v\", \"showlegend\": true, \"type\": \"scatter\", \"x\": [2.4, 0.96, 0.384, 0.1536, 0.06144, 0.02458, 0.00983, 0.00393], \"xaxis\": \"x\", \"y\": [928, 844, 877, 1366, 1243, 4695, 2604, 1549], \"yaxis\": \"y\"}, {\"hovertemplate\": \"Well_Id=A04<br>Volumes=%{x}<br>Alpha=%{marker.size}<extra></extra>\", \"legendgroup\": \"A04\", \"marker\": {\"color\": \"#ab63fa\", \"size\": [17727, 60735, 100538, 161911, 142696, 60847, 17337, 4918], \"sizemode\": \"area\", \"sizeref\": 580.455, \"symbol\": \"circle\"}, \"mode\": \"lines+markers\", \"name\": \"A04\", \"orientation\": \"v\", \"showlegend\": true, \"type\": \"scatter\", \"x\": [2.4, 0.96, 0.384, 0.1536, 0.06144, 0.02458, 0.00983, 0.00393], \"xaxis\": \"x\", \"y\": [17727, 60735, 100538, 161911, 142696, 60847, 17337, 4918], \"yaxis\": \"y\"}, {\"hovertemplate\": \"Well_Id=A05<br>Volumes=%{x}<br>Alpha=%{marker.size}<extra></extra>\", \"legendgroup\": \"A05\", \"marker\": {\"color\": \"#FFA15A\", \"size\": [7288, 37859, 89520, 143539, 139190, 51800, 17732, 4860], \"sizemode\": \"area\", \"sizeref\": 580.455, \"symbol\": \"circle\"}, \"mode\": \"lines+markers\", \"name\": \"A05\", \"orientation\": \"v\", \"showlegend\": true, \"type\": \"scatter\", \"x\": [2.4, 0.96, 0.384, 0.1536, 0.06144, 0.02458, 0.00983, 0.00393], \"xaxis\": \"x\", \"y\": [7288, 37859, 89520, 143539, 139190, 51800, 17732, 4860], \"yaxis\": \"y\"}, {\"hovertemplate\": \"Well_Id=A06<br>Volumes=%{x}<br>Alpha=%{marker.size}<extra></extra>\", \"legendgroup\": \"A06\", \"marker\": {\"color\": \"#19d3f3\", \"size\": [13486, 62161, 94151, 134950, 142961, 46939, 15487, 4435], \"sizemode\": \"area\", \"sizeref\": 580.455, \"symbol\": \"circle\"}, \"mode\": \"lines+markers\", \"name\": \"A06\", \"orientation\": \"v\", \"showlegend\": true, \"type\": \"scatter\", \"x\": [2.4, 0.96, 0.384, 0.1536, 0.06144, 0.02458, 0.00983, 0.00393], \"xaxis\": \"x\", \"y\": [13486, 62161, 94151, 134950, 142961, 46939, 15487, 4435], \"yaxis\": \"y\"}, {\"hovertemplate\": \"Well_Id=A07<br>Volumes=%{x}<br>Alpha=%{marker.size}<extra></extra>\", \"legendgroup\": \"A07\", \"marker\": {\"color\": \"#FF6692\", \"size\": [12634, 39308, 102308, 136696, 136489, 57776, 16283, 4752], \"sizemode\": \"area\", \"sizeref\": 580.455, \"symbol\": \"circle\"}, \"mode\": \"lines+markers\", \"name\": \"A07\", \"orientation\": \"v\", \"showlegend\": true, \"type\": \"scatter\", \"x\": [2.4, 0.96, 0.384, 0.1536, 0.06144, 0.02458, 0.00983, 0.00393], \"xaxis\": \"x\", \"y\": [12634, 39308, 102308, 136696, 136489, 57776, 16283, 4752], \"yaxis\": \"y\"}, {\"hovertemplate\": \"Well_Id=A08<br>Volumes=%{x}<br>Alpha=%{marker.size}<extra></extra>\", \"legendgroup\": \"A08\", \"marker\": {\"color\": \"#B6E880\", \"size\": [16086, 59387, 104020, 155559, 147274, 61611, 17774, 5176], \"sizemode\": \"area\", \"sizeref\": 580.455, \"symbol\": \"circle\"}, \"mode\": \"lines+markers\", \"name\": \"A08\", \"orientation\": \"v\", \"showlegend\": true, \"type\": \"scatter\", \"x\": [2.4, 0.96, 0.384, 0.1536, 0.06144, 0.02458, 0.00983, 0.00393], \"xaxis\": \"x\", \"y\": [16086, 59387, 104020, 155559, 147274, 61611, 17774, 5176], \"yaxis\": \"y\"}, {\"hovertemplate\": \"Well_Id=A09<br>Volumes=%{x}<br>Alpha=%{marker.size}<extra></extra>\", \"legendgroup\": \"A09\", \"marker\": {\"color\": \"#FF97FF\", \"size\": [16154, 49680, 105845, 183754, 143580, 54536, 15258, 4502], \"sizemode\": \"area\", \"sizeref\": 580.455, \"symbol\": \"circle\"}, \"mode\": \"lines+markers\", \"name\": \"A09\", \"orientation\": \"v\", \"showlegend\": true, \"type\": \"scatter\", \"x\": [2.4, 0.96, 0.384, 0.1536, 0.06144, 0.02458, 0.00983, 0.00393], \"xaxis\": \"x\", \"y\": [16154, 49680, 105845, 183754, 143580, 54536, 15258, 4502], \"yaxis\": \"y\"}, {\"hovertemplate\": \"Well_Id=A10<br>Volumes=%{x}<br>Alpha=%{marker.size}<extra></extra>\", \"legendgroup\": \"A10\", \"marker\": {\"color\": \"#FECB52\", \"size\": [13895, 64457, 104008, 232182, 199420, 88539, 24972, 7394], \"sizemode\": \"area\", \"sizeref\": 580.455, \"symbol\": \"circle\"}, \"mode\": \"lines+markers\", \"name\": \"A10\", \"orientation\": \"v\", \"showlegend\": true, \"type\": \"scatter\", \"x\": [2.4, 0.96, 0.384, 0.1536, 0.06144, 0.02458, 0.00983, 0.00393], \"xaxis\": \"x\", \"y\": [13895, 64457, 104008, 232182, 199420, 88539, 24972, 7394], \"yaxis\": \"y\"}, {\"hovertemplate\": \"Well_Id=A11<br>Volumes=%{x}<br>Alpha=%{marker.size}<extra></extra>\", \"legendgroup\": \"A11\", \"marker\": {\"color\": \"#636efa\", \"size\": [7620, 47904, 71189, 175323, 187542, 103695, 35361, 10300], \"sizemode\": \"area\", \"sizeref\": 580.455, \"symbol\": \"circle\"}, \"mode\": \"lines+markers\", \"name\": \"A11\", \"orientation\": \"v\", \"showlegend\": true, \"type\": \"scatter\", \"x\": [2.4, 0.96, 0.384, 0.1536, 0.06144, 0.02458, 0.00983, 0.00393], \"xaxis\": \"x\", \"y\": [7620, 47904, 71189, 175323, 187542, 103695, 35361, 10300], \"yaxis\": \"y\"}, {\"hovertemplate\": \"Well_Id=A12<br>Volumes=%{x}<br>Alpha=%{marker.size}<extra></extra>\", \"legendgroup\": \"A12\", \"marker\": {\"color\": \"#EF553B\", \"size\": [12026, 42898, 67279, 129735, 205343, 103185, 30132, 8087], \"sizemode\": \"area\", \"sizeref\": 580.455, \"symbol\": \"circle\"}, \"mode\": \"lines+markers\", \"name\": \"A12\", \"orientation\": \"v\", \"showlegend\": true, \"type\": \"scatter\", \"x\": [2.4, 0.96, 0.384, 0.1536, 0.06144, 0.02458, 0.00983, 0.00393], \"xaxis\": \"x\", \"y\": [12026, 42898, 67279, 129735, 205343, 103185, 30132, 8087], \"yaxis\": \"y\"}, {\"hovertemplate\": \"Well_Id=B01<br>Volumes=%{x}<br>Alpha=%{marker.size}<extra></extra>\", \"legendgroup\": \"B01\", \"marker\": {\"color\": \"#00cc96\", \"size\": [710, 803, 838, 820, 996, 853, 1111, 1156], \"sizemode\": \"area\", \"sizeref\": 580.455, \"symbol\": \"circle\"}, \"mode\": \"lines+markers\", \"name\": \"B01\", \"orientation\": \"v\", \"showlegend\": true, \"type\": \"scatter\", \"x\": [2.4, 0.96, 0.384, 0.1536, 0.06144, 0.02458, 0.00983, 0.00393], \"xaxis\": \"x\", \"y\": [710, 803, 838, 820, 996, 853, 1111, 1156], \"yaxis\": \"y\"}, {\"hovertemplate\": \"Well_Id=B02<br>Volumes=%{x}<br>Alpha=%{marker.size}<extra></extra>\", \"legendgroup\": \"B02\", \"marker\": {\"color\": \"#ab63fa\", \"size\": [750, 744, 744, 803, 853, 836, 793, 735], \"sizemode\": \"area\", \"sizeref\": 580.455, \"symbol\": \"circle\"}, \"mode\": \"lines+markers\", \"name\": \"B02\", \"orientation\": \"v\", \"showlegend\": true, \"type\": \"scatter\", \"x\": [2.4, 0.96, 0.384, 0.1536, 0.06144, 0.02458, 0.00983, 0.00393], \"xaxis\": \"x\", \"y\": [750, 744, 744, 803, 853, 836, 793, 735], \"yaxis\": \"y\"}, {\"hovertemplate\": \"Well_Id=B03<br>Volumes=%{x}<br>Alpha=%{marker.size}<extra></extra>\", \"legendgroup\": \"B03\", \"marker\": {\"color\": \"#FFA15A\", \"size\": [601, 784, 716, 605, 737, 795, 758, 780], \"sizemode\": \"area\", \"sizeref\": 580.455, \"symbol\": \"circle\"}, \"mode\": \"lines+markers\", \"name\": \"B03\", \"orientation\": \"v\", \"showlegend\": true, \"type\": \"scatter\", \"x\": [2.4, 0.96, 0.384, 0.1536, 0.06144, 0.02458, 0.00983, 0.00393], \"xaxis\": \"x\", \"y\": [601, 784, 716, 605, 737, 795, 758, 780], \"yaxis\": \"y\"}, {\"hovertemplate\": \"Well_Id=B04<br>Volumes=%{x}<br>Alpha=%{marker.size}<extra></extra>\", \"legendgroup\": \"B04\", \"marker\": {\"color\": \"#19d3f3\", \"size\": [680, 801, 706, 711, 781, 863, 821, 821], \"sizemode\": \"area\", \"sizeref\": 580.455, \"symbol\": \"circle\"}, \"mode\": \"lines+markers\", \"name\": \"B04\", \"orientation\": \"v\", \"showlegend\": true, \"type\": \"scatter\", \"x\": [2.4, 0.96, 0.384, 0.1536, 0.06144, 0.02458, 0.00983, 0.00393], \"xaxis\": \"x\", \"y\": [680, 801, 706, 711, 781, 863, 821, 821], \"yaxis\": \"y\"}, {\"hovertemplate\": \"Well_Id=B05<br>Volumes=%{x}<br>Alpha=%{marker.size}<extra></extra>\", \"legendgroup\": \"B05\", \"marker\": {\"color\": \"#FF6692\", \"size\": [683, 910, 901, 1006, 818, 958, 788, 809], \"sizemode\": \"area\", \"sizeref\": 580.455, \"symbol\": \"circle\"}, \"mode\": \"lines+markers\", \"name\": \"B05\", \"orientation\": \"v\", \"showlegend\": true, \"type\": \"scatter\", \"x\": [2.4, 0.96, 0.384, 0.1536, 0.06144, 0.02458, 0.00983, 0.00393], \"xaxis\": \"x\", \"y\": [683, 910, 901, 1006, 818, 958, 788, 809], \"yaxis\": \"y\"}, {\"hovertemplate\": \"Well_Id=B06<br>Volumes=%{x}<br>Alpha=%{marker.size}<extra></extra>\", \"legendgroup\": \"B06\", \"marker\": {\"color\": \"#B6E880\", \"size\": [685, 687, 827, 892, 823, 769, 825, 821], \"sizemode\": \"area\", \"sizeref\": 580.455, \"symbol\": \"circle\"}, \"mode\": \"lines+markers\", \"name\": \"B06\", \"orientation\": \"v\", \"showlegend\": true, \"type\": \"scatter\", \"x\": [2.4, 0.96, 0.384, 0.1536, 0.06144, 0.02458, 0.00983, 0.00393], \"xaxis\": \"x\", \"y\": [685, 687, 827, 892, 823, 769, 825, 821], \"yaxis\": \"y\"}, {\"hovertemplate\": \"Well_Id=B07<br>Volumes=%{x}<br>Alpha=%{marker.size}<extra></extra>\", \"legendgroup\": \"B07\", \"marker\": {\"color\": \"#FF97FF\", \"size\": [902, 730, 810, 791, 764, 791, 826, 836], \"sizemode\": \"area\", \"sizeref\": 580.455, \"symbol\": \"circle\"}, \"mode\": \"lines+markers\", \"name\": \"B07\", \"orientation\": \"v\", \"showlegend\": true, \"type\": \"scatter\", \"x\": [2.4, 0.96, 0.384, 0.1536, 0.06144, 0.02458, 0.00983, 0.00393], \"xaxis\": \"x\", \"y\": [902, 730, 810, 791, 764, 791, 826, 836], \"yaxis\": \"y\"}, {\"hovertemplate\": \"Well_Id=B08<br>Volumes=%{x}<br>Alpha=%{marker.size}<extra></extra>\", \"legendgroup\": \"B08\", \"marker\": {\"color\": \"#FECB52\", \"size\": [723, 799, 747, 825, 894, 868, 792, 764], \"sizemode\": \"area\", \"sizeref\": 580.455, \"symbol\": \"circle\"}, \"mode\": \"lines+markers\", \"name\": \"B08\", \"orientation\": \"v\", \"showlegend\": true, \"type\": \"scatter\", \"x\": [2.4, 0.96, 0.384, 0.1536, 0.06144, 0.02458, 0.00983, 0.00393], \"xaxis\": \"x\", \"y\": [723, 799, 747, 825, 894, 868, 792, 764], \"yaxis\": \"y\"}, {\"hovertemplate\": \"Well_Id=B09<br>Volumes=%{x}<br>Alpha=%{marker.size}<extra></extra>\", \"legendgroup\": \"B09\", \"marker\": {\"color\": \"#636efa\", \"size\": [750, 833, 831, 872, 828, 792, 901, 854], \"sizemode\": \"area\", \"sizeref\": 580.455, \"symbol\": \"circle\"}, \"mode\": \"lines+markers\", \"name\": \"B09\", \"orientation\": \"v\", \"showlegend\": true, \"type\": \"scatter\", \"x\": [2.4, 0.96, 0.384, 0.1536, 0.06144, 0.02458, 0.00983, 0.00393], \"xaxis\": \"x\", \"y\": [750, 833, 831, 872, 828, 792, 901, 854], \"yaxis\": \"y\"}, {\"hovertemplate\": \"Well_Id=B10<br>Volumes=%{x}<br>Alpha=%{marker.size}<extra></extra>\", \"legendgroup\": \"B10\", \"marker\": {\"color\": \"#EF553B\", \"size\": [798, 740, 761, 776, 802, 880, 886, 816], \"sizemode\": \"area\", \"sizeref\": 580.455, \"symbol\": \"circle\"}, \"mode\": \"lines+markers\", \"name\": \"B10\", \"orientation\": \"v\", \"showlegend\": true, \"type\": \"scatter\", \"x\": [2.4, 0.96, 0.384, 0.1536, 0.06144, 0.02458, 0.00983, 0.00393], \"xaxis\": \"x\", \"y\": [798, 740, 761, 776, 802, 880, 886, 816], \"yaxis\": \"y\"}, {\"hovertemplate\": \"Well_Id=B11<br>Volumes=%{x}<br>Alpha=%{marker.size}<extra></extra>\", \"legendgroup\": \"B11\", \"marker\": {\"color\": \"#00cc96\", \"size\": [787, 737, 824, 862, 870, 878, 853, 862], \"sizemode\": \"area\", \"sizeref\": 580.455, \"symbol\": \"circle\"}, \"mode\": \"lines+markers\", \"name\": \"B11\", \"orientation\": \"v\", \"showlegend\": true, \"type\": \"scatter\", \"x\": [2.4, 0.96, 0.384, 0.1536, 0.06144, 0.02458, 0.00983, 0.00393], \"xaxis\": \"x\", \"y\": [787, 737, 824, 862, 870, 878, 853, 862], \"yaxis\": \"y\"}, {\"hovertemplate\": \"Well_Id=B12<br>Volumes=%{x}<br>Alpha=%{marker.size}<extra></extra>\", \"legendgroup\": \"B12\", \"marker\": {\"color\": \"#ab63fa\", \"size\": [826, 939, 896, 813, 851, 866, 853, 970], \"sizemode\": \"area\", \"sizeref\": 580.455, \"symbol\": \"circle\"}, \"mode\": \"lines+markers\", \"name\": \"B12\", \"orientation\": \"v\", \"showlegend\": true, \"type\": \"scatter\", \"x\": [2.4, 0.96, 0.384, 0.1536, 0.06144, 0.02458, 0.00983, 0.00393], \"xaxis\": \"x\", \"y\": [826, 939, 896, 813, 851, 866, 853, 970], \"yaxis\": \"y\"}, {\"hovertemplate\": \"Well_Id=C01<br>Volumes=%{x}<br>Alpha=%{marker.size}<extra></extra>\", \"legendgroup\": \"C01\", \"marker\": {\"color\": \"#FFA15A\", \"size\": [3935, 1599, 1034, 956, 1272, 2702, 3052, 2171], \"sizemode\": \"area\", \"sizeref\": 580.455, \"symbol\": \"circle\"}, \"mode\": \"lines+markers\", \"name\": \"C01\", \"orientation\": \"v\", \"showlegend\": true, \"type\": \"scatter\", \"x\": [2.4, 0.96, 0.384, 0.1536, 0.06144, 0.02458, 0.00983, 0.00393], \"xaxis\": \"x\", \"y\": [3935, 1599, 1034, 956, 1272, 2702, 3052, 2171], \"yaxis\": \"y\"}, {\"hovertemplate\": \"Well_Id=C02<br>Volumes=%{x}<br>Alpha=%{marker.size}<extra></extra>\", \"legendgroup\": \"C02\", \"marker\": {\"color\": \"#19d3f3\", \"size\": [1103, 717, 910, 856, 2042, 3399, 2895, 1944], \"sizemode\": \"area\", \"sizeref\": 580.455, \"symbol\": \"circle\"}, \"mode\": \"lines+markers\", \"name\": \"C02\", \"orientation\": \"v\", \"showlegend\": true, \"type\": \"scatter\", \"x\": [2.4, 0.96, 0.384, 0.1536, 0.06144, 0.02458, 0.00983, 0.00393], \"xaxis\": \"x\", \"y\": [1103, 717, 910, 856, 2042, 3399, 2895, 1944], \"yaxis\": \"y\"}, {\"hovertemplate\": \"Well_Id=C03<br>Volumes=%{x}<br>Alpha=%{marker.size}<extra></extra>\", \"legendgroup\": \"C03\", \"marker\": {\"color\": \"#FF6692\", \"size\": [1103, 770, 759, 883, 1493, 2887, 3457, 2337], \"sizemode\": \"area\", \"sizeref\": 580.455, \"symbol\": \"circle\"}, \"mode\": \"lines+markers\", \"name\": \"C03\", \"orientation\": \"v\", \"showlegend\": true, \"type\": \"scatter\", \"x\": [2.4, 0.96, 0.384, 0.1536, 0.06144, 0.02458, 0.00983, 0.00393], \"xaxis\": \"x\", \"y\": [1103, 770, 759, 883, 1493, 2887, 3457, 2337], \"yaxis\": \"y\"}, {\"hovertemplate\": \"Well_Id=C04<br>Volumes=%{x}<br>Alpha=%{marker.size}<extra></extra>\", \"legendgroup\": \"C04\", \"marker\": {\"color\": \"#B6E880\", \"size\": [9021, 24494, 75915, 133242, 145002, 88685, 24601, 8215], \"sizemode\": \"area\", \"sizeref\": 580.455, \"symbol\": \"circle\"}, \"mode\": \"lines+markers\", \"name\": \"C04\", \"orientation\": \"v\", \"showlegend\": true, \"type\": \"scatter\", \"x\": [2.4, 0.96, 0.384, 0.1536, 0.06144, 0.02458, 0.00983, 0.00393], \"xaxis\": \"x\", \"y\": [9021, 24494, 75915, 133242, 145002, 88685, 24601, 8215], \"yaxis\": \"y\"}, {\"hovertemplate\": \"Well_Id=C05<br>Volumes=%{x}<br>Alpha=%{marker.size}<extra></extra>\", \"legendgroup\": \"C05\", \"marker\": {\"color\": \"#FF97FF\", \"size\": [6694, 20638, 63984, 108749, 143399, 80447, 29076, 8050], \"sizemode\": \"area\", \"sizeref\": 580.455, \"symbol\": \"circle\"}, \"mode\": \"lines+markers\", \"name\": \"C05\", \"orientation\": \"v\", \"showlegend\": true, \"type\": \"scatter\", \"x\": [2.4, 0.96, 0.384, 0.1536, 0.06144, 0.02458, 0.00983, 0.00393], \"xaxis\": \"x\", \"y\": [6694, 20638, 63984, 108749, 143399, 80447, 29076, 8050], \"yaxis\": \"y\"}, {\"hovertemplate\": \"Well_Id=C06<br>Volumes=%{x}<br>Alpha=%{marker.size}<extra></extra>\", \"legendgroup\": \"C06\", \"marker\": {\"color\": \"#FECB52\", \"size\": [9781, 39365, 88422, 148139, 158939, 83204, 25658, 7237], \"sizemode\": \"area\", \"sizeref\": 580.455, \"symbol\": \"circle\"}, \"mode\": \"lines+markers\", \"name\": \"C06\", \"orientation\": \"v\", \"showlegend\": true, \"type\": \"scatter\", \"x\": [2.4, 0.96, 0.384, 0.1536, 0.06144, 0.02458, 0.00983, 0.00393], \"xaxis\": \"x\", \"y\": [9781, 39365, 88422, 148139, 158939, 83204, 25658, 7237], \"yaxis\": \"y\"}, {\"hovertemplate\": \"Well_Id=C07<br>Volumes=%{x}<br>Alpha=%{marker.size}<extra></extra>\", \"legendgroup\": \"C07\", \"marker\": {\"color\": \"#636efa\", \"size\": [8829, 27457, 73010, 114368, 173165, 88507, 27204, 7620], \"sizemode\": \"area\", \"sizeref\": 580.455, \"symbol\": \"circle\"}, \"mode\": \"lines+markers\", \"name\": \"C07\", \"orientation\": \"v\", \"showlegend\": true, \"type\": \"scatter\", \"x\": [2.4, 0.96, 0.384, 0.1536, 0.06144, 0.02458, 0.00983, 0.00393], \"xaxis\": \"x\", \"y\": [8829, 27457, 73010, 114368, 173165, 88507, 27204, 7620], \"yaxis\": \"y\"}, {\"hovertemplate\": \"Well_Id=C08<br>Volumes=%{x}<br>Alpha=%{marker.size}<extra></extra>\", \"legendgroup\": \"C08\", \"marker\": {\"color\": \"#EF553B\", \"size\": [7624, 18169, 80737, 139873, 172475, 98499, 32012, 8921], \"sizemode\": \"area\", \"sizeref\": 580.455, \"symbol\": \"circle\"}, \"mode\": \"lines+markers\", \"name\": \"C08\", \"orientation\": \"v\", \"showlegend\": true, \"type\": \"scatter\", \"x\": [2.4, 0.96, 0.384, 0.1536, 0.06144, 0.02458, 0.00983, 0.00393], \"xaxis\": \"x\", \"y\": [7624, 18169, 80737, 139873, 172475, 98499, 32012, 8921], \"yaxis\": \"y\"}, {\"hovertemplate\": \"Well_Id=C09<br>Volumes=%{x}<br>Alpha=%{marker.size}<extra></extra>\", \"legendgroup\": \"C09\", \"marker\": {\"color\": \"#00cc96\", \"size\": [10438, 45625, 87791, 154766, 154141, 74805, 22009, 5955], \"sizemode\": \"area\", \"sizeref\": 580.455, \"symbol\": \"circle\"}, \"mode\": \"lines+markers\", \"name\": \"C09\", \"orientation\": \"v\", \"showlegend\": true, \"type\": \"scatter\", \"x\": [2.4, 0.96, 0.384, 0.1536, 0.06144, 0.02458, 0.00983, 0.00393], \"xaxis\": \"x\", \"y\": [10438, 45625, 87791, 154766, 154141, 74805, 22009, 5955], \"yaxis\": \"y\"}, {\"hovertemplate\": \"Well_Id=C10<br>Volumes=%{x}<br>Alpha=%{marker.size}<extra></extra>\", \"legendgroup\": \"C10\", \"marker\": {\"color\": \"#ab63fa\", \"size\": [11858, 41422, 64239, 164893, 230620, 143019, 50530, 14486], \"sizemode\": \"area\", \"sizeref\": 580.455, \"symbol\": \"circle\"}, \"mode\": \"lines+markers\", \"name\": \"C10\", \"orientation\": \"v\", \"showlegend\": true, \"type\": \"scatter\", \"x\": [2.4, 0.96, 0.384, 0.1536, 0.06144, 0.02458, 0.00983, 0.00393], \"xaxis\": \"x\", \"y\": [11858, 41422, 64239, 164893, 230620, 143019, 50530, 14486], \"yaxis\": \"y\"}, {\"hovertemplate\": \"Well_Id=C11<br>Volumes=%{x}<br>Alpha=%{marker.size}<extra></extra>\", \"legendgroup\": \"C11\", \"marker\": {\"color\": \"#FFA15A\", \"size\": [6353, 26327, 45256, 103125, 154781, 168633, 69896, 21311], \"sizemode\": \"area\", \"sizeref\": 580.455, \"symbol\": \"circle\"}, \"mode\": \"lines+markers\", \"name\": \"C11\", \"orientation\": \"v\", \"showlegend\": true, \"type\": \"scatter\", \"x\": [2.4, 0.96, 0.384, 0.1536, 0.06144, 0.02458, 0.00983, 0.00393], \"xaxis\": \"x\", \"y\": [6353, 26327, 45256, 103125, 154781, 168633, 69896, 21311], \"yaxis\": \"y\"}, {\"hovertemplate\": \"Well_Id=C12<br>Volumes=%{x}<br>Alpha=%{marker.size}<extra></extra>\", \"legendgroup\": \"C12\", \"marker\": {\"color\": \"#19d3f3\", \"size\": [5444, 30964, 54709, 133279, 204341, 134009, 47979, 13361], \"sizemode\": \"area\", \"sizeref\": 580.455, \"symbol\": \"circle\"}, \"mode\": \"lines+markers\", \"name\": \"C12\", \"orientation\": \"v\", \"showlegend\": true, \"type\": \"scatter\", \"x\": [2.4, 0.96, 0.384, 0.1536, 0.06144, 0.02458, 0.00983, 0.00393], \"xaxis\": \"x\", \"y\": [5444, 30964, 54709, 133279, 204341, 134009, 47979, 13361], \"yaxis\": \"y\"}],                        {\"legend\": {\"itemsizing\": \"constant\", \"title\": {\"text\": \"Well_Id\"}, \"tracegroupgap\": 0}, \"margin\": {\"t\": 60}, \"template\": {\"data\": {\"bar\": [{\"error_x\": {\"color\": \"#2a3f5f\"}, \"error_y\": {\"color\": \"#2a3f5f\"}, \"marker\": {\"line\": {\"color\": \"#E5ECF6\", \"width\": 0.5}}, \"type\": \"bar\"}], \"barpolar\": [{\"marker\": {\"line\": {\"color\": \"#E5ECF6\", \"width\": 0.5}}, \"type\": \"barpolar\"}], \"carpet\": [{\"aaxis\": {\"endlinecolor\": \"#2a3f5f\", \"gridcolor\": \"white\", \"linecolor\": \"white\", \"minorgridcolor\": \"white\", \"startlinecolor\": \"#2a3f5f\"}, \"baxis\": {\"endlinecolor\": \"#2a3f5f\", \"gridcolor\": \"white\", \"linecolor\": \"white\", \"minorgridcolor\": \"white\", \"startlinecolor\": \"#2a3f5f\"}, \"type\": \"carpet\"}], \"choropleth\": [{\"colorbar\": {\"outlinewidth\": 0, \"ticks\": \"\"}, \"type\": \"choropleth\"}], \"contour\": [{\"colorbar\": {\"outlinewidth\": 0, \"ticks\": \"\"}, \"colorscale\": [[0.0, \"#0d0887\"], [0.1111111111111111, \"#46039f\"], [0.2222222222222222, \"#7201a8\"], [0.3333333333333333, \"#9c179e\"], [0.4444444444444444, \"#bd3786\"], [0.5555555555555556, \"#d8576b\"], [0.6666666666666666, \"#ed7953\"], [0.7777777777777778, \"#fb9f3a\"], [0.8888888888888888, \"#fdca26\"], [1.0, \"#f0f921\"]], \"type\": \"contour\"}], \"contourcarpet\": [{\"colorbar\": {\"outlinewidth\": 0, \"ticks\": \"\"}, \"type\": \"contourcarpet\"}], \"heatmap\": [{\"colorbar\": {\"outlinewidth\": 0, \"ticks\": \"\"}, \"colorscale\": [[0.0, \"#0d0887\"], [0.1111111111111111, \"#46039f\"], [0.2222222222222222, \"#7201a8\"], [0.3333333333333333, \"#9c179e\"], [0.4444444444444444, \"#bd3786\"], [0.5555555555555556, \"#d8576b\"], [0.6666666666666666, \"#ed7953\"], [0.7777777777777778, \"#fb9f3a\"], [0.8888888888888888, \"#fdca26\"], [1.0, \"#f0f921\"]], \"type\": \"heatmap\"}], \"heatmapgl\": [{\"colorbar\": {\"outlinewidth\": 0, \"ticks\": \"\"}, \"colorscale\": [[0.0, \"#0d0887\"], [0.1111111111111111, \"#46039f\"], [0.2222222222222222, \"#7201a8\"], [0.3333333333333333, \"#9c179e\"], [0.4444444444444444, \"#bd3786\"], [0.5555555555555556, \"#d8576b\"], [0.6666666666666666, \"#ed7953\"], [0.7777777777777778, \"#fb9f3a\"], [0.8888888888888888, \"#fdca26\"], [1.0, \"#f0f921\"]], \"type\": \"heatmapgl\"}], \"histogram\": [{\"marker\": {\"colorbar\": {\"outlinewidth\": 0, \"ticks\": \"\"}}, \"type\": \"histogram\"}], \"histogram2d\": [{\"colorbar\": {\"outlinewidth\": 0, \"ticks\": \"\"}, \"colorscale\": [[0.0, \"#0d0887\"], [0.1111111111111111, \"#46039f\"], [0.2222222222222222, \"#7201a8\"], [0.3333333333333333, \"#9c179e\"], [0.4444444444444444, \"#bd3786\"], [0.5555555555555556, \"#d8576b\"], [0.6666666666666666, \"#ed7953\"], [0.7777777777777778, \"#fb9f3a\"], [0.8888888888888888, \"#fdca26\"], [1.0, \"#f0f921\"]], \"type\": \"histogram2d\"}], \"histogram2dcontour\": [{\"colorbar\": {\"outlinewidth\": 0, \"ticks\": \"\"}, \"colorscale\": [[0.0, \"#0d0887\"], [0.1111111111111111, \"#46039f\"], [0.2222222222222222, \"#7201a8\"], [0.3333333333333333, \"#9c179e\"], [0.4444444444444444, \"#bd3786\"], [0.5555555555555556, \"#d8576b\"], [0.6666666666666666, \"#ed7953\"], [0.7777777777777778, \"#fb9f3a\"], [0.8888888888888888, \"#fdca26\"], [1.0, \"#f0f921\"]], \"type\": \"histogram2dcontour\"}], \"mesh3d\": [{\"colorbar\": {\"outlinewidth\": 0, \"ticks\": \"\"}, \"type\": \"mesh3d\"}], \"parcoords\": [{\"line\": {\"colorbar\": {\"outlinewidth\": 0, \"ticks\": \"\"}}, \"type\": \"parcoords\"}], \"pie\": [{\"automargin\": true, \"type\": \"pie\"}], \"scatter\": [{\"marker\": {\"colorbar\": {\"outlinewidth\": 0, \"ticks\": \"\"}}, \"type\": \"scatter\"}], \"scatter3d\": [{\"line\": {\"colorbar\": {\"outlinewidth\": 0, \"ticks\": \"\"}}, \"marker\": {\"colorbar\": {\"outlinewidth\": 0, \"ticks\": \"\"}}, \"type\": \"scatter3d\"}], \"scattercarpet\": [{\"marker\": {\"colorbar\": {\"outlinewidth\": 0, \"ticks\": \"\"}}, \"type\": \"scattercarpet\"}], \"scattergeo\": [{\"marker\": {\"colorbar\": {\"outlinewidth\": 0, \"ticks\": \"\"}}, \"type\": \"scattergeo\"}], \"scattergl\": [{\"marker\": {\"colorbar\": {\"outlinewidth\": 0, \"ticks\": \"\"}}, \"type\": \"scattergl\"}], \"scattermapbox\": [{\"marker\": {\"colorbar\": {\"outlinewidth\": 0, \"ticks\": \"\"}}, \"type\": \"scattermapbox\"}], \"scatterpolar\": [{\"marker\": {\"colorbar\": {\"outlinewidth\": 0, \"ticks\": \"\"}}, \"type\": \"scatterpolar\"}], \"scatterpolargl\": [{\"marker\": {\"colorbar\": {\"outlinewidth\": 0, \"ticks\": \"\"}}, \"type\": \"scatterpolargl\"}], \"scatterternary\": [{\"marker\": {\"colorbar\": {\"outlinewidth\": 0, \"ticks\": \"\"}}, \"type\": \"scatterternary\"}], \"surface\": [{\"colorbar\": {\"outlinewidth\": 0, \"ticks\": \"\"}, \"colorscale\": [[0.0, \"#0d0887\"], [0.1111111111111111, \"#46039f\"], [0.2222222222222222, \"#7201a8\"], [0.3333333333333333, \"#9c179e\"], [0.4444444444444444, \"#bd3786\"], [0.5555555555555556, \"#d8576b\"], [0.6666666666666666, \"#ed7953\"], [0.7777777777777778, \"#fb9f3a\"], [0.8888888888888888, \"#fdca26\"], [1.0, \"#f0f921\"]], \"type\": \"surface\"}], \"table\": [{\"cells\": {\"fill\": {\"color\": \"#EBF0F8\"}, \"line\": {\"color\": \"white\"}}, \"header\": {\"fill\": {\"color\": \"#C8D4E3\"}, \"line\": {\"color\": \"white\"}}, \"type\": \"table\"}]}, \"layout\": {\"annotationdefaults\": {\"arrowcolor\": \"#2a3f5f\", \"arrowhead\": 0, \"arrowwidth\": 1}, \"autotypenumbers\": \"strict\", \"coloraxis\": {\"colorbar\": {\"outlinewidth\": 0, \"ticks\": \"\"}}, \"colorscale\": {\"diverging\": [[0, \"#8e0152\"], [0.1, \"#c51b7d\"], [0.2, \"#de77ae\"], [0.3, \"#f1b6da\"], [0.4, \"#fde0ef\"], [0.5, \"#f7f7f7\"], [0.6, \"#e6f5d0\"], [0.7, \"#b8e186\"], [0.8, \"#7fbc41\"], [0.9, \"#4d9221\"], [1, \"#276419\"]], \"sequential\": [[0.0, \"#0d0887\"], [0.1111111111111111, \"#46039f\"], [0.2222222222222222, \"#7201a8\"], [0.3333333333333333, \"#9c179e\"], [0.4444444444444444, \"#bd3786\"], [0.5555555555555556, \"#d8576b\"], [0.6666666666666666, \"#ed7953\"], [0.7777777777777778, \"#fb9f3a\"], [0.8888888888888888, \"#fdca26\"], [1.0, \"#f0f921\"]], \"sequentialminus\": [[0.0, \"#0d0887\"], [0.1111111111111111, \"#46039f\"], [0.2222222222222222, \"#7201a8\"], [0.3333333333333333, \"#9c179e\"], [0.4444444444444444, \"#bd3786\"], [0.5555555555555556, \"#d8576b\"], [0.6666666666666666, \"#ed7953\"], [0.7777777777777778, \"#fb9f3a\"], [0.8888888888888888, \"#fdca26\"], [1.0, \"#f0f921\"]]}, \"colorway\": [\"#636efa\", \"#EF553B\", \"#00cc96\", \"#ab63fa\", \"#FFA15A\", \"#19d3f3\", \"#FF6692\", \"#B6E880\", \"#FF97FF\", \"#FECB52\"], \"font\": {\"color\": \"#2a3f5f\"}, \"geo\": {\"bgcolor\": \"white\", \"lakecolor\": \"white\", \"landcolor\": \"#E5ECF6\", \"showlakes\": true, \"showland\": true, \"subunitcolor\": \"white\"}, \"hoverlabel\": {\"align\": \"left\"}, \"hovermode\": \"closest\", \"mapbox\": {\"style\": \"light\"}, \"paper_bgcolor\": \"white\", \"plot_bgcolor\": \"#E5ECF6\", \"polar\": {\"angularaxis\": {\"gridcolor\": \"white\", \"linecolor\": \"white\", \"ticks\": \"\"}, \"bgcolor\": \"#E5ECF6\", \"radialaxis\": {\"gridcolor\": \"white\", \"linecolor\": \"white\", \"ticks\": \"\"}}, \"scene\": {\"xaxis\": {\"backgroundcolor\": \"#E5ECF6\", \"gridcolor\": \"white\", \"gridwidth\": 2, \"linecolor\": \"white\", \"showbackground\": true, \"ticks\": \"\", \"zerolinecolor\": \"white\"}, \"yaxis\": {\"backgroundcolor\": \"#E5ECF6\", \"gridcolor\": \"white\", \"gridwidth\": 2, \"linecolor\": \"white\", \"showbackground\": true, \"ticks\": \"\", \"zerolinecolor\": \"white\"}, \"zaxis\": {\"backgroundcolor\": \"#E5ECF6\", \"gridcolor\": \"white\", \"gridwidth\": 2, \"linecolor\": \"white\", \"showbackground\": true, \"ticks\": \"\", \"zerolinecolor\": \"white\"}}, \"shapedefaults\": {\"line\": {\"color\": \"#2a3f5f\"}}, \"ternary\": {\"aaxis\": {\"gridcolor\": \"white\", \"linecolor\": \"white\", \"ticks\": \"\"}, \"baxis\": {\"gridcolor\": \"white\", \"linecolor\": \"white\", \"ticks\": \"\"}, \"bgcolor\": \"#E5ECF6\", \"caxis\": {\"gridcolor\": \"white\", \"linecolor\": \"white\", \"ticks\": \"\"}}, \"title\": {\"x\": 0.05}, \"xaxis\": {\"automargin\": true, \"gridcolor\": \"white\", \"linecolor\": \"white\", \"ticks\": \"\", \"title\": {\"standoff\": 15}, \"zerolinecolor\": \"white\", \"zerolinewidth\": 2}, \"yaxis\": {\"automargin\": true, \"gridcolor\": \"white\", \"linecolor\": \"white\", \"ticks\": \"\", \"title\": {\"standoff\": 15}, \"zerolinecolor\": \"white\", \"zerolinewidth\": 2}}}, \"xaxis\": {\"anchor\": \"y\", \"domain\": [0.0, 1.0], \"title\": {\"text\": \"Volumes (uL)\"}}, \"yaxis\": {\"anchor\": \"x\", \"domain\": [0.0, 1.0], \"title\": {\"text\": \"Alpha Signal\"}}},                        {\"responsive\": true}                    ).then(function(){\n",
       "                            \n",
       "var gd = document.getElementById('ae800048-a029-4ae2-ab9c-a593dc7fa320');\n",
       "var x = new MutationObserver(function (mutations, observer) {{\n",
       "        var display = window.getComputedStyle(gd).display;\n",
       "        if (!display || display === 'none') {{\n",
       "            console.log([gd, 'removed!']);\n",
       "            Plotly.purge(gd);\n",
       "            observer.disconnect();\n",
       "        }}\n",
       "}});\n",
       "\n",
       "// Listen for the removal of the full notebook cells\n",
       "var notebookContainer = gd.closest('#notebook-container');\n",
       "if (notebookContainer) {{\n",
       "    x.observe(notebookContainer, {childList: true});\n",
       "}}\n",
       "\n",
       "// Listen for the clearing of the current output cell\n",
       "var outputEl = gd.closest('.output');\n",
       "if (outputEl) {{\n",
       "    x.observe(outputEl, {childList: true});\n",
       "}}\n",
       "\n",
       "                        })                };                });            </script>        </div>"
      ]
     },
     "metadata": {},
     "output_type": "display_data"
    },
    {
     "data": {
      "application/vnd.plotly.v1+json": {
       "config": {
        "plotlyServerURL": "https://plot.ly"
       },
       "data": [
        {
         "hovertemplate": "Well_Id=D01<br>Volumes=%{x}<br>Alpha=%{marker.size}<extra></extra>",
         "legendgroup": "D01",
         "marker": {
          "color": "#636efa",
          "size": [
           164108,
           432966,
           508350,
           185850,
           77974,
           20574,
           9202,
           4419
          ],
          "sizemode": "area",
          "sizeref": 1341.6425,
          "symbol": "circle"
         },
         "mode": "lines+markers",
         "name": "D01",
         "orientation": "v",
         "showlegend": true,
         "type": "scatter",
         "x": [
          2.4,
          0.96,
          0.384,
          0.1536,
          0.06144,
          0.02458,
          0.00983,
          0.00393
         ],
         "xaxis": "x",
         "y": [
          164108,
          432966,
          508350,
          185850,
          77974,
          20574,
          9202,
          4419
         ],
         "yaxis": "y"
        },
        {
         "hovertemplate": "Well_Id=D02<br>Volumes=%{x}<br>Alpha=%{marker.size}<extra></extra>",
         "legendgroup": "D02",
         "marker": {
          "color": "#EF553B",
          "size": [
           418026,
           288026,
           129526,
           38491,
           19970,
           6530,
           3228,
           1891
          ],
          "sizemode": "area",
          "sizeref": 1341.6425,
          "symbol": "circle"
         },
         "mode": "lines+markers",
         "name": "D02",
         "orientation": "v",
         "showlegend": true,
         "type": "scatter",
         "x": [
          2.4,
          0.96,
          0.384,
          0.1536,
          0.06144,
          0.02458,
          0.00983,
          0.00393
         ],
         "xaxis": "x",
         "y": [
          418026,
          288026,
          129526,
          38491,
          19970,
          6530,
          3228,
          1891
         ],
         "yaxis": "y"
        },
        {
         "hovertemplate": "Well_Id=D03<br>Volumes=%{x}<br>Alpha=%{marker.size}<extra></extra>",
         "legendgroup": "D03",
         "marker": {
          "color": "#00cc96",
          "size": [
           340551,
           99951,
           37300,
           11576,
           6545,
           2505,
           1764,
           1229
          ],
          "sizemode": "area",
          "sizeref": 1341.6425,
          "symbol": "circle"
         },
         "mode": "lines+markers",
         "name": "D03",
         "orientation": "v",
         "showlegend": true,
         "type": "scatter",
         "x": [
          2.4,
          0.96,
          0.384,
          0.1536,
          0.06144,
          0.02458,
          0.00983,
          0.00393
         ],
         "xaxis": "x",
         "y": [
          340551,
          99951,
          37300,
          11576,
          6545,
          2505,
          1764,
          1229
         ],
         "yaxis": "y"
        },
        {
         "hovertemplate": "Well_Id=D04<br>Volumes=%{x}<br>Alpha=%{marker.size}<extra></extra>",
         "legendgroup": "D04",
         "marker": {
          "color": "#ab63fa",
          "size": [
           122289,
           26097,
           12956,
           5505,
           2641,
           1608,
           1239,
           1165
          ],
          "sizemode": "area",
          "sizeref": 1341.6425,
          "symbol": "circle"
         },
         "mode": "lines+markers",
         "name": "D04",
         "orientation": "v",
         "showlegend": true,
         "type": "scatter",
         "x": [
          2.4,
          0.96,
          0.384,
          0.1536,
          0.06144,
          0.02458,
          0.00983,
          0.00393
         ],
         "xaxis": "x",
         "y": [
          122289,
          26097,
          12956,
          5505,
          2641,
          1608,
          1239,
          1165
         ],
         "yaxis": "y"
        },
        {
         "hovertemplate": "Well_Id=D05<br>Volumes=%{x}<br>Alpha=%{marker.size}<extra></extra>",
         "legendgroup": "D05",
         "marker": {
          "color": "#FFA15A",
          "size": [
           31743,
           9798,
           5004,
           2430,
           1566,
           1175,
           1115,
           953
          ],
          "sizemode": "area",
          "sizeref": 1341.6425,
          "symbol": "circle"
         },
         "mode": "lines+markers",
         "name": "D05",
         "orientation": "v",
         "showlegend": true,
         "type": "scatter",
         "x": [
          2.4,
          0.96,
          0.384,
          0.1536,
          0.06144,
          0.02458,
          0.00983,
          0.00393
         ],
         "xaxis": "x",
         "y": [
          31743,
          9798,
          5004,
          2430,
          1566,
          1175,
          1115,
          953
         ],
         "yaxis": "y"
        },
        {
         "hovertemplate": "Well_Id=D06<br>Volumes=%{x}<br>Alpha=%{marker.size}<extra></extra>",
         "legendgroup": "D06",
         "marker": {
          "color": "#19d3f3",
          "size": [
           9878,
           4506,
           2395,
           1891,
           1165,
           1130,
           1003,
           1049
          ],
          "sizemode": "area",
          "sizeref": 1341.6425,
          "symbol": "circle"
         },
         "mode": "lines+markers",
         "name": "D06",
         "orientation": "v",
         "showlegend": true,
         "type": "scatter",
         "x": [
          2.4,
          0.96,
          0.384,
          0.1536,
          0.06144,
          0.02458,
          0.00983,
          0.00393
         ],
         "xaxis": "x",
         "y": [
          9878,
          4506,
          2395,
          1891,
          1165,
          1130,
          1003,
          1049
         ],
         "yaxis": "y"
        },
        {
         "hovertemplate": "Well_Id=D07<br>Volumes=%{x}<br>Alpha=%{marker.size}<extra></extra>",
         "legendgroup": "D07",
         "marker": {
          "color": "#FF6692",
          "size": [
           180163,
           463970,
           536657,
           224905,
           68635,
           23276,
           9521,
           4434
          ],
          "sizemode": "area",
          "sizeref": 1341.6425,
          "symbol": "circle"
         },
         "mode": "lines+markers",
         "name": "D07",
         "orientation": "v",
         "showlegend": true,
         "type": "scatter",
         "x": [
          2.4,
          0.96,
          0.384,
          0.1536,
          0.06144,
          0.02458,
          0.00983,
          0.00393
         ],
         "xaxis": "x",
         "y": [
          180163,
          463970,
          536657,
          224905,
          68635,
          23276,
          9521,
          4434
         ],
         "yaxis": "y"
        },
        {
         "hovertemplate": "Well_Id=D08<br>Volumes=%{x}<br>Alpha=%{marker.size}<extra></extra>",
         "legendgroup": "D08",
         "marker": {
          "color": "#B6E880",
          "size": [
           414961,
           401699,
           179991,
           61109,
           20732,
           8369,
           3680,
           2306
          ],
          "sizemode": "area",
          "sizeref": 1341.6425,
          "symbol": "circle"
         },
         "mode": "lines+markers",
         "name": "D08",
         "orientation": "v",
         "showlegend": true,
         "type": "scatter",
         "x": [
          2.4,
          0.96,
          0.384,
          0.1536,
          0.06144,
          0.02458,
          0.00983,
          0.00393
         ],
         "xaxis": "x",
         "y": [
          414961,
          401699,
          179991,
          61109,
          20732,
          8369,
          3680,
          2306
         ],
         "yaxis": "y"
        },
        {
         "hovertemplate": "Well_Id=D09<br>Volumes=%{x}<br>Alpha=%{marker.size}<extra></extra>",
         "legendgroup": "D09",
         "marker": {
          "color": "#FF97FF",
          "size": [
           318565,
           112466,
           43630,
           17449,
           7017,
           3309,
           2014,
           1479
          ],
          "sizemode": "area",
          "sizeref": 1341.6425,
          "symbol": "circle"
         },
         "mode": "lines+markers",
         "name": "D09",
         "orientation": "v",
         "showlegend": true,
         "type": "scatter",
         "x": [
          2.4,
          0.96,
          0.384,
          0.1536,
          0.06144,
          0.02458,
          0.00983,
          0.00393
         ],
         "xaxis": "x",
         "y": [
          318565,
          112466,
          43630,
          17449,
          7017,
          3309,
          2014,
          1479
         ],
         "yaxis": "y"
        },
        {
         "hovertemplate": "Well_Id=D10<br>Volumes=%{x}<br>Alpha=%{marker.size}<extra></extra>",
         "legendgroup": "D10",
         "marker": {
          "color": "#FECB52",
          "size": [
           135688,
           38649,
           14801,
           6102,
           2843,
           1687,
           1318,
           1112
          ],
          "sizemode": "area",
          "sizeref": 1341.6425,
          "symbol": "circle"
         },
         "mode": "lines+markers",
         "name": "D10",
         "orientation": "v",
         "showlegend": true,
         "type": "scatter",
         "x": [
          2.4,
          0.96,
          0.384,
          0.1536,
          0.06144,
          0.02458,
          0.00983,
          0.00393
         ],
         "xaxis": "x",
         "y": [
          135688,
          38649,
          14801,
          6102,
          2843,
          1687,
          1318,
          1112
         ],
         "yaxis": "y"
        },
        {
         "hovertemplate": "Well_Id=D11<br>Volumes=%{x}<br>Alpha=%{marker.size}<extra></extra>",
         "legendgroup": "D11",
         "marker": {
          "color": "#636efa",
          "size": [
           29110,
           10560,
           5079,
           2633,
           1839,
           1204,
           1263,
           1140
          ],
          "sizemode": "area",
          "sizeref": 1341.6425,
          "symbol": "circle"
         },
         "mode": "lines+markers",
         "name": "D11",
         "orientation": "v",
         "showlegend": true,
         "type": "scatter",
         "x": [
          2.4,
          0.96,
          0.384,
          0.1536,
          0.06144,
          0.02458,
          0.00983,
          0.00393
         ],
         "xaxis": "x",
         "y": [
          29110,
          10560,
          5079,
          2633,
          1839,
          1204,
          1263,
          1140
         ],
         "yaxis": "y"
        },
        {
         "hovertemplate": "Well_Id=D12<br>Volumes=%{x}<br>Alpha=%{marker.size}<extra></extra>",
         "legendgroup": "D12",
         "marker": {
          "color": "#EF553B",
          "size": [
           9894,
           4599,
           2464,
           1538,
           1184,
           1138,
           943,
           944
          ],
          "sizemode": "area",
          "sizeref": 1341.6425,
          "symbol": "circle"
         },
         "mode": "lines+markers",
         "name": "D12",
         "orientation": "v",
         "showlegend": true,
         "type": "scatter",
         "x": [
          2.4,
          0.96,
          0.384,
          0.1536,
          0.06144,
          0.02458,
          0.00983,
          0.00393
         ],
         "xaxis": "x",
         "y": [
          9894,
          4599,
          2464,
          1538,
          1184,
          1138,
          943,
          944
         ],
         "yaxis": "y"
        }
       ],
       "layout": {
        "legend": {
         "itemsizing": "constant",
         "title": {
          "text": "Well_Id"
         },
         "tracegroupgap": 0
        },
        "margin": {
         "t": 60
        },
        "template": {
         "data": {
          "bar": [
           {
            "error_x": {
             "color": "#2a3f5f"
            },
            "error_y": {
             "color": "#2a3f5f"
            },
            "marker": {
             "line": {
              "color": "#E5ECF6",
              "width": 0.5
             }
            },
            "type": "bar"
           }
          ],
          "barpolar": [
           {
            "marker": {
             "line": {
              "color": "#E5ECF6",
              "width": 0.5
             }
            },
            "type": "barpolar"
           }
          ],
          "carpet": [
           {
            "aaxis": {
             "endlinecolor": "#2a3f5f",
             "gridcolor": "white",
             "linecolor": "white",
             "minorgridcolor": "white",
             "startlinecolor": "#2a3f5f"
            },
            "baxis": {
             "endlinecolor": "#2a3f5f",
             "gridcolor": "white",
             "linecolor": "white",
             "minorgridcolor": "white",
             "startlinecolor": "#2a3f5f"
            },
            "type": "carpet"
           }
          ],
          "choropleth": [
           {
            "colorbar": {
             "outlinewidth": 0,
             "ticks": ""
            },
            "type": "choropleth"
           }
          ],
          "contour": [
           {
            "colorbar": {
             "outlinewidth": 0,
             "ticks": ""
            },
            "colorscale": [
             [
              0,
              "#0d0887"
             ],
             [
              0.1111111111111111,
              "#46039f"
             ],
             [
              0.2222222222222222,
              "#7201a8"
             ],
             [
              0.3333333333333333,
              "#9c179e"
             ],
             [
              0.4444444444444444,
              "#bd3786"
             ],
             [
              0.5555555555555556,
              "#d8576b"
             ],
             [
              0.6666666666666666,
              "#ed7953"
             ],
             [
              0.7777777777777778,
              "#fb9f3a"
             ],
             [
              0.8888888888888888,
              "#fdca26"
             ],
             [
              1,
              "#f0f921"
             ]
            ],
            "type": "contour"
           }
          ],
          "contourcarpet": [
           {
            "colorbar": {
             "outlinewidth": 0,
             "ticks": ""
            },
            "type": "contourcarpet"
           }
          ],
          "heatmap": [
           {
            "colorbar": {
             "outlinewidth": 0,
             "ticks": ""
            },
            "colorscale": [
             [
              0,
              "#0d0887"
             ],
             [
              0.1111111111111111,
              "#46039f"
             ],
             [
              0.2222222222222222,
              "#7201a8"
             ],
             [
              0.3333333333333333,
              "#9c179e"
             ],
             [
              0.4444444444444444,
              "#bd3786"
             ],
             [
              0.5555555555555556,
              "#d8576b"
             ],
             [
              0.6666666666666666,
              "#ed7953"
             ],
             [
              0.7777777777777778,
              "#fb9f3a"
             ],
             [
              0.8888888888888888,
              "#fdca26"
             ],
             [
              1,
              "#f0f921"
             ]
            ],
            "type": "heatmap"
           }
          ],
          "heatmapgl": [
           {
            "colorbar": {
             "outlinewidth": 0,
             "ticks": ""
            },
            "colorscale": [
             [
              0,
              "#0d0887"
             ],
             [
              0.1111111111111111,
              "#46039f"
             ],
             [
              0.2222222222222222,
              "#7201a8"
             ],
             [
              0.3333333333333333,
              "#9c179e"
             ],
             [
              0.4444444444444444,
              "#bd3786"
             ],
             [
              0.5555555555555556,
              "#d8576b"
             ],
             [
              0.6666666666666666,
              "#ed7953"
             ],
             [
              0.7777777777777778,
              "#fb9f3a"
             ],
             [
              0.8888888888888888,
              "#fdca26"
             ],
             [
              1,
              "#f0f921"
             ]
            ],
            "type": "heatmapgl"
           }
          ],
          "histogram": [
           {
            "marker": {
             "colorbar": {
              "outlinewidth": 0,
              "ticks": ""
             }
            },
            "type": "histogram"
           }
          ],
          "histogram2d": [
           {
            "colorbar": {
             "outlinewidth": 0,
             "ticks": ""
            },
            "colorscale": [
             [
              0,
              "#0d0887"
             ],
             [
              0.1111111111111111,
              "#46039f"
             ],
             [
              0.2222222222222222,
              "#7201a8"
             ],
             [
              0.3333333333333333,
              "#9c179e"
             ],
             [
              0.4444444444444444,
              "#bd3786"
             ],
             [
              0.5555555555555556,
              "#d8576b"
             ],
             [
              0.6666666666666666,
              "#ed7953"
             ],
             [
              0.7777777777777778,
              "#fb9f3a"
             ],
             [
              0.8888888888888888,
              "#fdca26"
             ],
             [
              1,
              "#f0f921"
             ]
            ],
            "type": "histogram2d"
           }
          ],
          "histogram2dcontour": [
           {
            "colorbar": {
             "outlinewidth": 0,
             "ticks": ""
            },
            "colorscale": [
             [
              0,
              "#0d0887"
             ],
             [
              0.1111111111111111,
              "#46039f"
             ],
             [
              0.2222222222222222,
              "#7201a8"
             ],
             [
              0.3333333333333333,
              "#9c179e"
             ],
             [
              0.4444444444444444,
              "#bd3786"
             ],
             [
              0.5555555555555556,
              "#d8576b"
             ],
             [
              0.6666666666666666,
              "#ed7953"
             ],
             [
              0.7777777777777778,
              "#fb9f3a"
             ],
             [
              0.8888888888888888,
              "#fdca26"
             ],
             [
              1,
              "#f0f921"
             ]
            ],
            "type": "histogram2dcontour"
           }
          ],
          "mesh3d": [
           {
            "colorbar": {
             "outlinewidth": 0,
             "ticks": ""
            },
            "type": "mesh3d"
           }
          ],
          "parcoords": [
           {
            "line": {
             "colorbar": {
              "outlinewidth": 0,
              "ticks": ""
             }
            },
            "type": "parcoords"
           }
          ],
          "pie": [
           {
            "automargin": true,
            "type": "pie"
           }
          ],
          "scatter": [
           {
            "marker": {
             "colorbar": {
              "outlinewidth": 0,
              "ticks": ""
             }
            },
            "type": "scatter"
           }
          ],
          "scatter3d": [
           {
            "line": {
             "colorbar": {
              "outlinewidth": 0,
              "ticks": ""
             }
            },
            "marker": {
             "colorbar": {
              "outlinewidth": 0,
              "ticks": ""
             }
            },
            "type": "scatter3d"
           }
          ],
          "scattercarpet": [
           {
            "marker": {
             "colorbar": {
              "outlinewidth": 0,
              "ticks": ""
             }
            },
            "type": "scattercarpet"
           }
          ],
          "scattergeo": [
           {
            "marker": {
             "colorbar": {
              "outlinewidth": 0,
              "ticks": ""
             }
            },
            "type": "scattergeo"
           }
          ],
          "scattergl": [
           {
            "marker": {
             "colorbar": {
              "outlinewidth": 0,
              "ticks": ""
             }
            },
            "type": "scattergl"
           }
          ],
          "scattermapbox": [
           {
            "marker": {
             "colorbar": {
              "outlinewidth": 0,
              "ticks": ""
             }
            },
            "type": "scattermapbox"
           }
          ],
          "scatterpolar": [
           {
            "marker": {
             "colorbar": {
              "outlinewidth": 0,
              "ticks": ""
             }
            },
            "type": "scatterpolar"
           }
          ],
          "scatterpolargl": [
           {
            "marker": {
             "colorbar": {
              "outlinewidth": 0,
              "ticks": ""
             }
            },
            "type": "scatterpolargl"
           }
          ],
          "scatterternary": [
           {
            "marker": {
             "colorbar": {
              "outlinewidth": 0,
              "ticks": ""
             }
            },
            "type": "scatterternary"
           }
          ],
          "surface": [
           {
            "colorbar": {
             "outlinewidth": 0,
             "ticks": ""
            },
            "colorscale": [
             [
              0,
              "#0d0887"
             ],
             [
              0.1111111111111111,
              "#46039f"
             ],
             [
              0.2222222222222222,
              "#7201a8"
             ],
             [
              0.3333333333333333,
              "#9c179e"
             ],
             [
              0.4444444444444444,
              "#bd3786"
             ],
             [
              0.5555555555555556,
              "#d8576b"
             ],
             [
              0.6666666666666666,
              "#ed7953"
             ],
             [
              0.7777777777777778,
              "#fb9f3a"
             ],
             [
              0.8888888888888888,
              "#fdca26"
             ],
             [
              1,
              "#f0f921"
             ]
            ],
            "type": "surface"
           }
          ],
          "table": [
           {
            "cells": {
             "fill": {
              "color": "#EBF0F8"
             },
             "line": {
              "color": "white"
             }
            },
            "header": {
             "fill": {
              "color": "#C8D4E3"
             },
             "line": {
              "color": "white"
             }
            },
            "type": "table"
           }
          ]
         },
         "layout": {
          "annotationdefaults": {
           "arrowcolor": "#2a3f5f",
           "arrowhead": 0,
           "arrowwidth": 1
          },
          "autotypenumbers": "strict",
          "coloraxis": {
           "colorbar": {
            "outlinewidth": 0,
            "ticks": ""
           }
          },
          "colorscale": {
           "diverging": [
            [
             0,
             "#8e0152"
            ],
            [
             0.1,
             "#c51b7d"
            ],
            [
             0.2,
             "#de77ae"
            ],
            [
             0.3,
             "#f1b6da"
            ],
            [
             0.4,
             "#fde0ef"
            ],
            [
             0.5,
             "#f7f7f7"
            ],
            [
             0.6,
             "#e6f5d0"
            ],
            [
             0.7,
             "#b8e186"
            ],
            [
             0.8,
             "#7fbc41"
            ],
            [
             0.9,
             "#4d9221"
            ],
            [
             1,
             "#276419"
            ]
           ],
           "sequential": [
            [
             0,
             "#0d0887"
            ],
            [
             0.1111111111111111,
             "#46039f"
            ],
            [
             0.2222222222222222,
             "#7201a8"
            ],
            [
             0.3333333333333333,
             "#9c179e"
            ],
            [
             0.4444444444444444,
             "#bd3786"
            ],
            [
             0.5555555555555556,
             "#d8576b"
            ],
            [
             0.6666666666666666,
             "#ed7953"
            ],
            [
             0.7777777777777778,
             "#fb9f3a"
            ],
            [
             0.8888888888888888,
             "#fdca26"
            ],
            [
             1,
             "#f0f921"
            ]
           ],
           "sequentialminus": [
            [
             0,
             "#0d0887"
            ],
            [
             0.1111111111111111,
             "#46039f"
            ],
            [
             0.2222222222222222,
             "#7201a8"
            ],
            [
             0.3333333333333333,
             "#9c179e"
            ],
            [
             0.4444444444444444,
             "#bd3786"
            ],
            [
             0.5555555555555556,
             "#d8576b"
            ],
            [
             0.6666666666666666,
             "#ed7953"
            ],
            [
             0.7777777777777778,
             "#fb9f3a"
            ],
            [
             0.8888888888888888,
             "#fdca26"
            ],
            [
             1,
             "#f0f921"
            ]
           ]
          },
          "colorway": [
           "#636efa",
           "#EF553B",
           "#00cc96",
           "#ab63fa",
           "#FFA15A",
           "#19d3f3",
           "#FF6692",
           "#B6E880",
           "#FF97FF",
           "#FECB52"
          ],
          "font": {
           "color": "#2a3f5f"
          },
          "geo": {
           "bgcolor": "white",
           "lakecolor": "white",
           "landcolor": "#E5ECF6",
           "showlakes": true,
           "showland": true,
           "subunitcolor": "white"
          },
          "hoverlabel": {
           "align": "left"
          },
          "hovermode": "closest",
          "mapbox": {
           "style": "light"
          },
          "paper_bgcolor": "white",
          "plot_bgcolor": "#E5ECF6",
          "polar": {
           "angularaxis": {
            "gridcolor": "white",
            "linecolor": "white",
            "ticks": ""
           },
           "bgcolor": "#E5ECF6",
           "radialaxis": {
            "gridcolor": "white",
            "linecolor": "white",
            "ticks": ""
           }
          },
          "scene": {
           "xaxis": {
            "backgroundcolor": "#E5ECF6",
            "gridcolor": "white",
            "gridwidth": 2,
            "linecolor": "white",
            "showbackground": true,
            "ticks": "",
            "zerolinecolor": "white"
           },
           "yaxis": {
            "backgroundcolor": "#E5ECF6",
            "gridcolor": "white",
            "gridwidth": 2,
            "linecolor": "white",
            "showbackground": true,
            "ticks": "",
            "zerolinecolor": "white"
           },
           "zaxis": {
            "backgroundcolor": "#E5ECF6",
            "gridcolor": "white",
            "gridwidth": 2,
            "linecolor": "white",
            "showbackground": true,
            "ticks": "",
            "zerolinecolor": "white"
           }
          },
          "shapedefaults": {
           "line": {
            "color": "#2a3f5f"
           }
          },
          "ternary": {
           "aaxis": {
            "gridcolor": "white",
            "linecolor": "white",
            "ticks": ""
           },
           "baxis": {
            "gridcolor": "white",
            "linecolor": "white",
            "ticks": ""
           },
           "bgcolor": "#E5ECF6",
           "caxis": {
            "gridcolor": "white",
            "linecolor": "white",
            "ticks": ""
           }
          },
          "title": {
           "x": 0.05
          },
          "xaxis": {
           "automargin": true,
           "gridcolor": "white",
           "linecolor": "white",
           "ticks": "",
           "title": {
            "standoff": 15
           },
           "zerolinecolor": "white",
           "zerolinewidth": 2
          },
          "yaxis": {
           "automargin": true,
           "gridcolor": "white",
           "linecolor": "white",
           "ticks": "",
           "title": {
            "standoff": 15
           },
           "zerolinecolor": "white",
           "zerolinewidth": 2
          }
         }
        },
        "xaxis": {
         "anchor": "y",
         "domain": [
          0,
          1
         ],
         "title": {
          "text": "Volumes (uL)"
         }
        },
        "yaxis": {
         "anchor": "x",
         "domain": [
          0,
          1
         ],
         "title": {
          "text": "Alpha Signal"
         }
        }
       }
      },
      "text/html": [
       "<div>                            <div id=\"5bac4628-f60c-4be5-9769-205e049d8b8f\" class=\"plotly-graph-div\" style=\"height:525px; width:100%;\"></div>            <script type=\"text/javascript\">                require([\"plotly\"], function(Plotly) {                    window.PLOTLYENV=window.PLOTLYENV || {};                                    if (document.getElementById(\"5bac4628-f60c-4be5-9769-205e049d8b8f\")) {                    Plotly.newPlot(                        \"5bac4628-f60c-4be5-9769-205e049d8b8f\",                        [{\"hovertemplate\": \"Well_Id=D01<br>Volumes=%{x}<br>Alpha=%{marker.size}<extra></extra>\", \"legendgroup\": \"D01\", \"marker\": {\"color\": \"#636efa\", \"size\": [164108, 432966, 508350, 185850, 77974, 20574, 9202, 4419], \"sizemode\": \"area\", \"sizeref\": 1341.6425, \"symbol\": \"circle\"}, \"mode\": \"lines+markers\", \"name\": \"D01\", \"orientation\": \"v\", \"showlegend\": true, \"type\": \"scatter\", \"x\": [2.4, 0.96, 0.384, 0.1536, 0.06144, 0.02458, 0.00983, 0.00393], \"xaxis\": \"x\", \"y\": [164108, 432966, 508350, 185850, 77974, 20574, 9202, 4419], \"yaxis\": \"y\"}, {\"hovertemplate\": \"Well_Id=D02<br>Volumes=%{x}<br>Alpha=%{marker.size}<extra></extra>\", \"legendgroup\": \"D02\", \"marker\": {\"color\": \"#EF553B\", \"size\": [418026, 288026, 129526, 38491, 19970, 6530, 3228, 1891], \"sizemode\": \"area\", \"sizeref\": 1341.6425, \"symbol\": \"circle\"}, \"mode\": \"lines+markers\", \"name\": \"D02\", \"orientation\": \"v\", \"showlegend\": true, \"type\": \"scatter\", \"x\": [2.4, 0.96, 0.384, 0.1536, 0.06144, 0.02458, 0.00983, 0.00393], \"xaxis\": \"x\", \"y\": [418026, 288026, 129526, 38491, 19970, 6530, 3228, 1891], \"yaxis\": \"y\"}, {\"hovertemplate\": \"Well_Id=D03<br>Volumes=%{x}<br>Alpha=%{marker.size}<extra></extra>\", \"legendgroup\": \"D03\", \"marker\": {\"color\": \"#00cc96\", \"size\": [340551, 99951, 37300, 11576, 6545, 2505, 1764, 1229], \"sizemode\": \"area\", \"sizeref\": 1341.6425, \"symbol\": \"circle\"}, \"mode\": \"lines+markers\", \"name\": \"D03\", \"orientation\": \"v\", \"showlegend\": true, \"type\": \"scatter\", \"x\": [2.4, 0.96, 0.384, 0.1536, 0.06144, 0.02458, 0.00983, 0.00393], \"xaxis\": \"x\", \"y\": [340551, 99951, 37300, 11576, 6545, 2505, 1764, 1229], \"yaxis\": \"y\"}, {\"hovertemplate\": \"Well_Id=D04<br>Volumes=%{x}<br>Alpha=%{marker.size}<extra></extra>\", \"legendgroup\": \"D04\", \"marker\": {\"color\": \"#ab63fa\", \"size\": [122289, 26097, 12956, 5505, 2641, 1608, 1239, 1165], \"sizemode\": \"area\", \"sizeref\": 1341.6425, \"symbol\": \"circle\"}, \"mode\": \"lines+markers\", \"name\": \"D04\", \"orientation\": \"v\", \"showlegend\": true, \"type\": \"scatter\", \"x\": [2.4, 0.96, 0.384, 0.1536, 0.06144, 0.02458, 0.00983, 0.00393], \"xaxis\": \"x\", \"y\": [122289, 26097, 12956, 5505, 2641, 1608, 1239, 1165], \"yaxis\": \"y\"}, {\"hovertemplate\": \"Well_Id=D05<br>Volumes=%{x}<br>Alpha=%{marker.size}<extra></extra>\", \"legendgroup\": \"D05\", \"marker\": {\"color\": \"#FFA15A\", \"size\": [31743, 9798, 5004, 2430, 1566, 1175, 1115, 953], \"sizemode\": \"area\", \"sizeref\": 1341.6425, \"symbol\": \"circle\"}, \"mode\": \"lines+markers\", \"name\": \"D05\", \"orientation\": \"v\", \"showlegend\": true, \"type\": \"scatter\", \"x\": [2.4, 0.96, 0.384, 0.1536, 0.06144, 0.02458, 0.00983, 0.00393], \"xaxis\": \"x\", \"y\": [31743, 9798, 5004, 2430, 1566, 1175, 1115, 953], \"yaxis\": \"y\"}, {\"hovertemplate\": \"Well_Id=D06<br>Volumes=%{x}<br>Alpha=%{marker.size}<extra></extra>\", \"legendgroup\": \"D06\", \"marker\": {\"color\": \"#19d3f3\", \"size\": [9878, 4506, 2395, 1891, 1165, 1130, 1003, 1049], \"sizemode\": \"area\", \"sizeref\": 1341.6425, \"symbol\": \"circle\"}, \"mode\": \"lines+markers\", \"name\": \"D06\", \"orientation\": \"v\", \"showlegend\": true, \"type\": \"scatter\", \"x\": [2.4, 0.96, 0.384, 0.1536, 0.06144, 0.02458, 0.00983, 0.00393], \"xaxis\": \"x\", \"y\": [9878, 4506, 2395, 1891, 1165, 1130, 1003, 1049], \"yaxis\": \"y\"}, {\"hovertemplate\": \"Well_Id=D07<br>Volumes=%{x}<br>Alpha=%{marker.size}<extra></extra>\", \"legendgroup\": \"D07\", \"marker\": {\"color\": \"#FF6692\", \"size\": [180163, 463970, 536657, 224905, 68635, 23276, 9521, 4434], \"sizemode\": \"area\", \"sizeref\": 1341.6425, \"symbol\": \"circle\"}, \"mode\": \"lines+markers\", \"name\": \"D07\", \"orientation\": \"v\", \"showlegend\": true, \"type\": \"scatter\", \"x\": [2.4, 0.96, 0.384, 0.1536, 0.06144, 0.02458, 0.00983, 0.00393], \"xaxis\": \"x\", \"y\": [180163, 463970, 536657, 224905, 68635, 23276, 9521, 4434], \"yaxis\": \"y\"}, {\"hovertemplate\": \"Well_Id=D08<br>Volumes=%{x}<br>Alpha=%{marker.size}<extra></extra>\", \"legendgroup\": \"D08\", \"marker\": {\"color\": \"#B6E880\", \"size\": [414961, 401699, 179991, 61109, 20732, 8369, 3680, 2306], \"sizemode\": \"area\", \"sizeref\": 1341.6425, \"symbol\": \"circle\"}, \"mode\": \"lines+markers\", \"name\": \"D08\", \"orientation\": \"v\", \"showlegend\": true, \"type\": \"scatter\", \"x\": [2.4, 0.96, 0.384, 0.1536, 0.06144, 0.02458, 0.00983, 0.00393], \"xaxis\": \"x\", \"y\": [414961, 401699, 179991, 61109, 20732, 8369, 3680, 2306], \"yaxis\": \"y\"}, {\"hovertemplate\": \"Well_Id=D09<br>Volumes=%{x}<br>Alpha=%{marker.size}<extra></extra>\", \"legendgroup\": \"D09\", \"marker\": {\"color\": \"#FF97FF\", \"size\": [318565, 112466, 43630, 17449, 7017, 3309, 2014, 1479], \"sizemode\": \"area\", \"sizeref\": 1341.6425, \"symbol\": \"circle\"}, \"mode\": \"lines+markers\", \"name\": \"D09\", \"orientation\": \"v\", \"showlegend\": true, \"type\": \"scatter\", \"x\": [2.4, 0.96, 0.384, 0.1536, 0.06144, 0.02458, 0.00983, 0.00393], \"xaxis\": \"x\", \"y\": [318565, 112466, 43630, 17449, 7017, 3309, 2014, 1479], \"yaxis\": \"y\"}, {\"hovertemplate\": \"Well_Id=D10<br>Volumes=%{x}<br>Alpha=%{marker.size}<extra></extra>\", \"legendgroup\": \"D10\", \"marker\": {\"color\": \"#FECB52\", \"size\": [135688, 38649, 14801, 6102, 2843, 1687, 1318, 1112], \"sizemode\": \"area\", \"sizeref\": 1341.6425, \"symbol\": \"circle\"}, \"mode\": \"lines+markers\", \"name\": \"D10\", \"orientation\": \"v\", \"showlegend\": true, \"type\": \"scatter\", \"x\": [2.4, 0.96, 0.384, 0.1536, 0.06144, 0.02458, 0.00983, 0.00393], \"xaxis\": \"x\", \"y\": [135688, 38649, 14801, 6102, 2843, 1687, 1318, 1112], \"yaxis\": \"y\"}, {\"hovertemplate\": \"Well_Id=D11<br>Volumes=%{x}<br>Alpha=%{marker.size}<extra></extra>\", \"legendgroup\": \"D11\", \"marker\": {\"color\": \"#636efa\", \"size\": [29110, 10560, 5079, 2633, 1839, 1204, 1263, 1140], \"sizemode\": \"area\", \"sizeref\": 1341.6425, \"symbol\": \"circle\"}, \"mode\": \"lines+markers\", \"name\": \"D11\", \"orientation\": \"v\", \"showlegend\": true, \"type\": \"scatter\", \"x\": [2.4, 0.96, 0.384, 0.1536, 0.06144, 0.02458, 0.00983, 0.00393], \"xaxis\": \"x\", \"y\": [29110, 10560, 5079, 2633, 1839, 1204, 1263, 1140], \"yaxis\": \"y\"}, {\"hovertemplate\": \"Well_Id=D12<br>Volumes=%{x}<br>Alpha=%{marker.size}<extra></extra>\", \"legendgroup\": \"D12\", \"marker\": {\"color\": \"#EF553B\", \"size\": [9894, 4599, 2464, 1538, 1184, 1138, 943, 944], \"sizemode\": \"area\", \"sizeref\": 1341.6425, \"symbol\": \"circle\"}, \"mode\": \"lines+markers\", \"name\": \"D12\", \"orientation\": \"v\", \"showlegend\": true, \"type\": \"scatter\", \"x\": [2.4, 0.96, 0.384, 0.1536, 0.06144, 0.02458, 0.00983, 0.00393], \"xaxis\": \"x\", \"y\": [9894, 4599, 2464, 1538, 1184, 1138, 943, 944], \"yaxis\": \"y\"}],                        {\"legend\": {\"itemsizing\": \"constant\", \"title\": {\"text\": \"Well_Id\"}, \"tracegroupgap\": 0}, \"margin\": {\"t\": 60}, \"template\": {\"data\": {\"bar\": [{\"error_x\": {\"color\": \"#2a3f5f\"}, \"error_y\": {\"color\": \"#2a3f5f\"}, \"marker\": {\"line\": {\"color\": \"#E5ECF6\", \"width\": 0.5}}, \"type\": \"bar\"}], \"barpolar\": [{\"marker\": {\"line\": {\"color\": \"#E5ECF6\", \"width\": 0.5}}, \"type\": \"barpolar\"}], \"carpet\": [{\"aaxis\": {\"endlinecolor\": \"#2a3f5f\", \"gridcolor\": \"white\", \"linecolor\": \"white\", \"minorgridcolor\": \"white\", \"startlinecolor\": \"#2a3f5f\"}, \"baxis\": {\"endlinecolor\": \"#2a3f5f\", \"gridcolor\": \"white\", \"linecolor\": \"white\", \"minorgridcolor\": \"white\", \"startlinecolor\": \"#2a3f5f\"}, \"type\": \"carpet\"}], \"choropleth\": [{\"colorbar\": {\"outlinewidth\": 0, \"ticks\": \"\"}, \"type\": \"choropleth\"}], \"contour\": [{\"colorbar\": {\"outlinewidth\": 0, \"ticks\": \"\"}, \"colorscale\": [[0.0, \"#0d0887\"], [0.1111111111111111, \"#46039f\"], [0.2222222222222222, \"#7201a8\"], [0.3333333333333333, \"#9c179e\"], [0.4444444444444444, \"#bd3786\"], [0.5555555555555556, \"#d8576b\"], [0.6666666666666666, \"#ed7953\"], [0.7777777777777778, \"#fb9f3a\"], [0.8888888888888888, \"#fdca26\"], [1.0, \"#f0f921\"]], \"type\": \"contour\"}], \"contourcarpet\": [{\"colorbar\": {\"outlinewidth\": 0, \"ticks\": \"\"}, \"type\": \"contourcarpet\"}], \"heatmap\": [{\"colorbar\": {\"outlinewidth\": 0, \"ticks\": \"\"}, \"colorscale\": [[0.0, \"#0d0887\"], [0.1111111111111111, \"#46039f\"], [0.2222222222222222, \"#7201a8\"], [0.3333333333333333, \"#9c179e\"], [0.4444444444444444, \"#bd3786\"], [0.5555555555555556, \"#d8576b\"], [0.6666666666666666, \"#ed7953\"], [0.7777777777777778, \"#fb9f3a\"], [0.8888888888888888, \"#fdca26\"], [1.0, \"#f0f921\"]], \"type\": \"heatmap\"}], \"heatmapgl\": [{\"colorbar\": {\"outlinewidth\": 0, \"ticks\": \"\"}, \"colorscale\": [[0.0, \"#0d0887\"], [0.1111111111111111, \"#46039f\"], [0.2222222222222222, \"#7201a8\"], [0.3333333333333333, \"#9c179e\"], [0.4444444444444444, \"#bd3786\"], [0.5555555555555556, \"#d8576b\"], [0.6666666666666666, \"#ed7953\"], [0.7777777777777778, \"#fb9f3a\"], [0.8888888888888888, \"#fdca26\"], [1.0, \"#f0f921\"]], \"type\": \"heatmapgl\"}], \"histogram\": [{\"marker\": {\"colorbar\": {\"outlinewidth\": 0, \"ticks\": \"\"}}, \"type\": \"histogram\"}], \"histogram2d\": [{\"colorbar\": {\"outlinewidth\": 0, \"ticks\": \"\"}, \"colorscale\": [[0.0, \"#0d0887\"], [0.1111111111111111, \"#46039f\"], [0.2222222222222222, \"#7201a8\"], [0.3333333333333333, \"#9c179e\"], [0.4444444444444444, \"#bd3786\"], [0.5555555555555556, \"#d8576b\"], [0.6666666666666666, \"#ed7953\"], [0.7777777777777778, \"#fb9f3a\"], [0.8888888888888888, \"#fdca26\"], [1.0, \"#f0f921\"]], \"type\": \"histogram2d\"}], \"histogram2dcontour\": [{\"colorbar\": {\"outlinewidth\": 0, \"ticks\": \"\"}, \"colorscale\": [[0.0, \"#0d0887\"], [0.1111111111111111, \"#46039f\"], [0.2222222222222222, \"#7201a8\"], [0.3333333333333333, \"#9c179e\"], [0.4444444444444444, \"#bd3786\"], [0.5555555555555556, \"#d8576b\"], [0.6666666666666666, \"#ed7953\"], [0.7777777777777778, \"#fb9f3a\"], [0.8888888888888888, \"#fdca26\"], [1.0, \"#f0f921\"]], \"type\": \"histogram2dcontour\"}], \"mesh3d\": [{\"colorbar\": {\"outlinewidth\": 0, \"ticks\": \"\"}, \"type\": \"mesh3d\"}], \"parcoords\": [{\"line\": {\"colorbar\": {\"outlinewidth\": 0, \"ticks\": \"\"}}, \"type\": \"parcoords\"}], \"pie\": [{\"automargin\": true, \"type\": \"pie\"}], \"scatter\": [{\"marker\": {\"colorbar\": {\"outlinewidth\": 0, \"ticks\": \"\"}}, \"type\": \"scatter\"}], \"scatter3d\": [{\"line\": {\"colorbar\": {\"outlinewidth\": 0, \"ticks\": \"\"}}, \"marker\": {\"colorbar\": {\"outlinewidth\": 0, \"ticks\": \"\"}}, \"type\": \"scatter3d\"}], \"scattercarpet\": [{\"marker\": {\"colorbar\": {\"outlinewidth\": 0, \"ticks\": \"\"}}, \"type\": \"scattercarpet\"}], \"scattergeo\": [{\"marker\": {\"colorbar\": {\"outlinewidth\": 0, \"ticks\": \"\"}}, \"type\": \"scattergeo\"}], \"scattergl\": [{\"marker\": {\"colorbar\": {\"outlinewidth\": 0, \"ticks\": \"\"}}, \"type\": \"scattergl\"}], \"scattermapbox\": [{\"marker\": {\"colorbar\": {\"outlinewidth\": 0, \"ticks\": \"\"}}, \"type\": \"scattermapbox\"}], \"scatterpolar\": [{\"marker\": {\"colorbar\": {\"outlinewidth\": 0, \"ticks\": \"\"}}, \"type\": \"scatterpolar\"}], \"scatterpolargl\": [{\"marker\": {\"colorbar\": {\"outlinewidth\": 0, \"ticks\": \"\"}}, \"type\": \"scatterpolargl\"}], \"scatterternary\": [{\"marker\": {\"colorbar\": {\"outlinewidth\": 0, \"ticks\": \"\"}}, \"type\": \"scatterternary\"}], \"surface\": [{\"colorbar\": {\"outlinewidth\": 0, \"ticks\": \"\"}, \"colorscale\": [[0.0, \"#0d0887\"], [0.1111111111111111, \"#46039f\"], [0.2222222222222222, \"#7201a8\"], [0.3333333333333333, \"#9c179e\"], [0.4444444444444444, \"#bd3786\"], [0.5555555555555556, \"#d8576b\"], [0.6666666666666666, \"#ed7953\"], [0.7777777777777778, \"#fb9f3a\"], [0.8888888888888888, \"#fdca26\"], [1.0, \"#f0f921\"]], \"type\": \"surface\"}], \"table\": [{\"cells\": {\"fill\": {\"color\": \"#EBF0F8\"}, \"line\": {\"color\": \"white\"}}, \"header\": {\"fill\": {\"color\": \"#C8D4E3\"}, \"line\": {\"color\": \"white\"}}, \"type\": \"table\"}]}, \"layout\": {\"annotationdefaults\": {\"arrowcolor\": \"#2a3f5f\", \"arrowhead\": 0, \"arrowwidth\": 1}, \"autotypenumbers\": \"strict\", \"coloraxis\": {\"colorbar\": {\"outlinewidth\": 0, \"ticks\": \"\"}}, \"colorscale\": {\"diverging\": [[0, \"#8e0152\"], [0.1, \"#c51b7d\"], [0.2, \"#de77ae\"], [0.3, \"#f1b6da\"], [0.4, \"#fde0ef\"], [0.5, \"#f7f7f7\"], [0.6, \"#e6f5d0\"], [0.7, \"#b8e186\"], [0.8, \"#7fbc41\"], [0.9, \"#4d9221\"], [1, \"#276419\"]], \"sequential\": [[0.0, \"#0d0887\"], [0.1111111111111111, \"#46039f\"], [0.2222222222222222, \"#7201a8\"], [0.3333333333333333, \"#9c179e\"], [0.4444444444444444, \"#bd3786\"], [0.5555555555555556, \"#d8576b\"], [0.6666666666666666, \"#ed7953\"], [0.7777777777777778, \"#fb9f3a\"], [0.8888888888888888, \"#fdca26\"], [1.0, \"#f0f921\"]], \"sequentialminus\": [[0.0, \"#0d0887\"], [0.1111111111111111, \"#46039f\"], [0.2222222222222222, \"#7201a8\"], [0.3333333333333333, \"#9c179e\"], [0.4444444444444444, \"#bd3786\"], [0.5555555555555556, \"#d8576b\"], [0.6666666666666666, \"#ed7953\"], [0.7777777777777778, \"#fb9f3a\"], [0.8888888888888888, \"#fdca26\"], [1.0, \"#f0f921\"]]}, \"colorway\": [\"#636efa\", \"#EF553B\", \"#00cc96\", \"#ab63fa\", \"#FFA15A\", \"#19d3f3\", \"#FF6692\", \"#B6E880\", \"#FF97FF\", \"#FECB52\"], \"font\": {\"color\": \"#2a3f5f\"}, \"geo\": {\"bgcolor\": \"white\", \"lakecolor\": \"white\", \"landcolor\": \"#E5ECF6\", \"showlakes\": true, \"showland\": true, \"subunitcolor\": \"white\"}, \"hoverlabel\": {\"align\": \"left\"}, \"hovermode\": \"closest\", \"mapbox\": {\"style\": \"light\"}, \"paper_bgcolor\": \"white\", \"plot_bgcolor\": \"#E5ECF6\", \"polar\": {\"angularaxis\": {\"gridcolor\": \"white\", \"linecolor\": \"white\", \"ticks\": \"\"}, \"bgcolor\": \"#E5ECF6\", \"radialaxis\": {\"gridcolor\": \"white\", \"linecolor\": \"white\", \"ticks\": \"\"}}, \"scene\": {\"xaxis\": {\"backgroundcolor\": \"#E5ECF6\", \"gridcolor\": \"white\", \"gridwidth\": 2, \"linecolor\": \"white\", \"showbackground\": true, \"ticks\": \"\", \"zerolinecolor\": \"white\"}, \"yaxis\": {\"backgroundcolor\": \"#E5ECF6\", \"gridcolor\": \"white\", \"gridwidth\": 2, \"linecolor\": \"white\", \"showbackground\": true, \"ticks\": \"\", \"zerolinecolor\": \"white\"}, \"zaxis\": {\"backgroundcolor\": \"#E5ECF6\", \"gridcolor\": \"white\", \"gridwidth\": 2, \"linecolor\": \"white\", \"showbackground\": true, \"ticks\": \"\", \"zerolinecolor\": \"white\"}}, \"shapedefaults\": {\"line\": {\"color\": \"#2a3f5f\"}}, \"ternary\": {\"aaxis\": {\"gridcolor\": \"white\", \"linecolor\": \"white\", \"ticks\": \"\"}, \"baxis\": {\"gridcolor\": \"white\", \"linecolor\": \"white\", \"ticks\": \"\"}, \"bgcolor\": \"#E5ECF6\", \"caxis\": {\"gridcolor\": \"white\", \"linecolor\": \"white\", \"ticks\": \"\"}}, \"title\": {\"x\": 0.05}, \"xaxis\": {\"automargin\": true, \"gridcolor\": \"white\", \"linecolor\": \"white\", \"ticks\": \"\", \"title\": {\"standoff\": 15}, \"zerolinecolor\": \"white\", \"zerolinewidth\": 2}, \"yaxis\": {\"automargin\": true, \"gridcolor\": \"white\", \"linecolor\": \"white\", \"ticks\": \"\", \"title\": {\"standoff\": 15}, \"zerolinecolor\": \"white\", \"zerolinewidth\": 2}}}, \"xaxis\": {\"anchor\": \"y\", \"domain\": [0.0, 1.0], \"title\": {\"text\": \"Volumes (uL)\"}}, \"yaxis\": {\"anchor\": \"x\", \"domain\": [0.0, 1.0], \"title\": {\"text\": \"Alpha Signal\"}}},                        {\"responsive\": true}                    ).then(function(){\n",
       "                            \n",
       "var gd = document.getElementById('5bac4628-f60c-4be5-9769-205e049d8b8f');\n",
       "var x = new MutationObserver(function (mutations, observer) {{\n",
       "        var display = window.getComputedStyle(gd).display;\n",
       "        if (!display || display === 'none') {{\n",
       "            console.log([gd, 'removed!']);\n",
       "            Plotly.purge(gd);\n",
       "            observer.disconnect();\n",
       "        }}\n",
       "}});\n",
       "\n",
       "// Listen for the removal of the full notebook cells\n",
       "var notebookContainer = gd.closest('#notebook-container');\n",
       "if (notebookContainer) {{\n",
       "    x.observe(notebookContainer, {childList: true});\n",
       "}}\n",
       "\n",
       "// Listen for the clearing of the current output cell\n",
       "var outputEl = gd.closest('.output');\n",
       "if (outputEl) {{\n",
       "    x.observe(outputEl, {childList: true});\n",
       "}}\n",
       "\n",
       "                        })                };                });            </script>        </div>"
      ]
     },
     "metadata": {},
     "output_type": "display_data"
    }
   ],
   "source": [
    "x = signal_p1[\"Volumes\"]\n",
    "y = signal_p1[\"Alpha\"]\n",
    "line = px.scatter(signal_p1, x=x, y=y, color = signal_p1[\"Well_Id\"], size=y)\n",
    "line.update_traces(mode=\"lines+markers\")\n",
    "line.update_layout(xaxis_title=\"Volumes (uL)\",\n",
    "                  yaxis_title=\"Alpha Signal\")\n",
    "\n",
    "line.show()\n",
    "x = standard_p1[\"Volumes\"]\n",
    "y = standard_p1[\"Alpha\"]\n",
    "line2 = px.scatter(standard_p1, x=x, y=y, color = standard_p1[\"Well_Id\"], size=y)\n",
    "line2.update_traces(mode=\"lines+markers\")\n",
    "line2.update_layout(xaxis_title=\"Volumes (uL)\",\n",
    "                  yaxis_title=\"Alpha Signal\")\n",
    "\n",
    "line2.show()"
   ]
  },
  {
   "cell_type": "code",
   "execution_count": 62,
   "metadata": {},
   "outputs": [],
   "source": [
    "# plt.figure(figsize=(14, 8), dpi=200)\n",
    "# for id in unique_ids[:12]:\n",
    "#     test = signals_df[signals_df[\"Id\"] == id]\n",
    "#     x = test[\"Volumes\"].values\n",
    "#     y = test[\"Alpha\"].values\n",
    "#     scat = px.line(test, x=x, y=y)\n",
    "#     scat.show()\n",
    "# # plt.legend(unique_ids[:12])"
   ]
  },
  {
   "cell_type": "code",
   "execution_count": 74,
   "metadata": {},
   "outputs": [
    {
     "data": {
      "text/html": [
       "<div>\n",
       "<style scoped>\n",
       "    .dataframe tbody tr th:only-of-type {\n",
       "        vertical-align: middle;\n",
       "    }\n",
       "\n",
       "    .dataframe tbody tr th {\n",
       "        vertical-align: top;\n",
       "    }\n",
       "\n",
       "    .dataframe thead th {\n",
       "        text-align: right;\n",
       "    }\n",
       "</style>\n",
       "<table border=\"1\" class=\"dataframe\">\n",
       "  <thead>\n",
       "    <tr style=\"text-align: right;\">\n",
       "      <th></th>\n",
       "      <th>Id</th>\n",
       "      <th>Sample</th>\n",
       "      <th>Sample_Type</th>\n",
       "      <th>Alpha_Slope_1</th>\n",
       "      <th>Alpha_Slope_2</th>\n",
       "      <th>Alpha_Slope_3</th>\n",
       "      <th>Alpha_Slope_4</th>\n",
       "      <th>Alpha_Slope_5</th>\n",
       "      <th>Alpha_Slope_6</th>\n",
       "      <th>Alpha_Slope_7</th>\n",
       "      <th>DNA_Slope_1</th>\n",
       "      <th>DNA_Slope_2</th>\n",
       "      <th>DNA_Slope_3</th>\n",
       "      <th>DNA_Slope_4</th>\n",
       "      <th>DNA_Slope_5</th>\n",
       "      <th>DNA_Slope_6</th>\n",
       "      <th>DNA_Slope_7</th>\n",
       "      <th>Alpha_Max</th>\n",
       "      <th>DNA_Max</th>\n",
       "      <th>Alpha_Max/DNA_Max</th>\n",
       "    </tr>\n",
       "  </thead>\n",
       "  <tbody>\n",
       "    <tr>\n",
       "      <th>0</th>\n",
       "      <td>P1-A01_Experimental</td>\n",
       "      <td>P1-A01</td>\n",
       "      <td>Experimental</td>\n",
       "      <td>1482.638889</td>\n",
       "      <td>196.180556</td>\n",
       "      <td>507.812500</td>\n",
       "      <td>-12608.506944</td>\n",
       "      <td>-3.532284e+04</td>\n",
       "      <td>1.091525e+04</td>\n",
       "      <td>2.140678e+05</td>\n",
       "      <td>4210.416667</td>\n",
       "      <td>-56666.666667</td>\n",
       "      <td>78081.597222</td>\n",
       "      <td>1.295009e+06</td>\n",
       "      <td>3.974145e+06</td>\n",
       "      <td>6.956475e+06</td>\n",
       "      <td>9.573220e+06</td>\n",
       "      <td>2.140678e+05</td>\n",
       "      <td>9.573220e+06</td>\n",
       "      <td>0.022361</td>\n",
       "    </tr>\n",
       "    <tr>\n",
       "      <th>1</th>\n",
       "      <td>P1-A02_Experimental</td>\n",
       "      <td>P1-A02</td>\n",
       "      <td>Experimental</td>\n",
       "      <td>125.694444</td>\n",
       "      <td>262.152778</td>\n",
       "      <td>-967.881944</td>\n",
       "      <td>-7042.100694</td>\n",
       "      <td>-4.432990e+04</td>\n",
       "      <td>2.088136e+04</td>\n",
       "      <td>2.137288e+05</td>\n",
       "      <td>-174.305556</td>\n",
       "      <td>-46649.305556</td>\n",
       "      <td>70138.888889</td>\n",
       "      <td>1.227116e+06</td>\n",
       "      <td>4.605887e+06</td>\n",
       "      <td>6.952475e+06</td>\n",
       "      <td>7.889153e+06</td>\n",
       "      <td>2.137288e+05</td>\n",
       "      <td>7.889153e+06</td>\n",
       "      <td>0.027091</td>\n",
       "    </tr>\n",
       "    <tr>\n",
       "      <th>2</th>\n",
       "      <td>P1-A03_Experimental</td>\n",
       "      <td>P1-A03</td>\n",
       "      <td>Experimental</td>\n",
       "      <td>58.333333</td>\n",
       "      <td>-57.291667</td>\n",
       "      <td>-2122.395833</td>\n",
       "      <td>1334.635417</td>\n",
       "      <td>-9.365165e+04</td>\n",
       "      <td>1.417627e+05</td>\n",
       "      <td>1.788136e+05</td>\n",
       "      <td>327.777778</td>\n",
       "      <td>-43897.569444</td>\n",
       "      <td>778580.729167</td>\n",
       "      <td>-9.353299e+03</td>\n",
       "      <td>4.620022e+06</td>\n",
       "      <td>4.797627e+06</td>\n",
       "      <td>6.146441e+06</td>\n",
       "      <td>1.788136e+05</td>\n",
       "      <td>6.146441e+06</td>\n",
       "      <td>0.029092</td>\n",
       "    </tr>\n",
       "    <tr>\n",
       "      <th>3</th>\n",
       "      <td>P1-A04_Experimental</td>\n",
       "      <td>P1-A04</td>\n",
       "      <td>Experimental</td>\n",
       "      <td>-29866.666667</td>\n",
       "      <td>-69102.430556</td>\n",
       "      <td>-266375.868056</td>\n",
       "      <td>208496.093750</td>\n",
       "      <td>2.220537e+06</td>\n",
       "      <td>2.949831e+06</td>\n",
       "      <td>2.104915e+06</td>\n",
       "      <td>-103.472222</td>\n",
       "      <td>240612.847222</td>\n",
       "      <td>494570.312500</td>\n",
       "      <td>7.203451e+05</td>\n",
       "      <td>2.094059e+06</td>\n",
       "      <td>2.458373e+06</td>\n",
       "      <td>2.992712e+06</td>\n",
       "      <td>2.949831e+06</td>\n",
       "      <td>2.992712e+06</td>\n",
       "      <td>0.985671</td>\n",
       "    </tr>\n",
       "    <tr>\n",
       "      <th>4</th>\n",
       "      <td>P1-A05_Experimental</td>\n",
       "      <td>P1-A05</td>\n",
       "      <td>Experimental</td>\n",
       "      <td>-21229.861111</td>\n",
       "      <td>-89689.236111</td>\n",
       "      <td>-234457.465278</td>\n",
       "      <td>47189.670139</td>\n",
       "      <td>2.370863e+06</td>\n",
       "      <td>2.309695e+06</td>\n",
       "      <td>2.181695e+06</td>\n",
       "      <td>195.138889</td>\n",
       "      <td>124145.833333</td>\n",
       "      <td>689435.763889</td>\n",
       "      <td>9.435872e+05</td>\n",
       "      <td>2.201574e+06</td>\n",
       "      <td>2.288610e+06</td>\n",
       "      <td>3.073898e+06</td>\n",
       "      <td>2.370863e+06</td>\n",
       "      <td>3.073898e+06</td>\n",
       "      <td>0.771289</td>\n",
       "    </tr>\n",
       "    <tr>\n",
       "      <th>5</th>\n",
       "      <td>P1-A06_Experimental</td>\n",
       "      <td>P1-A06</td>\n",
       "      <td>Experimental</td>\n",
       "      <td>-33802.083333</td>\n",
       "      <td>-55538.194444</td>\n",
       "      <td>-177078.993056</td>\n",
       "      <td>-86924.913194</td>\n",
       "      <td>2.605046e+06</td>\n",
       "      <td>2.132339e+06</td>\n",
       "      <td>1.873220e+06</td>\n",
       "      <td>-1008.333333</td>\n",
       "      <td>143375.000000</td>\n",
       "      <td>654557.291667</td>\n",
       "      <td>1.162999e+06</td>\n",
       "      <td>2.028812e+06</td>\n",
       "      <td>1.480136e+06</td>\n",
       "      <td>2.979492e+06</td>\n",
       "      <td>2.605046e+06</td>\n",
       "      <td>2.979492e+06</td>\n",
       "      <td>0.874326</td>\n",
       "    </tr>\n",
       "    <tr>\n",
       "      <th>6</th>\n",
       "      <td>P1-A07_Experimental</td>\n",
       "      <td>P1-A07</td>\n",
       "      <td>Experimental</td>\n",
       "      <td>-18523.611111</td>\n",
       "      <td>-109375.000000</td>\n",
       "      <td>-149253.472222</td>\n",
       "      <td>2246.093750</td>\n",
       "      <td>2.135458e+06</td>\n",
       "      <td>2.813085e+06</td>\n",
       "      <td>1.954407e+06</td>\n",
       "      <td>-997.916667</td>\n",
       "      <td>174303.819444</td>\n",
       "      <td>608103.298611</td>\n",
       "      <td>9.869358e+05</td>\n",
       "      <td>1.976479e+06</td>\n",
       "      <td>2.496339e+06</td>\n",
       "      <td>2.405932e+06</td>\n",
       "      <td>2.813085e+06</td>\n",
       "      <td>2.496339e+06</td>\n",
       "      <td>1.126884</td>\n",
       "    </tr>\n",
       "    <tr>\n",
       "      <th>7</th>\n",
       "      <td>P1-A08_Experimental</td>\n",
       "      <td>P1-A08</td>\n",
       "      <td>Experimental</td>\n",
       "      <td>-30070.138889</td>\n",
       "      <td>-77487.847222</td>\n",
       "      <td>-223693.576389</td>\n",
       "      <td>89898.003472</td>\n",
       "      <td>2.324010e+06</td>\n",
       "      <td>2.972000e+06</td>\n",
       "      <td>2.135254e+06</td>\n",
       "      <td>723.611111</td>\n",
       "      <td>134815.972222</td>\n",
       "      <td>685334.201389</td>\n",
       "      <td>1.008149e+06</td>\n",
       "      <td>2.101709e+06</td>\n",
       "      <td>2.177898e+06</td>\n",
       "      <td>2.552373e+06</td>\n",
       "      <td>2.972000e+06</td>\n",
       "      <td>2.552373e+06</td>\n",
       "      <td>1.164407</td>\n",
       "    </tr>\n",
       "  </tbody>\n",
       "</table>\n",
       "</div>"
      ],
      "text/plain": [
       "                    Id  Sample   Sample_Type  Alpha_Slope_1  Alpha_Slope_2  \\\n",
       "0  P1-A01_Experimental  P1-A01  Experimental    1482.638889     196.180556   \n",
       "1  P1-A02_Experimental  P1-A02  Experimental     125.694444     262.152778   \n",
       "2  P1-A03_Experimental  P1-A03  Experimental      58.333333     -57.291667   \n",
       "3  P1-A04_Experimental  P1-A04  Experimental  -29866.666667  -69102.430556   \n",
       "4  P1-A05_Experimental  P1-A05  Experimental  -21229.861111  -89689.236111   \n",
       "5  P1-A06_Experimental  P1-A06  Experimental  -33802.083333  -55538.194444   \n",
       "6  P1-A07_Experimental  P1-A07  Experimental  -18523.611111 -109375.000000   \n",
       "7  P1-A08_Experimental  P1-A08  Experimental  -30070.138889  -77487.847222   \n",
       "\n",
       "   Alpha_Slope_3  Alpha_Slope_4  Alpha_Slope_5  Alpha_Slope_6  Alpha_Slope_7  \\\n",
       "0     507.812500  -12608.506944  -3.532284e+04   1.091525e+04   2.140678e+05   \n",
       "1    -967.881944   -7042.100694  -4.432990e+04   2.088136e+04   2.137288e+05   \n",
       "2   -2122.395833    1334.635417  -9.365165e+04   1.417627e+05   1.788136e+05   \n",
       "3 -266375.868056  208496.093750   2.220537e+06   2.949831e+06   2.104915e+06   \n",
       "4 -234457.465278   47189.670139   2.370863e+06   2.309695e+06   2.181695e+06   \n",
       "5 -177078.993056  -86924.913194   2.605046e+06   2.132339e+06   1.873220e+06   \n",
       "6 -149253.472222    2246.093750   2.135458e+06   2.813085e+06   1.954407e+06   \n",
       "7 -223693.576389   89898.003472   2.324010e+06   2.972000e+06   2.135254e+06   \n",
       "\n",
       "   DNA_Slope_1    DNA_Slope_2    DNA_Slope_3   DNA_Slope_4   DNA_Slope_5  \\\n",
       "0  4210.416667  -56666.666667   78081.597222  1.295009e+06  3.974145e+06   \n",
       "1  -174.305556  -46649.305556   70138.888889  1.227116e+06  4.605887e+06   \n",
       "2   327.777778  -43897.569444  778580.729167 -9.353299e+03  4.620022e+06   \n",
       "3  -103.472222  240612.847222  494570.312500  7.203451e+05  2.094059e+06   \n",
       "4   195.138889  124145.833333  689435.763889  9.435872e+05  2.201574e+06   \n",
       "5 -1008.333333  143375.000000  654557.291667  1.162999e+06  2.028812e+06   \n",
       "6  -997.916667  174303.819444  608103.298611  9.869358e+05  1.976479e+06   \n",
       "7   723.611111  134815.972222  685334.201389  1.008149e+06  2.101709e+06   \n",
       "\n",
       "    DNA_Slope_6   DNA_Slope_7     Alpha_Max       DNA_Max  Alpha_Max/DNA_Max  \n",
       "0  6.956475e+06  9.573220e+06  2.140678e+05  9.573220e+06           0.022361  \n",
       "1  6.952475e+06  7.889153e+06  2.137288e+05  7.889153e+06           0.027091  \n",
       "2  4.797627e+06  6.146441e+06  1.788136e+05  6.146441e+06           0.029092  \n",
       "3  2.458373e+06  2.992712e+06  2.949831e+06  2.992712e+06           0.985671  \n",
       "4  2.288610e+06  3.073898e+06  2.370863e+06  3.073898e+06           0.771289  \n",
       "5  1.480136e+06  2.979492e+06  2.605046e+06  2.979492e+06           0.874326  \n",
       "6  2.496339e+06  2.405932e+06  2.813085e+06  2.496339e+06           1.126884  \n",
       "7  2.177898e+06  2.552373e+06  2.972000e+06  2.552373e+06           1.164407  "
      ]
     },
     "execution_count": 74,
     "metadata": {},
     "output_type": "execute_result"
    }
   ],
   "source": [
    "calcs_df.head(8)"
   ]
  },
  {
   "cell_type": "code",
   "execution_count": 122,
   "metadata": {},
   "outputs": [],
   "source": [
    "sample_a01 = calcs_df[calcs_df[\"Sample\"] == \"P1-A01\"]\n",
    "alpha_a01 = sample_a01.iloc[:, 3:10].values[0]\n",
    "dna_a01 = sample_a01.iloc[:, 10:17].values[0]\n"
   ]
  },
  {
   "cell_type": "code",
   "execution_count": 126,
   "metadata": {},
   "outputs": [
    {
     "name": "stdout",
     "output_type": "stream",
     "text": [
      "[0.96, 0.384, 0.1536, 0.06144, 0.02458, 0.00983, 0.00393]\n",
      "[ 1.48263889e+03  1.96180556e+02  5.07812500e+02 -1.26085069e+04\n",
      " -3.53228432e+04  1.09152542e+04  2.14067797e+05]\n",
      "[ 4.21041667e+03 -5.66666667e+04  7.80815972e+04  1.29500868e+06\n",
      "  3.97414542e+06  6.95647458e+06  9.57322034e+06]\n"
     ]
    }
   ],
   "source": [
    "\n",
    "vols = list(standard_p1[\"Volumes\"][1:8])\n",
    "print(vols)\n",
    "print(alpha_a01)\n",
    "print(dna_a01)"
   ]
  },
  {
   "cell_type": "code",
   "execution_count": 131,
   "metadata": {},
   "outputs": [
    {
     "ename": "AttributeError",
     "evalue": "module 'matplotlib.pyplot' has no attribute 'set_yscale'",
     "output_type": "error",
     "traceback": [
      "\u001b[1;31m---------------------------------------------------------------------------\u001b[0m",
      "\u001b[1;31mAttributeError\u001b[0m                            Traceback (most recent call last)",
      "\u001b[1;32m<ipython-input-131-73cce01fc607>\u001b[0m in \u001b[0;36m<module>\u001b[1;34m\u001b[0m\n\u001b[0;32m      4\u001b[0m \u001b[0max1\u001b[0m \u001b[1;33m=\u001b[0m \u001b[0mplt\u001b[0m\u001b[1;33m.\u001b[0m\u001b[0mscatter\u001b[0m\u001b[1;33m(\u001b[0m\u001b[0mvols\u001b[0m\u001b[1;33m,\u001b[0m \u001b[0malpha_a01\u001b[0m\u001b[1;33m)\u001b[0m\u001b[1;33m\u001b[0m\u001b[1;33m\u001b[0m\u001b[0m\n\u001b[0;32m      5\u001b[0m \u001b[0max2\u001b[0m \u001b[1;33m=\u001b[0m \u001b[0mplt\u001b[0m\u001b[1;33m.\u001b[0m\u001b[0mscatter\u001b[0m\u001b[1;33m(\u001b[0m\u001b[0mvols\u001b[0m\u001b[1;33m,\u001b[0m \u001b[0mdna_a01\u001b[0m\u001b[1;33m)\u001b[0m\u001b[1;33m\u001b[0m\u001b[1;33m\u001b[0m\u001b[0m\n\u001b[1;32m----> 6\u001b[1;33m \u001b[0mplt\u001b[0m\u001b[1;33m.\u001b[0m\u001b[0mset_yscale\u001b[0m\u001b[1;33m(\u001b[0m\u001b[1;34m\"log\"\u001b[0m\u001b[1;33m)\u001b[0m\u001b[1;33m\u001b[0m\u001b[1;33m\u001b[0m\u001b[0m\n\u001b[0m\u001b[0;32m      7\u001b[0m \u001b[0mplt\u001b[0m\u001b[1;33m.\u001b[0m\u001b[0mshow\u001b[0m\u001b[1;33m(\u001b[0m\u001b[1;33m)\u001b[0m\u001b[1;33m\u001b[0m\u001b[1;33m\u001b[0m\u001b[0m\n",
      "\u001b[1;31mAttributeError\u001b[0m: module 'matplotlib.pyplot' has no attribute 'set_yscale'"
     ]
    },
    {
     "data": {
      "image/png": "[encoded data removed]",
      "text/plain": [
       "<Figure size 2800x1600 with 2 Axes>"
      ]
     },
     "metadata": {
      "needs_background": "light"
     },
     "output_type": "display_data"
    }
   ],
   "source": [
    "plt.figure(figsize=(14, 8), dpi=200)\n",
    "ax1 = plt.gca()\n",
    "ax2 = ax1.twinx()\n",
    "ax1 = plt.scatter(vols, alpha_a01)\n",
    "ax2 = plt.scatter(vols, dna_a01)\n",
    "plt.set_yscale(\"log\")\n",
    "plt.show()"
   ]
  },
  {
   "cell_type": "code",
   "execution_count": 133,
   "metadata": {},
   "outputs": [
    {
     "data": {
      "application/vnd.plotly.v1+json": {
       "config": {
        "plotlyServerURL": "https://plot.ly"
       },
       "data": [
        {
         "hovertemplate": "x=%{x}<br>y=%{y}<extra></extra>",
         "legendgroup": "",
         "marker": {
          "color": "#636efa",
          "symbol": "circle"
         },
         "mode": "markers",
         "name": "",
         "orientation": "v",
         "showlegend": false,
         "type": "scatter",
         "x": [
          0.96,
          0.384,
          0.1536,
          0.06144,
          0.02458,
          0.00983,
          0.00393
         ],
         "xaxis": "x",
         "y": [
          4210.416666666667,
          -56666.66666666667,
          78081.59722222222,
          1295008.680555556,
          3974145.415084102,
          6956474.576271186,
          9573220.338983051
         ],
         "yaxis": "y"
        }
       ],
       "layout": {
        "legend": {
         "tracegroupgap": 0
        },
        "margin": {
         "t": 60
        },
        "template": {
         "data": {
          "bar": [
           {
            "error_x": {
             "color": "#2a3f5f"
            },
            "error_y": {
             "color": "#2a3f5f"
            },
            "marker": {
             "line": {
              "color": "#E5ECF6",
              "width": 0.5
             }
            },
            "type": "bar"
           }
          ],
          "barpolar": [
           {
            "marker": {
             "line": {
              "color": "#E5ECF6",
              "width": 0.5
             }
            },
            "type": "barpolar"
           }
          ],
          "carpet": [
           {
            "aaxis": {
             "endlinecolor": "#2a3f5f",
             "gridcolor": "white",
             "linecolor": "white",
             "minorgridcolor": "white",
             "startlinecolor": "#2a3f5f"
            },
            "baxis": {
             "endlinecolor": "#2a3f5f",
             "gridcolor": "white",
             "linecolor": "white",
             "minorgridcolor": "white",
             "startlinecolor": "#2a3f5f"
            },
            "type": "carpet"
           }
          ],
          "choropleth": [
           {
            "colorbar": {
             "outlinewidth": 0,
             "ticks": ""
            },
            "type": "choropleth"
           }
          ],
          "contour": [
           {
            "colorbar": {
             "outlinewidth": 0,
             "ticks": ""
            },
            "colorscale": [
             [
              0,
              "#0d0887"
             ],
             [
              0.1111111111111111,
              "#46039f"
             ],
             [
              0.2222222222222222,
              "#7201a8"
             ],
             [
              0.3333333333333333,
              "#9c179e"
             ],
             [
              0.4444444444444444,
              "#bd3786"
             ],
             [
              0.5555555555555556,
              "#d8576b"
             ],
             [
              0.6666666666666666,
              "#ed7953"
             ],
             [
              0.7777777777777778,
              "#fb9f3a"
             ],
             [
              0.8888888888888888,
              "#fdca26"
             ],
             [
              1,
              "#f0f921"
             ]
            ],
            "type": "contour"
           }
          ],
          "contourcarpet": [
           {
            "colorbar": {
             "outlinewidth": 0,
             "ticks": ""
            },
            "type": "contourcarpet"
           }
          ],
          "heatmap": [
           {
            "colorbar": {
             "outlinewidth": 0,
             "ticks": ""
            },
            "colorscale": [
             [
              0,
              "#0d0887"
             ],
             [
              0.1111111111111111,
              "#46039f"
             ],
             [
              0.2222222222222222,
              "#7201a8"
             ],
             [
              0.3333333333333333,
              "#9c179e"
             ],
             [
              0.4444444444444444,
              "#bd3786"
             ],
             [
              0.5555555555555556,
              "#d8576b"
             ],
             [
              0.6666666666666666,
              "#ed7953"
             ],
             [
              0.7777777777777778,
              "#fb9f3a"
             ],
             [
              0.8888888888888888,
              "#fdca26"
             ],
             [
              1,
              "#f0f921"
             ]
            ],
            "type": "heatmap"
           }
          ],
          "heatmapgl": [
           {
            "colorbar": {
             "outlinewidth": 0,
             "ticks": ""
            },
            "colorscale": [
             [
              0,
              "#0d0887"
             ],
             [
              0.1111111111111111,
              "#46039f"
             ],
             [
              0.2222222222222222,
              "#7201a8"
             ],
             [
              0.3333333333333333,
              "#9c179e"
             ],
             [
              0.4444444444444444,
              "#bd3786"
             ],
             [
              0.5555555555555556,
              "#d8576b"
             ],
             [
              0.6666666666666666,
              "#ed7953"
             ],
             [
              0.7777777777777778,
              "#fb9f3a"
             ],
             [
              0.8888888888888888,
              "#fdca26"
             ],
             [
              1,
              "#f0f921"
             ]
            ],
            "type": "heatmapgl"
           }
          ],
          "histogram": [
           {
            "marker": {
             "colorbar": {
              "outlinewidth": 0,
              "ticks": ""
             }
            },
            "type": "histogram"
           }
          ],
          "histogram2d": [
           {
            "colorbar": {
             "outlinewidth": 0,
             "ticks": ""
            },
            "colorscale": [
             [
              0,
              "#0d0887"
             ],
             [
              0.1111111111111111,
              "#46039f"
             ],
             [
              0.2222222222222222,
              "#7201a8"
             ],
             [
              0.3333333333333333,
              "#9c179e"
             ],
             [
              0.4444444444444444,
              "#bd3786"
             ],
             [
              0.5555555555555556,
              "#d8576b"
             ],
             [
              0.6666666666666666,
              "#ed7953"
             ],
             [
              0.7777777777777778,
              "#fb9f3a"
             ],
             [
              0.8888888888888888,
              "#fdca26"
             ],
             [
              1,
              "#f0f921"
             ]
            ],
            "type": "histogram2d"
           }
          ],
          "histogram2dcontour": [
           {
            "colorbar": {
             "outlinewidth": 0,
             "ticks": ""
            },
            "colorscale": [
             [
              0,
              "#0d0887"
             ],
             [
              0.1111111111111111,
              "#46039f"
             ],
             [
              0.2222222222222222,
              "#7201a8"
             ],
             [
              0.3333333333333333,
              "#9c179e"
             ],
             [
              0.4444444444444444,
              "#bd3786"
             ],
             [
              0.5555555555555556,
              "#d8576b"
             ],
             [
              0.6666666666666666,
              "#ed7953"
             ],
             [
              0.7777777777777778,
              "#fb9f3a"
             ],
             [
              0.8888888888888888,
              "#fdca26"
             ],
             [
              1,
              "#f0f921"
             ]
            ],
            "type": "histogram2dcontour"
           }
          ],
          "mesh3d": [
           {
            "colorbar": {
             "outlinewidth": 0,
             "ticks": ""
            },
            "type": "mesh3d"
           }
          ],
          "parcoords": [
           {
            "line": {
             "colorbar": {
              "outlinewidth": 0,
              "ticks": ""
             }
            },
            "type": "parcoords"
           }
          ],
          "pie": [
           {
            "automargin": true,
            "type": "pie"
           }
          ],
          "scatter": [
           {
            "marker": {
             "colorbar": {
              "outlinewidth": 0,
              "ticks": ""
             }
            },
            "type": "scatter"
           }
          ],
          "scatter3d": [
           {
            "line": {
             "colorbar": {
              "outlinewidth": 0,
              "ticks": ""
             }
            },
            "marker": {
             "colorbar": {
              "outlinewidth": 0,
              "ticks": ""
             }
            },
            "type": "scatter3d"
           }
          ],
          "scattercarpet": [
           {
            "marker": {
             "colorbar": {
              "outlinewidth": 0,
              "ticks": ""
             }
            },
            "type": "scattercarpet"
           }
          ],
          "scattergeo": [
           {
            "marker": {
             "colorbar": {
              "outlinewidth": 0,
              "ticks": ""
             }
            },
            "type": "scattergeo"
           }
          ],
          "scattergl": [
           {
            "marker": {
             "colorbar": {
              "outlinewidth": 0,
              "ticks": ""
             }
            },
            "type": "scattergl"
           }
          ],
          "scattermapbox": [
           {
            "marker": {
             "colorbar": {
              "outlinewidth": 0,
              "ticks": ""
             }
            },
            "type": "scattermapbox"
           }
          ],
          "scatterpolar": [
           {
            "marker": {
             "colorbar": {
              "outlinewidth": 0,
              "ticks": ""
             }
            },
            "type": "scatterpolar"
           }
          ],
          "scatterpolargl": [
           {
            "marker": {
             "colorbar": {
              "outlinewidth": 0,
              "ticks": ""
             }
            },
            "type": "scatterpolargl"
           }
          ],
          "scatterternary": [
           {
            "marker": {
             "colorbar": {
              "outlinewidth": 0,
              "ticks": ""
             }
            },
            "type": "scatterternary"
           }
          ],
          "surface": [
           {
            "colorbar": {
             "outlinewidth": 0,
             "ticks": ""
            },
            "colorscale": [
             [
              0,
              "#0d0887"
             ],
             [
              0.1111111111111111,
              "#46039f"
             ],
             [
              0.2222222222222222,
              "#7201a8"
             ],
             [
              0.3333333333333333,
              "#9c179e"
             ],
             [
              0.4444444444444444,
              "#bd3786"
             ],
             [
              0.5555555555555556,
              "#d8576b"
             ],
             [
              0.6666666666666666,
              "#ed7953"
             ],
             [
              0.7777777777777778,
              "#fb9f3a"
             ],
             [
              0.8888888888888888,
              "#fdca26"
             ],
             [
              1,
              "#f0f921"
             ]
            ],
            "type": "surface"
           }
          ],
          "table": [
           {
            "cells": {
             "fill": {
              "color": "#EBF0F8"
             },
             "line": {
              "color": "white"
             }
            },
            "header": {
             "fill": {
              "color": "#C8D4E3"
             },
             "line": {
              "color": "white"
             }
            },
            "type": "table"
           }
          ]
         },
         "layout": {
          "annotationdefaults": {
           "arrowcolor": "#2a3f5f",
           "arrowhead": 0,
           "arrowwidth": 1
          },
          "autotypenumbers": "strict",
          "coloraxis": {
           "colorbar": {
            "outlinewidth": 0,
            "ticks": ""
           }
          },
          "colorscale": {
           "diverging": [
            [
             0,
             "#8e0152"
            ],
            [
             0.1,
             "#c51b7d"
            ],
            [
             0.2,
             "#de77ae"
            ],
            [
             0.3,
             "#f1b6da"
            ],
            [
             0.4,
             "#fde0ef"
            ],
            [
             0.5,
             "#f7f7f7"
            ],
            [
             0.6,
             "#e6f5d0"
            ],
            [
             0.7,
             "#b8e186"
            ],
            [
             0.8,
             "#7fbc41"
            ],
            [
             0.9,
             "#4d9221"
            ],
            [
             1,
             "#276419"
            ]
           ],
           "sequential": [
            [
             0,
             "#0d0887"
            ],
            [
             0.1111111111111111,
             "#46039f"
            ],
            [
             0.2222222222222222,
             "#7201a8"
            ],
            [
             0.3333333333333333,
             "#9c179e"
            ],
            [
             0.4444444444444444,
             "#bd3786"
            ],
            [
             0.5555555555555556,
             "#d8576b"
            ],
            [
             0.6666666666666666,
             "#ed7953"
            ],
            [
             0.7777777777777778,
             "#fb9f3a"
            ],
            [
             0.8888888888888888,
             "#fdca26"
            ],
            [
             1,
             "#f0f921"
            ]
           ],
           "sequentialminus": [
            [
             0,
             "#0d0887"
            ],
            [
             0.1111111111111111,
             "#46039f"
            ],
            [
             0.2222222222222222,
             "#7201a8"
            ],
            [
             0.3333333333333333,
             "#9c179e"
            ],
            [
             0.4444444444444444,
             "#bd3786"
            ],
            [
             0.5555555555555556,
             "#d8576b"
            ],
            [
             0.6666666666666666,
             "#ed7953"
            ],
            [
             0.7777777777777778,
             "#fb9f3a"
            ],
            [
             0.8888888888888888,
             "#fdca26"
            ],
            [
             1,
             "#f0f921"
            ]
           ]
          },
          "colorway": [
           "#636efa",
           "#EF553B",
           "#00cc96",
           "#ab63fa",
           "#FFA15A",
           "#19d3f3",
           "#FF6692",
           "#B6E880",
           "#FF97FF",
           "#FECB52"
          ],
          "font": {
           "color": "#2a3f5f"
          },
          "geo": {
           "bgcolor": "white",
           "lakecolor": "white",
           "landcolor": "#E5ECF6",
           "showlakes": true,
           "showland": true,
           "subunitcolor": "white"
          },
          "hoverlabel": {
           "align": "left"
          },
          "hovermode": "closest",
          "mapbox": {
           "style": "light"
          },
          "paper_bgcolor": "white",
          "plot_bgcolor": "#E5ECF6",
          "polar": {
           "angularaxis": {
            "gridcolor": "white",
            "linecolor": "white",
            "ticks": ""
           },
           "bgcolor": "#E5ECF6",
           "radialaxis": {
            "gridcolor": "white",
            "linecolor": "white",
            "ticks": ""
           }
          },
          "scene": {
           "xaxis": {
            "backgroundcolor": "#E5ECF6",
            "gridcolor": "white",
            "gridwidth": 2,
            "linecolor": "white",
            "showbackground": true,
            "ticks": "",
            "zerolinecolor": "white"
           },
           "yaxis": {
            "backgroundcolor": "#E5ECF6",
            "gridcolor": "white",
            "gridwidth": 2,
            "linecolor": "white",
            "showbackground": true,
            "ticks": "",
            "zerolinecolor": "white"
           },
           "zaxis": {
            "backgroundcolor": "#E5ECF6",
            "gridcolor": "white",
            "gridwidth": 2,
            "linecolor": "white",
            "showbackground": true,
            "ticks": "",
            "zerolinecolor": "white"
           }
          },
          "shapedefaults": {
           "line": {
            "color": "#2a3f5f"
           }
          },
          "ternary": {
           "aaxis": {
            "gridcolor": "white",
            "linecolor": "white",
            "ticks": ""
           },
           "baxis": {
            "gridcolor": "white",
            "linecolor": "white",
            "ticks": ""
           },
           "bgcolor": "#E5ECF6",
           "caxis": {
            "gridcolor": "white",
            "linecolor": "white",
            "ticks": ""
           }
          },
          "title": {
           "x": 0.05
          },
          "xaxis": {
           "automargin": true,
           "gridcolor": "white",
           "linecolor": "white",
           "ticks": "",
           "title": {
            "standoff": 15
           },
           "zerolinecolor": "white",
           "zerolinewidth": 2
          },
          "yaxis": {
           "automargin": true,
           "gridcolor": "white",
           "linecolor": "white",
           "ticks": "",
           "title": {
            "standoff": 15
           },
           "zerolinecolor": "white",
           "zerolinewidth": 2
          }
         }
        },
        "xaxis": {
         "anchor": "y",
         "domain": [
          0,
          1
         ],
         "title": {
          "text": "Number of Apps (Lower=More Concentrated)"
         }
        },
        "yaxis": {
         "anchor": "x",
         "domain": [
          0,
          1
         ],
         "title": {
          "text": "y"
         },
         "type": "log"
        }
       }
      },
      "text/html": [
       "<div>                            <div id=\"fe20173f-0c61-4c30-8e11-08d52c59f533\" class=\"plotly-graph-div\" style=\"height:525px; width:100%;\"></div>            <script type=\"text/javascript\">                require([\"plotly\"], function(Plotly) {                    window.PLOTLYENV=window.PLOTLYENV || {};                                    if (document.getElementById(\"fe20173f-0c61-4c30-8e11-08d52c59f533\")) {                    Plotly.newPlot(                        \"fe20173f-0c61-4c30-8e11-08d52c59f533\",                        [{\"hovertemplate\": \"x=%{x}<br>y=%{y}<extra></extra>\", \"legendgroup\": \"\", \"marker\": {\"color\": \"#636efa\", \"symbol\": \"circle\"}, \"mode\": \"markers\", \"name\": \"\", \"orientation\": \"v\", \"showlegend\": false, \"type\": \"scatter\", \"x\": [0.96, 0.384, 0.1536, 0.06144, 0.02458, 0.00983, 0.00393], \"xaxis\": \"x\", \"y\": [4210.416666666667, -56666.66666666667, 78081.59722222222, 1295008.680555556, 3974145.415084102, 6956474.576271186, 9573220.338983051], \"yaxis\": \"y\"}],                        {\"legend\": {\"tracegroupgap\": 0}, \"margin\": {\"t\": 60}, \"template\": {\"data\": {\"bar\": [{\"error_x\": {\"color\": \"#2a3f5f\"}, \"error_y\": {\"color\": \"#2a3f5f\"}, \"marker\": {\"line\": {\"color\": \"#E5ECF6\", \"width\": 0.5}}, \"type\": \"bar\"}], \"barpolar\": [{\"marker\": {\"line\": {\"color\": \"#E5ECF6\", \"width\": 0.5}}, \"type\": \"barpolar\"}], \"carpet\": [{\"aaxis\": {\"endlinecolor\": \"#2a3f5f\", \"gridcolor\": \"white\", \"linecolor\": \"white\", \"minorgridcolor\": \"white\", \"startlinecolor\": \"#2a3f5f\"}, \"baxis\": {\"endlinecolor\": \"#2a3f5f\", \"gridcolor\": \"white\", \"linecolor\": \"white\", \"minorgridcolor\": \"white\", \"startlinecolor\": \"#2a3f5f\"}, \"type\": \"carpet\"}], \"choropleth\": [{\"colorbar\": {\"outlinewidth\": 0, \"ticks\": \"\"}, \"type\": \"choropleth\"}], \"contour\": [{\"colorbar\": {\"outlinewidth\": 0, \"ticks\": \"\"}, \"colorscale\": [[0.0, \"#0d0887\"], [0.1111111111111111, \"#46039f\"], [0.2222222222222222, \"#7201a8\"], [0.3333333333333333, \"#9c179e\"], [0.4444444444444444, \"#bd3786\"], [0.5555555555555556, \"#d8576b\"], [0.6666666666666666, \"#ed7953\"], [0.7777777777777778, \"#fb9f3a\"], [0.8888888888888888, \"#fdca26\"], [1.0, \"#f0f921\"]], \"type\": \"contour\"}], \"contourcarpet\": [{\"colorbar\": {\"outlinewidth\": 0, \"ticks\": \"\"}, \"type\": \"contourcarpet\"}], \"heatmap\": [{\"colorbar\": {\"outlinewidth\": 0, \"ticks\": \"\"}, \"colorscale\": [[0.0, \"#0d0887\"], [0.1111111111111111, \"#46039f\"], [0.2222222222222222, \"#7201a8\"], [0.3333333333333333, \"#9c179e\"], [0.4444444444444444, \"#bd3786\"], [0.5555555555555556, \"#d8576b\"], [0.6666666666666666, \"#ed7953\"], [0.7777777777777778, \"#fb9f3a\"], [0.8888888888888888, \"#fdca26\"], [1.0, \"#f0f921\"]], \"type\": \"heatmap\"}], \"heatmapgl\": [{\"colorbar\": {\"outlinewidth\": 0, \"ticks\": \"\"}, \"colorscale\": [[0.0, \"#0d0887\"], [0.1111111111111111, \"#46039f\"], [0.2222222222222222, \"#7201a8\"], [0.3333333333333333, \"#9c179e\"], [0.4444444444444444, \"#bd3786\"], [0.5555555555555556, \"#d8576b\"], [0.6666666666666666, \"#ed7953\"], [0.7777777777777778, \"#fb9f3a\"], [0.8888888888888888, \"#fdca26\"], [1.0, \"#f0f921\"]], \"type\": \"heatmapgl\"}], \"histogram\": [{\"marker\": {\"colorbar\": {\"outlinewidth\": 0, \"ticks\": \"\"}}, \"type\": \"histogram\"}], \"histogram2d\": [{\"colorbar\": {\"outlinewidth\": 0, \"ticks\": \"\"}, \"colorscale\": [[0.0, \"#0d0887\"], [0.1111111111111111, \"#46039f\"], [0.2222222222222222, \"#7201a8\"], [0.3333333333333333, \"#9c179e\"], [0.4444444444444444, \"#bd3786\"], [0.5555555555555556, \"#d8576b\"], [0.6666666666666666, \"#ed7953\"], [0.7777777777777778, \"#fb9f3a\"], [0.8888888888888888, \"#fdca26\"], [1.0, \"#f0f921\"]], \"type\": \"histogram2d\"}], \"histogram2dcontour\": [{\"colorbar\": {\"outlinewidth\": 0, \"ticks\": \"\"}, \"colorscale\": [[0.0, \"#0d0887\"], [0.1111111111111111, \"#46039f\"], [0.2222222222222222, \"#7201a8\"], [0.3333333333333333, \"#9c179e\"], [0.4444444444444444, \"#bd3786\"], [0.5555555555555556, \"#d8576b\"], [0.6666666666666666, \"#ed7953\"], [0.7777777777777778, \"#fb9f3a\"], [0.8888888888888888, \"#fdca26\"], [1.0, \"#f0f921\"]], \"type\": \"histogram2dcontour\"}], \"mesh3d\": [{\"colorbar\": {\"outlinewidth\": 0, \"ticks\": \"\"}, \"type\": \"mesh3d\"}], \"parcoords\": [{\"line\": {\"colorbar\": {\"outlinewidth\": 0, \"ticks\": \"\"}}, \"type\": \"parcoords\"}], \"pie\": [{\"automargin\": true, \"type\": \"pie\"}], \"scatter\": [{\"marker\": {\"colorbar\": {\"outlinewidth\": 0, \"ticks\": \"\"}}, \"type\": \"scatter\"}], \"scatter3d\": [{\"line\": {\"colorbar\": {\"outlinewidth\": 0, \"ticks\": \"\"}}, \"marker\": {\"colorbar\": {\"outlinewidth\": 0, \"ticks\": \"\"}}, \"type\": \"scatter3d\"}], \"scattercarpet\": [{\"marker\": {\"colorbar\": {\"outlinewidth\": 0, \"ticks\": \"\"}}, \"type\": \"scattercarpet\"}], \"scattergeo\": [{\"marker\": {\"colorbar\": {\"outlinewidth\": 0, \"ticks\": \"\"}}, \"type\": \"scattergeo\"}], \"scattergl\": [{\"marker\": {\"colorbar\": {\"outlinewidth\": 0, \"ticks\": \"\"}}, \"type\": \"scattergl\"}], \"scattermapbox\": [{\"marker\": {\"colorbar\": {\"outlinewidth\": 0, \"ticks\": \"\"}}, \"type\": \"scattermapbox\"}], \"scatterpolar\": [{\"marker\": {\"colorbar\": {\"outlinewidth\": 0, \"ticks\": \"\"}}, \"type\": \"scatterpolar\"}], \"scatterpolargl\": [{\"marker\": {\"colorbar\": {\"outlinewidth\": 0, \"ticks\": \"\"}}, \"type\": \"scatterpolargl\"}], \"scatterternary\": [{\"marker\": {\"colorbar\": {\"outlinewidth\": 0, \"ticks\": \"\"}}, \"type\": \"scatterternary\"}], \"surface\": [{\"colorbar\": {\"outlinewidth\": 0, \"ticks\": \"\"}, \"colorscale\": [[0.0, \"#0d0887\"], [0.1111111111111111, \"#46039f\"], [0.2222222222222222, \"#7201a8\"], [0.3333333333333333, \"#9c179e\"], [0.4444444444444444, \"#bd3786\"], [0.5555555555555556, \"#d8576b\"], [0.6666666666666666, \"#ed7953\"], [0.7777777777777778, \"#fb9f3a\"], [0.8888888888888888, \"#fdca26\"], [1.0, \"#f0f921\"]], \"type\": \"surface\"}], \"table\": [{\"cells\": {\"fill\": {\"color\": \"#EBF0F8\"}, \"line\": {\"color\": \"white\"}}, \"header\": {\"fill\": {\"color\": \"#C8D4E3\"}, \"line\": {\"color\": \"white\"}}, \"type\": \"table\"}]}, \"layout\": {\"annotationdefaults\": {\"arrowcolor\": \"#2a3f5f\", \"arrowhead\": 0, \"arrowwidth\": 1}, \"autotypenumbers\": \"strict\", \"coloraxis\": {\"colorbar\": {\"outlinewidth\": 0, \"ticks\": \"\"}}, \"colorscale\": {\"diverging\": [[0, \"#8e0152\"], [0.1, \"#c51b7d\"], [0.2, \"#de77ae\"], [0.3, \"#f1b6da\"], [0.4, \"#fde0ef\"], [0.5, \"#f7f7f7\"], [0.6, \"#e6f5d0\"], [0.7, \"#b8e186\"], [0.8, \"#7fbc41\"], [0.9, \"#4d9221\"], [1, \"#276419\"]], \"sequential\": [[0.0, \"#0d0887\"], [0.1111111111111111, \"#46039f\"], [0.2222222222222222, \"#7201a8\"], [0.3333333333333333, \"#9c179e\"], [0.4444444444444444, \"#bd3786\"], [0.5555555555555556, \"#d8576b\"], [0.6666666666666666, \"#ed7953\"], [0.7777777777777778, \"#fb9f3a\"], [0.8888888888888888, \"#fdca26\"], [1.0, \"#f0f921\"]], \"sequentialminus\": [[0.0, \"#0d0887\"], [0.1111111111111111, \"#46039f\"], [0.2222222222222222, \"#7201a8\"], [0.3333333333333333, \"#9c179e\"], [0.4444444444444444, \"#bd3786\"], [0.5555555555555556, \"#d8576b\"], [0.6666666666666666, \"#ed7953\"], [0.7777777777777778, \"#fb9f3a\"], [0.8888888888888888, \"#fdca26\"], [1.0, \"#f0f921\"]]}, \"colorway\": [\"#636efa\", \"#EF553B\", \"#00cc96\", \"#ab63fa\", \"#FFA15A\", \"#19d3f3\", \"#FF6692\", \"#B6E880\", \"#FF97FF\", \"#FECB52\"], \"font\": {\"color\": \"#2a3f5f\"}, \"geo\": {\"bgcolor\": \"white\", \"lakecolor\": \"white\", \"landcolor\": \"#E5ECF6\", \"showlakes\": true, \"showland\": true, \"subunitcolor\": \"white\"}, \"hoverlabel\": {\"align\": \"left\"}, \"hovermode\": \"closest\", \"mapbox\": {\"style\": \"light\"}, \"paper_bgcolor\": \"white\", \"plot_bgcolor\": \"#E5ECF6\", \"polar\": {\"angularaxis\": {\"gridcolor\": \"white\", \"linecolor\": \"white\", \"ticks\": \"\"}, \"bgcolor\": \"#E5ECF6\", \"radialaxis\": {\"gridcolor\": \"white\", \"linecolor\": \"white\", \"ticks\": \"\"}}, \"scene\": {\"xaxis\": {\"backgroundcolor\": \"#E5ECF6\", \"gridcolor\": \"white\", \"gridwidth\": 2, \"linecolor\": \"white\", \"showbackground\": true, \"ticks\": \"\", \"zerolinecolor\": \"white\"}, \"yaxis\": {\"backgroundcolor\": \"#E5ECF6\", \"gridcolor\": \"white\", \"gridwidth\": 2, \"linecolor\": \"white\", \"showbackground\": true, \"ticks\": \"\", \"zerolinecolor\": \"white\"}, \"zaxis\": {\"backgroundcolor\": \"#E5ECF6\", \"gridcolor\": \"white\", \"gridwidth\": 2, \"linecolor\": \"white\", \"showbackground\": true, \"ticks\": \"\", \"zerolinecolor\": \"white\"}}, \"shapedefaults\": {\"line\": {\"color\": \"#2a3f5f\"}}, \"ternary\": {\"aaxis\": {\"gridcolor\": \"white\", \"linecolor\": \"white\", \"ticks\": \"\"}, \"baxis\": {\"gridcolor\": \"white\", \"linecolor\": \"white\", \"ticks\": \"\"}, \"bgcolor\": \"#E5ECF6\", \"caxis\": {\"gridcolor\": \"white\", \"linecolor\": \"white\", \"ticks\": \"\"}}, \"title\": {\"x\": 0.05}, \"xaxis\": {\"automargin\": true, \"gridcolor\": \"white\", \"linecolor\": \"white\", \"ticks\": \"\", \"title\": {\"standoff\": 15}, \"zerolinecolor\": \"white\", \"zerolinewidth\": 2}, \"yaxis\": {\"automargin\": true, \"gridcolor\": \"white\", \"linecolor\": \"white\", \"ticks\": \"\", \"title\": {\"standoff\": 15}, \"zerolinecolor\": \"white\", \"zerolinewidth\": 2}}}, \"xaxis\": {\"anchor\": \"y\", \"domain\": [0.0, 1.0], \"title\": {\"text\": \"Number of Apps (Lower=More Concentrated)\"}}, \"yaxis\": {\"anchor\": \"x\", \"domain\": [0.0, 1.0], \"title\": {\"text\": \"y\"}, \"type\": \"log\"}},                        {\"responsive\": true}                    ).then(function(){\n",
       "                            \n",
       "var gd = document.getElementById('fe20173f-0c61-4c30-8e11-08d52c59f533');\n",
       "var x = new MutationObserver(function (mutations, observer) {{\n",
       "        var display = window.getComputedStyle(gd).display;\n",
       "        if (!display || display === 'none') {{\n",
       "            console.log([gd, 'removed!']);\n",
       "            Plotly.purge(gd);\n",
       "            observer.disconnect();\n",
       "        }}\n",
       "}});\n",
       "\n",
       "// Listen for the removal of the full notebook cells\n",
       "var notebookContainer = gd.closest('#notebook-container');\n",
       "if (notebookContainer) {{\n",
       "    x.observe(notebookContainer, {childList: true});\n",
       "}}\n",
       "\n",
       "// Listen for the clearing of the current output cell\n",
       "var outputEl = gd.closest('.output');\n",
       "if (outputEl) {{\n",
       "    x.observe(outputEl, {childList: true});\n",
       "}}\n",
       "\n",
       "                        })                };                });            </script>        </div>"
      ]
     },
     "metadata": {},
     "output_type": "display_data"
    }
   ],
   "source": [
    "scatter = px.scatter(sample_a01, \n",
    "               x=vols, \n",
    "               y=dna_a01, \n",
    "               log_y=True)\n",
    "scatter.update_layout(xaxis_title=\"Number of Apps (Lower=More Concentrated)\")"
   ]
  },
  {
   "cell_type": "code",
   "execution_count": 171,
   "metadata": {},
   "outputs": [],
   "source": [
    "maxes = calcs_df[calcs_df[\"Sample\"].str.contains(\"A\")]\n",
    "\n"
   ]
  },
  {
   "cell_type": "code",
   "execution_count": 172,
   "metadata": {},
   "outputs": [],
   "source": [
    "maxes.insert(0, \"Plate\", alpha_maxes[\"Sample\"].apply(lambda x: x.split(\"-\")[0]))"
   ]
  },
  {
   "cell_type": "code",
   "execution_count": 175,
   "metadata": {},
   "outputs": [
    {
     "data": {
      "application/vnd.plotly.v1+json": {
       "config": {
        "plotlyServerURL": "https://plot.ly"
       },
       "data": [
        {
         "hovertemplate": "Plate=P1<br>Sample=%{x}<br>Alpha_Max=%{y}<extra></extra>",
         "legendgroup": "P1",
         "marker": {
          "color": "#636efa",
          "symbol": "circle"
         },
         "mode": "markers",
         "name": "P1",
         "orientation": "v",
         "showlegend": true,
         "type": "scatter",
         "x": [
          "P1-A01",
          "P1-A02",
          "P1-A03",
          "P1-A04",
          "P1-A05",
          "P1-A06",
          "P1-A07",
          "P1-A08",
          "P1-A09",
          "P1-A10",
          "P1-A11",
          "P1-A12"
         ],
         "xaxis": "x",
         "y": [
          214067.7966101695,
          213728.813559322,
          178813.5593220339,
          2949830.508474576,
          2370862.723819859,
          2605046.120455778,
          2813084.745762712,
          2972000,
          2662915.254237288,
          4309627.118644067,
          4632813.559322034,
          4952745.762711864
         ],
         "yaxis": "y"
        },
        {
         "hovertemplate": "Plate=P2<br>Sample=%{x}<br>Alpha_Max=%{y}<extra></extra>",
         "legendgroup": "P2",
         "marker": {
          "color": "#EF553B",
          "symbol": "circle"
         },
         "mode": "markers",
         "name": "P2",
         "orientation": "v",
         "showlegend": true,
         "type": "scatter",
         "x": [
          "P2-A01",
          "P2-A02",
          "P2-A03",
          "P2-A04",
          "P2-A05",
          "P2-A06",
          "P2-A07",
          "P2-A08",
          "P2-A09",
          "P2-A10",
          "P2-A11",
          "P2-A12"
         ],
         "xaxis": "x",
         "y": [
          273559.3220338983,
          158474.5762711864,
          191593.220338983,
          2780032.555615843,
          2992105.263157894,
          2970835.594139989,
          2972137.818773738,
          3267552.902875746,
          3259796.610169491,
          4325423.728813559,
          4630169.491525424,
          4263389.830508474
         ],
         "yaxis": "y"
        },
        {
         "hovertemplate": "Plate=P3<br>Sample=%{x}<br>Alpha_Max=%{y}<extra></extra>",
         "legendgroup": "P3",
         "marker": {
          "color": "#00cc96",
          "symbol": "circle"
         },
         "mode": "markers",
         "name": "P3",
         "orientation": "v",
         "showlegend": true,
         "type": "scatter",
         "x": [
          "P3-A01",
          "P3-A02",
          "P3-A03",
          "P3-A04",
          "P3-A05",
          "P3-A06",
          "P3-A07",
          "P3-A08",
          "P3-A09",
          "P3-A10",
          "P3-A11",
          "P3-A12"
         ],
         "xaxis": "x",
         "y": [
          70508.47457627118,
          163220.3389830508,
          149322.0338983051,
          2927997.82962561,
          2644813.559322034,
          2691796.610169491,
          2669940.314704286,
          2899322.033898305,
          3030412.37113402,
          4240677.966101695,
          4449322.033898305,
          4299525.423728813
         ],
         "yaxis": "y"
        },
        {
         "hovertemplate": "Plate=P4<br>Sample=%{x}<br>Alpha_Max=%{y}<extra></extra>",
         "legendgroup": "P4",
         "marker": {
          "color": "#ab63fa",
          "symbol": "circle"
         },
         "mode": "markers",
         "name": "P4",
         "orientation": "v",
         "showlegend": true,
         "type": "scatter",
         "x": [
          "P4-A01",
          "P4-A02",
          "P4-A03",
          "P4-A04",
          "P4-A05",
          "P4-A06",
          "P4-A07",
          "P4-A08",
          "P4-A09",
          "P4-A10",
          "P4-A11",
          "P4-A12"
         ],
         "xaxis": "x",
         "y": [
          417627.1186440678,
          222372.8813559322,
          274237.2881355932,
          3671661.016949152,
          2982847.457627119,
          2664610.169491525,
          3444542.372881356,
          2781966.101694915,
          2944357.026587086,
          4338711.864406779,
          4724067.79661017,
          5452677.966101695
         ],
         "yaxis": "y"
        },
        {
         "hovertemplate": "Plate=P5<br>Sample=%{x}<br>Alpha_Max=%{y}<extra></extra>",
         "legendgroup": "P5",
         "marker": {
          "color": "#FFA15A",
          "symbol": "circle"
         },
         "mode": "markers",
         "name": "P5",
         "orientation": "v",
         "showlegend": true,
         "type": "scatter",
         "x": [
          "P5-A01",
          "P5-A02",
          "P5-A03",
          "P5-A04",
          "P5-A05",
          "P5-A06",
          "P5-A07",
          "P5-A08",
          "P5-A09",
          "P5-A10",
          "P5-A11",
          "P5-A12"
         ],
         "xaxis": "x",
         "y": [
          307457.6271186441,
          152542.3728813559,
          338644.0677966102,
          2781898.305084745,
          3453152.542372881,
          3111661.016949152,
          3341016.949152542,
          3081307.650569723,
          3172000,
          4615864.406779661,
          4981966.101694915,
          4936135.593220338
         ],
         "yaxis": "y"
        },
        {
         "hovertemplate": "Plate=P6<br>Sample=%{x}<br>Alpha_Max=%{y}<extra></extra>",
         "legendgroup": "P6",
         "marker": {
          "color": "#19d3f3",
          "symbol": "circle"
         },
         "mode": "markers",
         "name": "P6",
         "orientation": "v",
         "showlegend": true,
         "type": "scatter",
         "x": [
          "P6-A01",
          "P6-A02",
          "P6-A03",
          "P6-A04",
          "P6-A05",
          "P6-A06",
          "P6-A07",
          "P6-A08",
          "P6-A09",
          "P6-A10",
          "P6-A11",
          "P6-A12"
         ],
         "xaxis": "x",
         "y": [
          218644.0677966102,
          121355.9322033898,
          221694.9152542373,
          2654101.694915254,
          3604271.186440678,
          3276338.983050847,
          3368203.389830508,
          3194915.254237288,
          3154440.677966102,
          4740813.559322034,
          5134983.050847458,
          4919322.033898305
         ],
         "yaxis": "y"
        }
       ],
       "layout": {
        "legend": {
         "title": {
          "text": "Plate"
         },
         "tracegroupgap": 0
        },
        "margin": {
         "t": 60
        },
        "template": {
         "data": {
          "bar": [
           {
            "error_x": {
             "color": "#2a3f5f"
            },
            "error_y": {
             "color": "#2a3f5f"
            },
            "marker": {
             "line": {
              "color": "#E5ECF6",
              "width": 0.5
             }
            },
            "type": "bar"
           }
          ],
          "barpolar": [
           {
            "marker": {
             "line": {
              "color": "#E5ECF6",
              "width": 0.5
             }
            },
            "type": "barpolar"
           }
          ],
          "carpet": [
           {
            "aaxis": {
             "endlinecolor": "#2a3f5f",
             "gridcolor": "white",
             "linecolor": "white",
             "minorgridcolor": "white",
             "startlinecolor": "#2a3f5f"
            },
            "baxis": {
             "endlinecolor": "#2a3f5f",
             "gridcolor": "white",
             "linecolor": "white",
             "minorgridcolor": "white",
             "startlinecolor": "#2a3f5f"
            },
            "type": "carpet"
           }
          ],
          "choropleth": [
           {
            "colorbar": {
             "outlinewidth": 0,
             "ticks": ""
            },
            "type": "choropleth"
           }
          ],
          "contour": [
           {
            "colorbar": {
             "outlinewidth": 0,
             "ticks": ""
            },
            "colorscale": [
             [
              0,
              "#0d0887"
             ],
             [
              0.1111111111111111,
              "#46039f"
             ],
             [
              0.2222222222222222,
              "#7201a8"
             ],
             [
              0.3333333333333333,
              "#9c179e"
             ],
             [
              0.4444444444444444,
              "#bd3786"
             ],
             [
              0.5555555555555556,
              "#d8576b"
             ],
             [
              0.6666666666666666,
              "#ed7953"
             ],
             [
              0.7777777777777778,
              "#fb9f3a"
             ],
             [
              0.8888888888888888,
              "#fdca26"
             ],
             [
              1,
              "#f0f921"
             ]
            ],
            "type": "contour"
           }
          ],
          "contourcarpet": [
           {
            "colorbar": {
             "outlinewidth": 0,
             "ticks": ""
            },
            "type": "contourcarpet"
           }
          ],
          "heatmap": [
           {
            "colorbar": {
             "outlinewidth": 0,
             "ticks": ""
            },
            "colorscale": [
             [
              0,
              "#0d0887"
             ],
             [
              0.1111111111111111,
              "#46039f"
             ],
             [
              0.2222222222222222,
              "#7201a8"
             ],
             [
              0.3333333333333333,
              "#9c179e"
             ],
             [
              0.4444444444444444,
              "#bd3786"
             ],
             [
              0.5555555555555556,
              "#d8576b"
             ],
             [
              0.6666666666666666,
              "#ed7953"
             ],
             [
              0.7777777777777778,
              "#fb9f3a"
             ],
             [
              0.8888888888888888,
              "#fdca26"
             ],
             [
              1,
              "#f0f921"
             ]
            ],
            "type": "heatmap"
           }
          ],
          "heatmapgl": [
           {
            "colorbar": {
             "outlinewidth": 0,
             "ticks": ""
            },
            "colorscale": [
             [
              0,
              "#0d0887"
             ],
             [
              0.1111111111111111,
              "#46039f"
             ],
             [
              0.2222222222222222,
              "#7201a8"
             ],
             [
              0.3333333333333333,
              "#9c179e"
             ],
             [
              0.4444444444444444,
              "#bd3786"
             ],
             [
              0.5555555555555556,
              "#d8576b"
             ],
             [
              0.6666666666666666,
              "#ed7953"
             ],
             [
              0.7777777777777778,
              "#fb9f3a"
             ],
             [
              0.8888888888888888,
              "#fdca26"
             ],
             [
              1,
              "#f0f921"
             ]
            ],
            "type": "heatmapgl"
           }
          ],
          "histogram": [
           {
            "marker": {
             "colorbar": {
              "outlinewidth": 0,
              "ticks": ""
             }
            },
            "type": "histogram"
           }
          ],
          "histogram2d": [
           {
            "colorbar": {
             "outlinewidth": 0,
             "ticks": ""
            },
            "colorscale": [
             [
              0,
              "#0d0887"
             ],
             [
              0.1111111111111111,
              "#46039f"
             ],
             [
              0.2222222222222222,
              "#7201a8"
             ],
             [
              0.3333333333333333,
              "#9c179e"
             ],
             [
              0.4444444444444444,
              "#bd3786"
             ],
             [
              0.5555555555555556,
              "#d8576b"
             ],
             [
              0.6666666666666666,
              "#ed7953"
             ],
             [
              0.7777777777777778,
              "#fb9f3a"
             ],
             [
              0.8888888888888888,
              "#fdca26"
             ],
             [
              1,
              "#f0f921"
             ]
            ],
            "type": "histogram2d"
           }
          ],
          "histogram2dcontour": [
           {
            "colorbar": {
             "outlinewidth": 0,
             "ticks": ""
            },
            "colorscale": [
             [
              0,
              "#0d0887"
             ],
             [
              0.1111111111111111,
              "#46039f"
             ],
             [
              0.2222222222222222,
              "#7201a8"
             ],
             [
              0.3333333333333333,
              "#9c179e"
             ],
             [
              0.4444444444444444,
              "#bd3786"
             ],
             [
              0.5555555555555556,
              "#d8576b"
             ],
             [
              0.6666666666666666,
              "#ed7953"
             ],
             [
              0.7777777777777778,
              "#fb9f3a"
             ],
             [
              0.8888888888888888,
              "#fdca26"
             ],
             [
              1,
              "#f0f921"
             ]
            ],
            "type": "histogram2dcontour"
           }
          ],
          "mesh3d": [
           {
            "colorbar": {
             "outlinewidth": 0,
             "ticks": ""
            },
            "type": "mesh3d"
           }
          ],
          "parcoords": [
           {
            "line": {
             "colorbar": {
              "outlinewidth": 0,
              "ticks": ""
             }
            },
            "type": "parcoords"
           }
          ],
          "pie": [
           {
            "automargin": true,
            "type": "pie"
           }
          ],
          "scatter": [
           {
            "marker": {
             "colorbar": {
              "outlinewidth": 0,
              "ticks": ""
             }
            },
            "type": "scatter"
           }
          ],
          "scatter3d": [
           {
            "line": {
             "colorbar": {
              "outlinewidth": 0,
              "ticks": ""
             }
            },
            "marker": {
             "colorbar": {
              "outlinewidth": 0,
              "ticks": ""
             }
            },
            "type": "scatter3d"
           }
          ],
          "scattercarpet": [
           {
            "marker": {
             "colorbar": {
              "outlinewidth": 0,
              "ticks": ""
             }
            },
            "type": "scattercarpet"
           }
          ],
          "scattergeo": [
           {
            "marker": {
             "colorbar": {
              "outlinewidth": 0,
              "ticks": ""
             }
            },
            "type": "scattergeo"
           }
          ],
          "scattergl": [
           {
            "marker": {
             "colorbar": {
              "outlinewidth": 0,
              "ticks": ""
             }
            },
            "type": "scattergl"
           }
          ],
          "scattermapbox": [
           {
            "marker": {
             "colorbar": {
              "outlinewidth": 0,
              "ticks": ""
             }
            },
            "type": "scattermapbox"
           }
          ],
          "scatterpolar": [
           {
            "marker": {
             "colorbar": {
              "outlinewidth": 0,
              "ticks": ""
             }
            },
            "type": "scatterpolar"
           }
          ],
          "scatterpolargl": [
           {
            "marker": {
             "colorbar": {
              "outlinewidth": 0,
              "ticks": ""
             }
            },
            "type": "scatterpolargl"
           }
          ],
          "scatterternary": [
           {
            "marker": {
             "colorbar": {
              "outlinewidth": 0,
              "ticks": ""
             }
            },
            "type": "scatterternary"
           }
          ],
          "surface": [
           {
            "colorbar": {
             "outlinewidth": 0,
             "ticks": ""
            },
            "colorscale": [
             [
              0,
              "#0d0887"
             ],
             [
              0.1111111111111111,
              "#46039f"
             ],
             [
              0.2222222222222222,
              "#7201a8"
             ],
             [
              0.3333333333333333,
              "#9c179e"
             ],
             [
              0.4444444444444444,
              "#bd3786"
             ],
             [
              0.5555555555555556,
              "#d8576b"
             ],
             [
              0.6666666666666666,
              "#ed7953"
             ],
             [
              0.7777777777777778,
              "#fb9f3a"
             ],
             [
              0.8888888888888888,
              "#fdca26"
             ],
             [
              1,
              "#f0f921"
             ]
            ],
            "type": "surface"
           }
          ],
          "table": [
           {
            "cells": {
             "fill": {
              "color": "#EBF0F8"
             },
             "line": {
              "color": "white"
             }
            },
            "header": {
             "fill": {
              "color": "#C8D4E3"
             },
             "line": {
              "color": "white"
             }
            },
            "type": "table"
           }
          ]
         },
         "layout": {
          "annotationdefaults": {
           "arrowcolor": "#2a3f5f",
           "arrowhead": 0,
           "arrowwidth": 1
          },
          "autotypenumbers": "strict",
          "coloraxis": {
           "colorbar": {
            "outlinewidth": 0,
            "ticks": ""
           }
          },
          "colorscale": {
           "diverging": [
            [
             0,
             "#8e0152"
            ],
            [
             0.1,
             "#c51b7d"
            ],
            [
             0.2,
             "#de77ae"
            ],
            [
             0.3,
             "#f1b6da"
            ],
            [
             0.4,
             "#fde0ef"
            ],
            [
             0.5,
             "#f7f7f7"
            ],
            [
             0.6,
             "#e6f5d0"
            ],
            [
             0.7,
             "#b8e186"
            ],
            [
             0.8,
             "#7fbc41"
            ],
            [
             0.9,
             "#4d9221"
            ],
            [
             1,
             "#276419"
            ]
           ],
           "sequential": [
            [
             0,
             "#0d0887"
            ],
            [
             0.1111111111111111,
             "#46039f"
            ],
            [
             0.2222222222222222,
             "#7201a8"
            ],
            [
             0.3333333333333333,
             "#9c179e"
            ],
            [
             0.4444444444444444,
             "#bd3786"
            ],
            [
             0.5555555555555556,
             "#d8576b"
            ],
            [
             0.6666666666666666,
             "#ed7953"
            ],
            [
             0.7777777777777778,
             "#fb9f3a"
            ],
            [
             0.8888888888888888,
             "#fdca26"
            ],
            [
             1,
             "#f0f921"
            ]
           ],
           "sequentialminus": [
            [
             0,
             "#0d0887"
            ],
            [
             0.1111111111111111,
             "#46039f"
            ],
            [
             0.2222222222222222,
             "#7201a8"
            ],
            [
             0.3333333333333333,
             "#9c179e"
            ],
            [
             0.4444444444444444,
             "#bd3786"
            ],
            [
             0.5555555555555556,
             "#d8576b"
            ],
            [
             0.6666666666666666,
             "#ed7953"
            ],
            [
             0.7777777777777778,
             "#fb9f3a"
            ],
            [
             0.8888888888888888,
             "#fdca26"
            ],
            [
             1,
             "#f0f921"
            ]
           ]
          },
          "colorway": [
           "#636efa",
           "#EF553B",
           "#00cc96",
           "#ab63fa",
           "#FFA15A",
           "#19d3f3",
           "#FF6692",
           "#B6E880",
           "#FF97FF",
           "#FECB52"
          ],
          "font": {
           "color": "#2a3f5f"
          },
          "geo": {
           "bgcolor": "white",
           "lakecolor": "white",
           "landcolor": "#E5ECF6",
           "showlakes": true,
           "showland": true,
           "subunitcolor": "white"
          },
          "hoverlabel": {
           "align": "left"
          },
          "hovermode": "closest",
          "mapbox": {
           "style": "light"
          },
          "paper_bgcolor": "white",
          "plot_bgcolor": "#E5ECF6",
          "polar": {
           "angularaxis": {
            "gridcolor": "white",
            "linecolor": "white",
            "ticks": ""
           },
           "bgcolor": "#E5ECF6",
           "radialaxis": {
            "gridcolor": "white",
            "linecolor": "white",
            "ticks": ""
           }
          },
          "scene": {
           "xaxis": {
            "backgroundcolor": "#E5ECF6",
            "gridcolor": "white",
            "gridwidth": 2,
            "linecolor": "white",
            "showbackground": true,
            "ticks": "",
            "zerolinecolor": "white"
           },
           "yaxis": {
            "backgroundcolor": "#E5ECF6",
            "gridcolor": "white",
            "gridwidth": 2,
            "linecolor": "white",
            "showbackground": true,
            "ticks": "",
            "zerolinecolor": "white"
           },
           "zaxis": {
            "backgroundcolor": "#E5ECF6",
            "gridcolor": "white",
            "gridwidth": 2,
            "linecolor": "white",
            "showbackground": true,
            "ticks": "",
            "zerolinecolor": "white"
           }
          },
          "shapedefaults": {
           "line": {
            "color": "#2a3f5f"
           }
          },
          "ternary": {
           "aaxis": {
            "gridcolor": "white",
            "linecolor": "white",
            "ticks": ""
           },
           "baxis": {
            "gridcolor": "white",
            "linecolor": "white",
            "ticks": ""
           },
           "bgcolor": "#E5ECF6",
           "caxis": {
            "gridcolor": "white",
            "linecolor": "white",
            "ticks": ""
           }
          },
          "title": {
           "x": 0.05
          },
          "xaxis": {
           "automargin": true,
           "gridcolor": "white",
           "linecolor": "white",
           "ticks": "",
           "title": {
            "standoff": 15
           },
           "zerolinecolor": "white",
           "zerolinewidth": 2
          },
          "yaxis": {
           "automargin": true,
           "gridcolor": "white",
           "linecolor": "white",
           "ticks": "",
           "title": {
            "standoff": 15
           },
           "zerolinecolor": "white",
           "zerolinewidth": 2
          }
         }
        },
        "xaxis": {
         "anchor": "y",
         "domain": [
          0,
          1
         ],
         "title": {
          "text": "Sample"
         }
        },
        "yaxis": {
         "anchor": "x",
         "domain": [
          0,
          1
         ],
         "title": {
          "text": "Alpha_Max"
         }
        }
       }
      },
      "text/html": [
       "<div>                            <div id=\"05eae78e-d92a-4e71-93ba-33cf38311333\" class=\"plotly-graph-div\" style=\"height:525px; width:100%;\"></div>            <script type=\"text/javascript\">                require([\"plotly\"], function(Plotly) {                    window.PLOTLYENV=window.PLOTLYENV || {};                                    if (document.getElementById(\"05eae78e-d92a-4e71-93ba-33cf38311333\")) {                    Plotly.newPlot(                        \"05eae78e-d92a-4e71-93ba-33cf38311333\",                        [{\"hovertemplate\": \"Plate=P1<br>Sample=%{x}<br>Alpha_Max=%{y}<extra></extra>\", \"legendgroup\": \"P1\", \"marker\": {\"color\": \"#636efa\", \"symbol\": \"circle\"}, \"mode\": \"markers\", \"name\": \"P1\", \"orientation\": \"v\", \"showlegend\": true, \"type\": \"scatter\", \"x\": [\"P1-A01\", \"P1-A02\", \"P1-A03\", \"P1-A04\", \"P1-A05\", \"P1-A06\", \"P1-A07\", \"P1-A08\", \"P1-A09\", \"P1-A10\", \"P1-A11\", \"P1-A12\"], \"xaxis\": \"x\", \"y\": [214067.7966101695, 213728.813559322, 178813.5593220339, 2949830.508474576, 2370862.723819859, 2605046.120455778, 2813084.745762712, 2972000.0, 2662915.254237288, 4309627.118644067, 4632813.559322034, 4952745.762711864], \"yaxis\": \"y\"}, {\"hovertemplate\": \"Plate=P2<br>Sample=%{x}<br>Alpha_Max=%{y}<extra></extra>\", \"legendgroup\": \"P2\", \"marker\": {\"color\": \"#EF553B\", \"symbol\": \"circle\"}, \"mode\": \"markers\", \"name\": \"P2\", \"orientation\": \"v\", \"showlegend\": true, \"type\": \"scatter\", \"x\": [\"P2-A01\", \"P2-A02\", \"P2-A03\", \"P2-A04\", \"P2-A05\", \"P2-A06\", \"P2-A07\", \"P2-A08\", \"P2-A09\", \"P2-A10\", \"P2-A11\", \"P2-A12\"], \"xaxis\": \"x\", \"y\": [273559.3220338983, 158474.5762711864, 191593.220338983, 2780032.555615843, 2992105.263157894, 2970835.594139989, 2972137.818773738, 3267552.902875746, 3259796.610169491, 4325423.728813559, 4630169.491525424, 4263389.830508474], \"yaxis\": \"y\"}, {\"hovertemplate\": \"Plate=P3<br>Sample=%{x}<br>Alpha_Max=%{y}<extra></extra>\", \"legendgroup\": \"P3\", \"marker\": {\"color\": \"#00cc96\", \"symbol\": \"circle\"}, \"mode\": \"markers\", \"name\": \"P3\", \"orientation\": \"v\", \"showlegend\": true, \"type\": \"scatter\", \"x\": [\"P3-A01\", \"P3-A02\", \"P3-A03\", \"P3-A04\", \"P3-A05\", \"P3-A06\", \"P3-A07\", \"P3-A08\", \"P3-A09\", \"P3-A10\", \"P3-A11\", \"P3-A12\"], \"xaxis\": \"x\", \"y\": [70508.47457627118, 163220.3389830508, 149322.0338983051, 2927997.82962561, 2644813.559322034, 2691796.610169491, 2669940.314704286, 2899322.033898305, 3030412.37113402, 4240677.966101695, 4449322.033898305, 4299525.423728813], \"yaxis\": \"y\"}, {\"hovertemplate\": \"Plate=P4<br>Sample=%{x}<br>Alpha_Max=%{y}<extra></extra>\", \"legendgroup\": \"P4\", \"marker\": {\"color\": \"#ab63fa\", \"symbol\": \"circle\"}, \"mode\": \"markers\", \"name\": \"P4\", \"orientation\": \"v\", \"showlegend\": true, \"type\": \"scatter\", \"x\": [\"P4-A01\", \"P4-A02\", \"P4-A03\", \"P4-A04\", \"P4-A05\", \"P4-A06\", \"P4-A07\", \"P4-A08\", \"P4-A09\", \"P4-A10\", \"P4-A11\", \"P4-A12\"], \"xaxis\": \"x\", \"y\": [417627.1186440678, 222372.8813559322, 274237.2881355932, 3671661.016949152, 2982847.457627119, 2664610.169491525, 3444542.372881356, 2781966.101694915, 2944357.026587086, 4338711.864406779, 4724067.79661017, 5452677.966101695], \"yaxis\": \"y\"}, {\"hovertemplate\": \"Plate=P5<br>Sample=%{x}<br>Alpha_Max=%{y}<extra></extra>\", \"legendgroup\": \"P5\", \"marker\": {\"color\": \"#FFA15A\", \"symbol\": \"circle\"}, \"mode\": \"markers\", \"name\": \"P5\", \"orientation\": \"v\", \"showlegend\": true, \"type\": \"scatter\", \"x\": [\"P5-A01\", \"P5-A02\", \"P5-A03\", \"P5-A04\", \"P5-A05\", \"P5-A06\", \"P5-A07\", \"P5-A08\", \"P5-A09\", \"P5-A10\", \"P5-A11\", \"P5-A12\"], \"xaxis\": \"x\", \"y\": [307457.6271186441, 152542.3728813559, 338644.0677966102, 2781898.305084745, 3453152.542372881, 3111661.016949152, 3341016.949152542, 3081307.650569723, 3172000.0, 4615864.406779661, 4981966.101694915, 4936135.593220338], \"yaxis\": \"y\"}, {\"hovertemplate\": \"Plate=P6<br>Sample=%{x}<br>Alpha_Max=%{y}<extra></extra>\", \"legendgroup\": \"P6\", \"marker\": {\"color\": \"#19d3f3\", \"symbol\": \"circle\"}, \"mode\": \"markers\", \"name\": \"P6\", \"orientation\": \"v\", \"showlegend\": true, \"type\": \"scatter\", \"x\": [\"P6-A01\", \"P6-A02\", \"P6-A03\", \"P6-A04\", \"P6-A05\", \"P6-A06\", \"P6-A07\", \"P6-A08\", \"P6-A09\", \"P6-A10\", \"P6-A11\", \"P6-A12\"], \"xaxis\": \"x\", \"y\": [218644.0677966102, 121355.9322033898, 221694.9152542373, 2654101.694915254, 3604271.186440678, 3276338.983050847, 3368203.389830508, 3194915.254237288, 3154440.677966102, 4740813.559322034, 5134983.050847458, 4919322.033898305], \"yaxis\": \"y\"}],                        {\"legend\": {\"title\": {\"text\": \"Plate\"}, \"tracegroupgap\": 0}, \"margin\": {\"t\": 60}, \"template\": {\"data\": {\"bar\": [{\"error_x\": {\"color\": \"#2a3f5f\"}, \"error_y\": {\"color\": \"#2a3f5f\"}, \"marker\": {\"line\": {\"color\": \"#E5ECF6\", \"width\": 0.5}}, \"type\": \"bar\"}], \"barpolar\": [{\"marker\": {\"line\": {\"color\": \"#E5ECF6\", \"width\": 0.5}}, \"type\": \"barpolar\"}], \"carpet\": [{\"aaxis\": {\"endlinecolor\": \"#2a3f5f\", \"gridcolor\": \"white\", \"linecolor\": \"white\", \"minorgridcolor\": \"white\", \"startlinecolor\": \"#2a3f5f\"}, \"baxis\": {\"endlinecolor\": \"#2a3f5f\", \"gridcolor\": \"white\", \"linecolor\": \"white\", \"minorgridcolor\": \"white\", \"startlinecolor\": \"#2a3f5f\"}, \"type\": \"carpet\"}], \"choropleth\": [{\"colorbar\": {\"outlinewidth\": 0, \"ticks\": \"\"}, \"type\": \"choropleth\"}], \"contour\": [{\"colorbar\": {\"outlinewidth\": 0, \"ticks\": \"\"}, \"colorscale\": [[0.0, \"#0d0887\"], [0.1111111111111111, \"#46039f\"], [0.2222222222222222, \"#7201a8\"], [0.3333333333333333, \"#9c179e\"], [0.4444444444444444, \"#bd3786\"], [0.5555555555555556, \"#d8576b\"], [0.6666666666666666, \"#ed7953\"], [0.7777777777777778, \"#fb9f3a\"], [0.8888888888888888, \"#fdca26\"], [1.0, \"#f0f921\"]], \"type\": \"contour\"}], \"contourcarpet\": [{\"colorbar\": {\"outlinewidth\": 0, \"ticks\": \"\"}, \"type\": \"contourcarpet\"}], \"heatmap\": [{\"colorbar\": {\"outlinewidth\": 0, \"ticks\": \"\"}, \"colorscale\": [[0.0, \"#0d0887\"], [0.1111111111111111, \"#46039f\"], [0.2222222222222222, \"#7201a8\"], [0.3333333333333333, \"#9c179e\"], [0.4444444444444444, \"#bd3786\"], [0.5555555555555556, \"#d8576b\"], [0.6666666666666666, \"#ed7953\"], [0.7777777777777778, \"#fb9f3a\"], [0.8888888888888888, \"#fdca26\"], [1.0, \"#f0f921\"]], \"type\": \"heatmap\"}], \"heatmapgl\": [{\"colorbar\": {\"outlinewidth\": 0, \"ticks\": \"\"}, \"colorscale\": [[0.0, \"#0d0887\"], [0.1111111111111111, \"#46039f\"], [0.2222222222222222, \"#7201a8\"], [0.3333333333333333, \"#9c179e\"], [0.4444444444444444, \"#bd3786\"], [0.5555555555555556, \"#d8576b\"], [0.6666666666666666, \"#ed7953\"], [0.7777777777777778, \"#fb9f3a\"], [0.8888888888888888, \"#fdca26\"], [1.0, \"#f0f921\"]], \"type\": \"heatmapgl\"}], \"histogram\": [{\"marker\": {\"colorbar\": {\"outlinewidth\": 0, \"ticks\": \"\"}}, \"type\": \"histogram\"}], \"histogram2d\": [{\"colorbar\": {\"outlinewidth\": 0, \"ticks\": \"\"}, \"colorscale\": [[0.0, \"#0d0887\"], [0.1111111111111111, \"#46039f\"], [0.2222222222222222, \"#7201a8\"], [0.3333333333333333, \"#9c179e\"], [0.4444444444444444, \"#bd3786\"], [0.5555555555555556, \"#d8576b\"], [0.6666666666666666, \"#ed7953\"], [0.7777777777777778, \"#fb9f3a\"], [0.8888888888888888, \"#fdca26\"], [1.0, \"#f0f921\"]], \"type\": \"histogram2d\"}], \"histogram2dcontour\": [{\"colorbar\": {\"outlinewidth\": 0, \"ticks\": \"\"}, \"colorscale\": [[0.0, \"#0d0887\"], [0.1111111111111111, \"#46039f\"], [0.2222222222222222, \"#7201a8\"], [0.3333333333333333, \"#9c179e\"], [0.4444444444444444, \"#bd3786\"], [0.5555555555555556, \"#d8576b\"], [0.6666666666666666, \"#ed7953\"], [0.7777777777777778, \"#fb9f3a\"], [0.8888888888888888, \"#fdca26\"], [1.0, \"#f0f921\"]], \"type\": \"histogram2dcontour\"}], \"mesh3d\": [{\"colorbar\": {\"outlinewidth\": 0, \"ticks\": \"\"}, \"type\": \"mesh3d\"}], \"parcoords\": [{\"line\": {\"colorbar\": {\"outlinewidth\": 0, \"ticks\": \"\"}}, \"type\": \"parcoords\"}], \"pie\": [{\"automargin\": true, \"type\": \"pie\"}], \"scatter\": [{\"marker\": {\"colorbar\": {\"outlinewidth\": 0, \"ticks\": \"\"}}, \"type\": \"scatter\"}], \"scatter3d\": [{\"line\": {\"colorbar\": {\"outlinewidth\": 0, \"ticks\": \"\"}}, \"marker\": {\"colorbar\": {\"outlinewidth\": 0, \"ticks\": \"\"}}, \"type\": \"scatter3d\"}], \"scattercarpet\": [{\"marker\": {\"colorbar\": {\"outlinewidth\": 0, \"ticks\": \"\"}}, \"type\": \"scattercarpet\"}], \"scattergeo\": [{\"marker\": {\"colorbar\": {\"outlinewidth\": 0, \"ticks\": \"\"}}, \"type\": \"scattergeo\"}], \"scattergl\": [{\"marker\": {\"colorbar\": {\"outlinewidth\": 0, \"ticks\": \"\"}}, \"type\": \"scattergl\"}], \"scattermapbox\": [{\"marker\": {\"colorbar\": {\"outlinewidth\": 0, \"ticks\": \"\"}}, \"type\": \"scattermapbox\"}], \"scatterpolar\": [{\"marker\": {\"colorbar\": {\"outlinewidth\": 0, \"ticks\": \"\"}}, \"type\": \"scatterpolar\"}], \"scatterpolargl\": [{\"marker\": {\"colorbar\": {\"outlinewidth\": 0, \"ticks\": \"\"}}, \"type\": \"scatterpolargl\"}], \"scatterternary\": [{\"marker\": {\"colorbar\": {\"outlinewidth\": 0, \"ticks\": \"\"}}, \"type\": \"scatterternary\"}], \"surface\": [{\"colorbar\": {\"outlinewidth\": 0, \"ticks\": \"\"}, \"colorscale\": [[0.0, \"#0d0887\"], [0.1111111111111111, \"#46039f\"], [0.2222222222222222, \"#7201a8\"], [0.3333333333333333, \"#9c179e\"], [0.4444444444444444, \"#bd3786\"], [0.5555555555555556, \"#d8576b\"], [0.6666666666666666, \"#ed7953\"], [0.7777777777777778, \"#fb9f3a\"], [0.8888888888888888, \"#fdca26\"], [1.0, \"#f0f921\"]], \"type\": \"surface\"}], \"table\": [{\"cells\": {\"fill\": {\"color\": \"#EBF0F8\"}, \"line\": {\"color\": \"white\"}}, \"header\": {\"fill\": {\"color\": \"#C8D4E3\"}, \"line\": {\"color\": \"white\"}}, \"type\": \"table\"}]}, \"layout\": {\"annotationdefaults\": {\"arrowcolor\": \"#2a3f5f\", \"arrowhead\": 0, \"arrowwidth\": 1}, \"autotypenumbers\": \"strict\", \"coloraxis\": {\"colorbar\": {\"outlinewidth\": 0, \"ticks\": \"\"}}, \"colorscale\": {\"diverging\": [[0, \"#8e0152\"], [0.1, \"#c51b7d\"], [0.2, \"#de77ae\"], [0.3, \"#f1b6da\"], [0.4, \"#fde0ef\"], [0.5, \"#f7f7f7\"], [0.6, \"#e6f5d0\"], [0.7, \"#b8e186\"], [0.8, \"#7fbc41\"], [0.9, \"#4d9221\"], [1, \"#276419\"]], \"sequential\": [[0.0, \"#0d0887\"], [0.1111111111111111, \"#46039f\"], [0.2222222222222222, \"#7201a8\"], [0.3333333333333333, \"#9c179e\"], [0.4444444444444444, \"#bd3786\"], [0.5555555555555556, \"#d8576b\"], [0.6666666666666666, \"#ed7953\"], [0.7777777777777778, \"#fb9f3a\"], [0.8888888888888888, \"#fdca26\"], [1.0, \"#f0f921\"]], \"sequentialminus\": [[0.0, \"#0d0887\"], [0.1111111111111111, \"#46039f\"], [0.2222222222222222, \"#7201a8\"], [0.3333333333333333, \"#9c179e\"], [0.4444444444444444, \"#bd3786\"], [0.5555555555555556, \"#d8576b\"], [0.6666666666666666, \"#ed7953\"], [0.7777777777777778, \"#fb9f3a\"], [0.8888888888888888, \"#fdca26\"], [1.0, \"#f0f921\"]]}, \"colorway\": [\"#636efa\", \"#EF553B\", \"#00cc96\", \"#ab63fa\", \"#FFA15A\", \"#19d3f3\", \"#FF6692\", \"#B6E880\", \"#FF97FF\", \"#FECB52\"], \"font\": {\"color\": \"#2a3f5f\"}, \"geo\": {\"bgcolor\": \"white\", \"lakecolor\": \"white\", \"landcolor\": \"#E5ECF6\", \"showlakes\": true, \"showland\": true, \"subunitcolor\": \"white\"}, \"hoverlabel\": {\"align\": \"left\"}, \"hovermode\": \"closest\", \"mapbox\": {\"style\": \"light\"}, \"paper_bgcolor\": \"white\", \"plot_bgcolor\": \"#E5ECF6\", \"polar\": {\"angularaxis\": {\"gridcolor\": \"white\", \"linecolor\": \"white\", \"ticks\": \"\"}, \"bgcolor\": \"#E5ECF6\", \"radialaxis\": {\"gridcolor\": \"white\", \"linecolor\": \"white\", \"ticks\": \"\"}}, \"scene\": {\"xaxis\": {\"backgroundcolor\": \"#E5ECF6\", \"gridcolor\": \"white\", \"gridwidth\": 2, \"linecolor\": \"white\", \"showbackground\": true, \"ticks\": \"\", \"zerolinecolor\": \"white\"}, \"yaxis\": {\"backgroundcolor\": \"#E5ECF6\", \"gridcolor\": \"white\", \"gridwidth\": 2, \"linecolor\": \"white\", \"showbackground\": true, \"ticks\": \"\", \"zerolinecolor\": \"white\"}, \"zaxis\": {\"backgroundcolor\": \"#E5ECF6\", \"gridcolor\": \"white\", \"gridwidth\": 2, \"linecolor\": \"white\", \"showbackground\": true, \"ticks\": \"\", \"zerolinecolor\": \"white\"}}, \"shapedefaults\": {\"line\": {\"color\": \"#2a3f5f\"}}, \"ternary\": {\"aaxis\": {\"gridcolor\": \"white\", \"linecolor\": \"white\", \"ticks\": \"\"}, \"baxis\": {\"gridcolor\": \"white\", \"linecolor\": \"white\", \"ticks\": \"\"}, \"bgcolor\": \"#E5ECF6\", \"caxis\": {\"gridcolor\": \"white\", \"linecolor\": \"white\", \"ticks\": \"\"}}, \"title\": {\"x\": 0.05}, \"xaxis\": {\"automargin\": true, \"gridcolor\": \"white\", \"linecolor\": \"white\", \"ticks\": \"\", \"title\": {\"standoff\": 15}, \"zerolinecolor\": \"white\", \"zerolinewidth\": 2}, \"yaxis\": {\"automargin\": true, \"gridcolor\": \"white\", \"linecolor\": \"white\", \"ticks\": \"\", \"title\": {\"standoff\": 15}, \"zerolinecolor\": \"white\", \"zerolinewidth\": 2}}}, \"xaxis\": {\"anchor\": \"y\", \"domain\": [0.0, 1.0], \"title\": {\"text\": \"Sample\"}}, \"yaxis\": {\"anchor\": \"x\", \"domain\": [0.0, 1.0], \"title\": {\"text\": \"Alpha_Max\"}}},                        {\"responsive\": true}                    ).then(function(){\n",
       "                            \n",
       "var gd = document.getElementById('05eae78e-d92a-4e71-93ba-33cf38311333');\n",
       "var x = new MutationObserver(function (mutations, observer) {{\n",
       "        var display = window.getComputedStyle(gd).display;\n",
       "        if (!display || display === 'none') {{\n",
       "            console.log([gd, 'removed!']);\n",
       "            Plotly.purge(gd);\n",
       "            observer.disconnect();\n",
       "        }}\n",
       "}});\n",
       "\n",
       "// Listen for the removal of the full notebook cells\n",
       "var notebookContainer = gd.closest('#notebook-container');\n",
       "if (notebookContainer) {{\n",
       "    x.observe(notebookContainer, {childList: true});\n",
       "}}\n",
       "\n",
       "// Listen for the clearing of the current output cell\n",
       "var outputEl = gd.closest('.output');\n",
       "if (outputEl) {{\n",
       "    x.observe(outputEl, {childList: true});\n",
       "}}\n",
       "\n",
       "                        })                };                });            </script>        </div>"
      ]
     },
     "metadata": {},
     "output_type": "display_data"
    },
    {
     "data": {
      "application/vnd.plotly.v1+json": {
       "config": {
        "plotlyServerURL": "https://plot.ly"
       },
       "data": [
        {
         "hovertemplate": "Plate=P1<br>Sample=%{x}<br>Alpha_Max/DNA_Max=%{y}<extra></extra>",
         "legendgroup": "P1",
         "marker": {
          "color": "#636efa",
          "symbol": "circle"
         },
         "mode": "markers",
         "name": "P1",
         "orientation": "v",
         "showlegend": true,
         "type": "scatter",
         "x": [
          "P1-A01",
          "P1-A02",
          "P1-A03",
          "P1-A04",
          "P1-A05",
          "P1-A06",
          "P1-A07",
          "P1-A08",
          "P1-A09",
          "P1-A10",
          "P1-A11",
          "P1-A12"
         ],
         "xaxis": "x",
         "y": [
          0.02236110619312347,
          0.02709147939672582,
          0.02909221266269578,
          0.9856714051084555,
          0.7712886011544534,
          0.8743257358603499,
          1.126884115043046,
          1.16440666710937,
          1.324897837230026,
          3.281880370911314,
          3.090330952922838,
          2.210378214826021
         ],
         "yaxis": "y"
        },
        {
         "hovertemplate": "Plate=P2<br>Sample=%{x}<br>Alpha_Max/DNA_Max=%{y}<extra></extra>",
         "legendgroup": "P2",
         "marker": {
          "color": "#EF553B",
          "symbol": "circle"
         },
         "mode": "markers",
         "name": "P2",
         "orientation": "v",
         "showlegend": true,
         "type": "scatter",
         "x": [
          "P2-A01",
          "P2-A02",
          "P2-A03",
          "P2-A04",
          "P2-A05",
          "P2-A06",
          "P2-A07",
          "P2-A08",
          "P2-A09",
          "P2-A10",
          "P2-A11",
          "P2-A12"
         ],
         "xaxis": "x",
         "y": [
          0.03098483394125552,
          0.01665123236928337,
          0.0263533361309274,
          0.9585646873470871,
          0.9461075648551142,
          1.501810439837029,
          1.147468468182506,
          1.225124690325807,
          1.300128439126614,
          3.936813525854622,
          3.38486042437927,
          0.8808656674604286
         ],
         "yaxis": "y"
        },
        {
         "hovertemplate": "Plate=P3<br>Sample=%{x}<br>Alpha_Max/DNA_Max=%{y}<extra></extra>",
         "legendgroup": "P3",
         "marker": {
          "color": "#00cc96",
          "symbol": "circle"
         },
         "mode": "markers",
         "name": "P3",
         "orientation": "v",
         "showlegend": true,
         "type": "scatter",
         "x": [
          "P3-A01",
          "P3-A02",
          "P3-A03",
          "P3-A04",
          "P3-A05",
          "P3-A06",
          "P3-A07",
          "P3-A08",
          "P3-A09",
          "P3-A10",
          "P3-A11",
          "P3-A12"
         ],
         "xaxis": "x",
         "y": [
          0.006052141527001861,
          0.0218144750254842,
          0.02951028337911168,
          1.034504293358351,
          0.6947640249332144,
          1.300874807509584,
          1.063936772710745,
          1.128661916072842,
          1.436052897070835,
          3.372123006224026,
          3.016184392715113,
          2.084918221418591
         ],
         "yaxis": "y"
        },
        {
         "hovertemplate": "Plate=P4<br>Sample=%{x}<br>Alpha_Max/DNA_Max=%{y}<extra></extra>",
         "legendgroup": "P4",
         "marker": {
          "color": "#ab63fa",
          "symbol": "circle"
         },
         "mode": "markers",
         "name": "P4",
         "orientation": "v",
         "showlegend": true,
         "type": "scatter",
         "x": [
          "P4-A01",
          "P4-A02",
          "P4-A03",
          "P4-A04",
          "P4-A05",
          "P4-A06",
          "P4-A07",
          "P4-A08",
          "P4-A09",
          "P4-A10",
          "P4-A11",
          "P4-A12"
         ],
         "xaxis": "x",
         "y": [
          0.03942589244283726,
          0.02605345724611779,
          0.04503451347138722,
          1.08503881793138,
          1.390247926764059,
          1.200091603053435,
          1.230640668523677,
          1.079425572206516,
          1.272000179897767,
          2.791233235197906,
          2.550979315394472,
          2.493473880018602
         ],
         "yaxis": "y"
        },
        {
         "hovertemplate": "Plate=P5<br>Sample=%{x}<br>Alpha_Max/DNA_Max=%{y}<extra></extra>",
         "legendgroup": "P5",
         "marker": {
          "color": "#FFA15A",
          "symbol": "circle"
         },
         "mode": "markers",
         "name": "P5",
         "orientation": "v",
         "showlegend": true,
         "type": "scatter",
         "x": [
          "P5-A01",
          "P5-A02",
          "P5-A03",
          "P5-A04",
          "P5-A05",
          "P5-A06",
          "P5-A07",
          "P5-A08",
          "P5-A09",
          "P5-A10",
          "P5-A11",
          "P5-A12"
         ],
         "xaxis": "x",
         "y": [
          0.029458572866933,
          0.01525139380793411,
          0.04975471275244665,
          0.8993041477179331,
          1.53665600675798,
          1.266386148858384,
          1.238424326192122,
          1.068577860363332,
          1.364649263526323,
          2.965331010452962,
          3.210029704700331,
          3.594125632481797
         ],
         "yaxis": "y"
        },
        {
         "hovertemplate": "Plate=P6<br>Sample=%{x}<br>Alpha_Max/DNA_Max=%{y}<extra></extra>",
         "legendgroup": "P6",
         "marker": {
          "color": "#19d3f3",
          "symbol": "circle"
         },
         "mode": "markers",
         "name": "P6",
         "orientation": "v",
         "showlegend": true,
         "type": "scatter",
         "x": [
          "P6-A01",
          "P6-A02",
          "P6-A03",
          "P6-A04",
          "P6-A05",
          "P6-A06",
          "P6-A07",
          "P6-A08",
          "P6-A09",
          "P6-A10",
          "P6-A11",
          "P6-A12"
         ],
         "xaxis": "x",
         "y": [
          0.02048301814890678,
          0.01188105668392407,
          0.03759052764685596,
          0.8199392606555659,
          1.125083328924396,
          1.397816183382746,
          1.337578245944672,
          1.157435834459045,
          1.370082449941107,
          3.337406037465696,
          1.284289953370072,
          2.686163813049514
         ],
         "yaxis": "y"
        }
       ],
       "layout": {
        "legend": {
         "title": {
          "text": "Plate"
         },
         "tracegroupgap": 0
        },
        "margin": {
         "t": 60
        },
        "template": {
         "data": {
          "bar": [
           {
            "error_x": {
             "color": "#2a3f5f"
            },
            "error_y": {
             "color": "#2a3f5f"
            },
            "marker": {
             "line": {
              "color": "#E5ECF6",
              "width": 0.5
             }
            },
            "type": "bar"
           }
          ],
          "barpolar": [
           {
            "marker": {
             "line": {
              "color": "#E5ECF6",
              "width": 0.5
             }
            },
            "type": "barpolar"
           }
          ],
          "carpet": [
           {
            "aaxis": {
             "endlinecolor": "#2a3f5f",
             "gridcolor": "white",
             "linecolor": "white",
             "minorgridcolor": "white",
             "startlinecolor": "#2a3f5f"
            },
            "baxis": {
             "endlinecolor": "#2a3f5f",
             "gridcolor": "white",
             "linecolor": "white",
             "minorgridcolor": "white",
             "startlinecolor": "#2a3f5f"
            },
            "type": "carpet"
           }
          ],
          "choropleth": [
           {
            "colorbar": {
             "outlinewidth": 0,
             "ticks": ""
            },
            "type": "choropleth"
           }
          ],
          "contour": [
           {
            "colorbar": {
             "outlinewidth": 0,
             "ticks": ""
            },
            "colorscale": [
             [
              0,
              "#0d0887"
             ],
             [
              0.1111111111111111,
              "#46039f"
             ],
             [
              0.2222222222222222,
              "#7201a8"
             ],
             [
              0.3333333333333333,
              "#9c179e"
             ],
             [
              0.4444444444444444,
              "#bd3786"
             ],
             [
              0.5555555555555556,
              "#d8576b"
             ],
             [
              0.6666666666666666,
              "#ed7953"
             ],
             [
              0.7777777777777778,
              "#fb9f3a"
             ],
             [
              0.8888888888888888,
              "#fdca26"
             ],
             [
              1,
              "#f0f921"
             ]
            ],
            "type": "contour"
           }
          ],
          "contourcarpet": [
           {
            "colorbar": {
             "outlinewidth": 0,
             "ticks": ""
            },
            "type": "contourcarpet"
           }
          ],
          "heatmap": [
           {
            "colorbar": {
             "outlinewidth": 0,
             "ticks": ""
            },
            "colorscale": [
             [
              0,
              "#0d0887"
             ],
             [
              0.1111111111111111,
              "#46039f"
             ],
             [
              0.2222222222222222,
              "#7201a8"
             ],
             [
              0.3333333333333333,
              "#9c179e"
             ],
             [
              0.4444444444444444,
              "#bd3786"
             ],
             [
              0.5555555555555556,
              "#d8576b"
             ],
             [
              0.6666666666666666,
              "#ed7953"
             ],
             [
              0.7777777777777778,
              "#fb9f3a"
             ],
             [
              0.8888888888888888,
              "#fdca26"
             ],
             [
              1,
              "#f0f921"
             ]
            ],
            "type": "heatmap"
           }
          ],
          "heatmapgl": [
           {
            "colorbar": {
             "outlinewidth": 0,
             "ticks": ""
            },
            "colorscale": [
             [
              0,
              "#0d0887"
             ],
             [
              0.1111111111111111,
              "#46039f"
             ],
             [
              0.2222222222222222,
              "#7201a8"
             ],
             [
              0.3333333333333333,
              "#9c179e"
             ],
             [
              0.4444444444444444,
              "#bd3786"
             ],
             [
              0.5555555555555556,
              "#d8576b"
             ],
             [
              0.6666666666666666,
              "#ed7953"
             ],
             [
              0.7777777777777778,
              "#fb9f3a"
             ],
             [
              0.8888888888888888,
              "#fdca26"
             ],
             [
              1,
              "#f0f921"
             ]
            ],
            "type": "heatmapgl"
           }
          ],
          "histogram": [
           {
            "marker": {
             "colorbar": {
              "outlinewidth": 0,
              "ticks": ""
             }
            },
            "type": "histogram"
           }
          ],
          "histogram2d": [
           {
            "colorbar": {
             "outlinewidth": 0,
             "ticks": ""
            },
            "colorscale": [
             [
              0,
              "#0d0887"
             ],
             [
              0.1111111111111111,
              "#46039f"
             ],
             [
              0.2222222222222222,
              "#7201a8"
             ],
             [
              0.3333333333333333,
              "#9c179e"
             ],
             [
              0.4444444444444444,
              "#bd3786"
             ],
             [
              0.5555555555555556,
              "#d8576b"
             ],
             [
              0.6666666666666666,
              "#ed7953"
             ],
             [
              0.7777777777777778,
              "#fb9f3a"
             ],
             [
              0.8888888888888888,
              "#fdca26"
             ],
             [
              1,
              "#f0f921"
             ]
            ],
            "type": "histogram2d"
           }
          ],
          "histogram2dcontour": [
           {
            "colorbar": {
             "outlinewidth": 0,
             "ticks": ""
            },
            "colorscale": [
             [
              0,
              "#0d0887"
             ],
             [
              0.1111111111111111,
              "#46039f"
             ],
             [
              0.2222222222222222,
              "#7201a8"
             ],
             [
              0.3333333333333333,
              "#9c179e"
             ],
             [
              0.4444444444444444,
              "#bd3786"
             ],
             [
              0.5555555555555556,
              "#d8576b"
             ],
             [
              0.6666666666666666,
              "#ed7953"
             ],
             [
              0.7777777777777778,
              "#fb9f3a"
             ],
             [
              0.8888888888888888,
              "#fdca26"
             ],
             [
              1,
              "#f0f921"
             ]
            ],
            "type": "histogram2dcontour"
           }
          ],
          "mesh3d": [
           {
            "colorbar": {
             "outlinewidth": 0,
             "ticks": ""
            },
            "type": "mesh3d"
           }
          ],
          "parcoords": [
           {
            "line": {
             "colorbar": {
              "outlinewidth": 0,
              "ticks": ""
             }
            },
            "type": "parcoords"
           }
          ],
          "pie": [
           {
            "automargin": true,
            "type": "pie"
           }
          ],
          "scatter": [
           {
            "marker": {
             "colorbar": {
              "outlinewidth": 0,
              "ticks": ""
             }
            },
            "type": "scatter"
           }
          ],
          "scatter3d": [
           {
            "line": {
             "colorbar": {
              "outlinewidth": 0,
              "ticks": ""
             }
            },
            "marker": {
             "colorbar": {
              "outlinewidth": 0,
              "ticks": ""
             }
            },
            "type": "scatter3d"
           }
          ],
          "scattercarpet": [
           {
            "marker": {
             "colorbar": {
              "outlinewidth": 0,
              "ticks": ""
             }
            },
            "type": "scattercarpet"
           }
          ],
          "scattergeo": [
           {
            "marker": {
             "colorbar": {
              "outlinewidth": 0,
              "ticks": ""
             }
            },
            "type": "scattergeo"
           }
          ],
          "scattergl": [
           {
            "marker": {
             "colorbar": {
              "outlinewidth": 0,
              "ticks": ""
             }
            },
            "type": "scattergl"
           }
          ],
          "scattermapbox": [
           {
            "marker": {
             "colorbar": {
              "outlinewidth": 0,
              "ticks": ""
             }
            },
            "type": "scattermapbox"
           }
          ],
          "scatterpolar": [
           {
            "marker": {
             "colorbar": {
              "outlinewidth": 0,
              "ticks": ""
             }
            },
            "type": "scatterpolar"
           }
          ],
          "scatterpolargl": [
           {
            "marker": {
             "colorbar": {
              "outlinewidth": 0,
              "ticks": ""
             }
            },
            "type": "scatterpolargl"
           }
          ],
          "scatterternary": [
           {
            "marker": {
             "colorbar": {
              "outlinewidth": 0,
              "ticks": ""
             }
            },
            "type": "scatterternary"
           }
          ],
          "surface": [
           {
            "colorbar": {
             "outlinewidth": 0,
             "ticks": ""
            },
            "colorscale": [
             [
              0,
              "#0d0887"
             ],
             [
              0.1111111111111111,
              "#46039f"
             ],
             [
              0.2222222222222222,
              "#7201a8"
             ],
             [
              0.3333333333333333,
              "#9c179e"
             ],
             [
              0.4444444444444444,
              "#bd3786"
             ],
             [
              0.5555555555555556,
              "#d8576b"
             ],
             [
              0.6666666666666666,
              "#ed7953"
             ],
             [
              0.7777777777777778,
              "#fb9f3a"
             ],
             [
              0.8888888888888888,
              "#fdca26"
             ],
             [
              1,
              "#f0f921"
             ]
            ],
            "type": "surface"
           }
          ],
          "table": [
           {
            "cells": {
             "fill": {
              "color": "#EBF0F8"
             },
             "line": {
              "color": "white"
             }
            },
            "header": {
             "fill": {
              "color": "#C8D4E3"
             },
             "line": {
              "color": "white"
             }
            },
            "type": "table"
           }
          ]
         },
         "layout": {
          "annotationdefaults": {
           "arrowcolor": "#2a3f5f",
           "arrowhead": 0,
           "arrowwidth": 1
          },
          "autotypenumbers": "strict",
          "coloraxis": {
           "colorbar": {
            "outlinewidth": 0,
            "ticks": ""
           }
          },
          "colorscale": {
           "diverging": [
            [
             0,
             "#8e0152"
            ],
            [
             0.1,
             "#c51b7d"
            ],
            [
             0.2,
             "#de77ae"
            ],
            [
             0.3,
             "#f1b6da"
            ],
            [
             0.4,
             "#fde0ef"
            ],
            [
             0.5,
             "#f7f7f7"
            ],
            [
             0.6,
             "#e6f5d0"
            ],
            [
             0.7,
             "#b8e186"
            ],
            [
             0.8,
             "#7fbc41"
            ],
            [
             0.9,
             "#4d9221"
            ],
            [
             1,
             "#276419"
            ]
           ],
           "sequential": [
            [
             0,
             "#0d0887"
            ],
            [
             0.1111111111111111,
             "#46039f"
            ],
            [
             0.2222222222222222,
             "#7201a8"
            ],
            [
             0.3333333333333333,
             "#9c179e"
            ],
            [
             0.4444444444444444,
             "#bd3786"
            ],
            [
             0.5555555555555556,
             "#d8576b"
            ],
            [
             0.6666666666666666,
             "#ed7953"
            ],
            [
             0.7777777777777778,
             "#fb9f3a"
            ],
            [
             0.8888888888888888,
             "#fdca26"
            ],
            [
             1,
             "#f0f921"
            ]
           ],
           "sequentialminus": [
            [
             0,
             "#0d0887"
            ],
            [
             0.1111111111111111,
             "#46039f"
            ],
            [
             0.2222222222222222,
             "#7201a8"
            ],
            [
             0.3333333333333333,
             "#9c179e"
            ],
            [
             0.4444444444444444,
             "#bd3786"
            ],
            [
             0.5555555555555556,
             "#d8576b"
            ],
            [
             0.6666666666666666,
             "#ed7953"
            ],
            [
             0.7777777777777778,
             "#fb9f3a"
            ],
            [
             0.8888888888888888,
             "#fdca26"
            ],
            [
             1,
             "#f0f921"
            ]
           ]
          },
          "colorway": [
           "#636efa",
           "#EF553B",
           "#00cc96",
           "#ab63fa",
           "#FFA15A",
           "#19d3f3",
           "#FF6692",
           "#B6E880",
           "#FF97FF",
           "#FECB52"
          ],
          "font": {
           "color": "#2a3f5f"
          },
          "geo": {
           "bgcolor": "white",
           "lakecolor": "white",
           "landcolor": "#E5ECF6",
           "showlakes": true,
           "showland": true,
           "subunitcolor": "white"
          },
          "hoverlabel": {
           "align": "left"
          },
          "hovermode": "closest",
          "mapbox": {
           "style": "light"
          },
          "paper_bgcolor": "white",
          "plot_bgcolor": "#E5ECF6",
          "polar": {
           "angularaxis": {
            "gridcolor": "white",
            "linecolor": "white",
            "ticks": ""
           },
           "bgcolor": "#E5ECF6",
           "radialaxis": {
            "gridcolor": "white",
            "linecolor": "white",
            "ticks": ""
           }
          },
          "scene": {
           "xaxis": {
            "backgroundcolor": "#E5ECF6",
            "gridcolor": "white",
            "gridwidth": 2,
            "linecolor": "white",
            "showbackground": true,
            "ticks": "",
            "zerolinecolor": "white"
           },
           "yaxis": {
            "backgroundcolor": "#E5ECF6",
            "gridcolor": "white",
            "gridwidth": 2,
            "linecolor": "white",
            "showbackground": true,
            "ticks": "",
            "zerolinecolor": "white"
           },
           "zaxis": {
            "backgroundcolor": "#E5ECF6",
            "gridcolor": "white",
            "gridwidth": 2,
            "linecolor": "white",
            "showbackground": true,
            "ticks": "",
            "zerolinecolor": "white"
           }
          },
          "shapedefaults": {
           "line": {
            "color": "#2a3f5f"
           }
          },
          "ternary": {
           "aaxis": {
            "gridcolor": "white",
            "linecolor": "white",
            "ticks": ""
           },
           "baxis": {
            "gridcolor": "white",
            "linecolor": "white",
            "ticks": ""
           },
           "bgcolor": "#E5ECF6",
           "caxis": {
            "gridcolor": "white",
            "linecolor": "white",
            "ticks": ""
           }
          },
          "title": {
           "x": 0.05
          },
          "xaxis": {
           "automargin": true,
           "gridcolor": "white",
           "linecolor": "white",
           "ticks": "",
           "title": {
            "standoff": 15
           },
           "zerolinecolor": "white",
           "zerolinewidth": 2
          },
          "yaxis": {
           "automargin": true,
           "gridcolor": "white",
           "linecolor": "white",
           "ticks": "",
           "title": {
            "standoff": 15
           },
           "zerolinecolor": "white",
           "zerolinewidth": 2
          }
         }
        },
        "xaxis": {
         "anchor": "y",
         "domain": [
          0,
          1
         ],
         "title": {
          "text": "Sample"
         }
        },
        "yaxis": {
         "anchor": "x",
         "domain": [
          0,
          1
         ],
         "title": {
          "text": "Alpha_Max/DNA_Max"
         }
        }
       }
      },
      "text/html": [
       "<div>                            <div id=\"e8e272c0-ae53-4fdd-8ebd-39b397e5e88a\" class=\"plotly-graph-div\" style=\"height:525px; width:100%;\"></div>            <script type=\"text/javascript\">                require([\"plotly\"], function(Plotly) {                    window.PLOTLYENV=window.PLOTLYENV || {};                                    if (document.getElementById(\"e8e272c0-ae53-4fdd-8ebd-39b397e5e88a\")) {                    Plotly.newPlot(                        \"e8e272c0-ae53-4fdd-8ebd-39b397e5e88a\",                        [{\"hovertemplate\": \"Plate=P1<br>Sample=%{x}<br>Alpha_Max/DNA_Max=%{y}<extra></extra>\", \"legendgroup\": \"P1\", \"marker\": {\"color\": \"#636efa\", \"symbol\": \"circle\"}, \"mode\": \"markers\", \"name\": \"P1\", \"orientation\": \"v\", \"showlegend\": true, \"type\": \"scatter\", \"x\": [\"P1-A01\", \"P1-A02\", \"P1-A03\", \"P1-A04\", \"P1-A05\", \"P1-A06\", \"P1-A07\", \"P1-A08\", \"P1-A09\", \"P1-A10\", \"P1-A11\", \"P1-A12\"], \"xaxis\": \"x\", \"y\": [0.02236110619312347, 0.02709147939672582, 0.02909221266269578, 0.9856714051084555, 0.7712886011544534, 0.8743257358603499, 1.126884115043046, 1.16440666710937, 1.324897837230026, 3.281880370911314, 3.090330952922838, 2.210378214826021], \"yaxis\": \"y\"}, {\"hovertemplate\": \"Plate=P2<br>Sample=%{x}<br>Alpha_Max/DNA_Max=%{y}<extra></extra>\", \"legendgroup\": \"P2\", \"marker\": {\"color\": \"#EF553B\", \"symbol\": \"circle\"}, \"mode\": \"markers\", \"name\": \"P2\", \"orientation\": \"v\", \"showlegend\": true, \"type\": \"scatter\", \"x\": [\"P2-A01\", \"P2-A02\", \"P2-A03\", \"P2-A04\", \"P2-A05\", \"P2-A06\", \"P2-A07\", \"P2-A08\", \"P2-A09\", \"P2-A10\", \"P2-A11\", \"P2-A12\"], \"xaxis\": \"x\", \"y\": [0.03098483394125552, 0.01665123236928337, 0.0263533361309274, 0.9585646873470871, 0.9461075648551142, 1.501810439837029, 1.147468468182506, 1.225124690325807, 1.300128439126614, 3.936813525854622, 3.38486042437927, 0.8808656674604286], \"yaxis\": \"y\"}, {\"hovertemplate\": \"Plate=P3<br>Sample=%{x}<br>Alpha_Max/DNA_Max=%{y}<extra></extra>\", \"legendgroup\": \"P3\", \"marker\": {\"color\": \"#00cc96\", \"symbol\": \"circle\"}, \"mode\": \"markers\", \"name\": \"P3\", \"orientation\": \"v\", \"showlegend\": true, \"type\": \"scatter\", \"x\": [\"P3-A01\", \"P3-A02\", \"P3-A03\", \"P3-A04\", \"P3-A05\", \"P3-A06\", \"P3-A07\", \"P3-A08\", \"P3-A09\", \"P3-A10\", \"P3-A11\", \"P3-A12\"], \"xaxis\": \"x\", \"y\": [0.006052141527001861, 0.0218144750254842, 0.02951028337911168, 1.034504293358351, 0.6947640249332144, 1.300874807509584, 1.063936772710745, 1.128661916072842, 1.436052897070835, 3.372123006224026, 3.016184392715113, 2.084918221418591], \"yaxis\": \"y\"}, {\"hovertemplate\": \"Plate=P4<br>Sample=%{x}<br>Alpha_Max/DNA_Max=%{y}<extra></extra>\", \"legendgroup\": \"P4\", \"marker\": {\"color\": \"#ab63fa\", \"symbol\": \"circle\"}, \"mode\": \"markers\", \"name\": \"P4\", \"orientation\": \"v\", \"showlegend\": true, \"type\": \"scatter\", \"x\": [\"P4-A01\", \"P4-A02\", \"P4-A03\", \"P4-A04\", \"P4-A05\", \"P4-A06\", \"P4-A07\", \"P4-A08\", \"P4-A09\", \"P4-A10\", \"P4-A11\", \"P4-A12\"], \"xaxis\": \"x\", \"y\": [0.03942589244283726, 0.02605345724611779, 0.04503451347138722, 1.08503881793138, 1.390247926764059, 1.200091603053435, 1.230640668523677, 1.079425572206516, 1.272000179897767, 2.791233235197906, 2.550979315394472, 2.493473880018602], \"yaxis\": \"y\"}, {\"hovertemplate\": \"Plate=P5<br>Sample=%{x}<br>Alpha_Max/DNA_Max=%{y}<extra></extra>\", \"legendgroup\": \"P5\", \"marker\": {\"color\": \"#FFA15A\", \"symbol\": \"circle\"}, \"mode\": \"markers\", \"name\": \"P5\", \"orientation\": \"v\", \"showlegend\": true, \"type\": \"scatter\", \"x\": [\"P5-A01\", \"P5-A02\", \"P5-A03\", \"P5-A04\", \"P5-A05\", \"P5-A06\", \"P5-A07\", \"P5-A08\", \"P5-A09\", \"P5-A10\", \"P5-A11\", \"P5-A12\"], \"xaxis\": \"x\", \"y\": [0.029458572866933, 0.01525139380793411, 0.04975471275244665, 0.8993041477179331, 1.53665600675798, 1.266386148858384, 1.238424326192122, 1.068577860363332, 1.364649263526323, 2.965331010452962, 3.210029704700331, 3.594125632481797], \"yaxis\": \"y\"}, {\"hovertemplate\": \"Plate=P6<br>Sample=%{x}<br>Alpha_Max/DNA_Max=%{y}<extra></extra>\", \"legendgroup\": \"P6\", \"marker\": {\"color\": \"#19d3f3\", \"symbol\": \"circle\"}, \"mode\": \"markers\", \"name\": \"P6\", \"orientation\": \"v\", \"showlegend\": true, \"type\": \"scatter\", \"x\": [\"P6-A01\", \"P6-A02\", \"P6-A03\", \"P6-A04\", \"P6-A05\", \"P6-A06\", \"P6-A07\", \"P6-A08\", \"P6-A09\", \"P6-A10\", \"P6-A11\", \"P6-A12\"], \"xaxis\": \"x\", \"y\": [0.02048301814890678, 0.01188105668392407, 0.03759052764685596, 0.8199392606555659, 1.125083328924396, 1.397816183382746, 1.337578245944672, 1.157435834459045, 1.370082449941107, 3.337406037465696, 1.284289953370072, 2.686163813049514], \"yaxis\": \"y\"}],                        {\"legend\": {\"title\": {\"text\": \"Plate\"}, \"tracegroupgap\": 0}, \"margin\": {\"t\": 60}, \"template\": {\"data\": {\"bar\": [{\"error_x\": {\"color\": \"#2a3f5f\"}, \"error_y\": {\"color\": \"#2a3f5f\"}, \"marker\": {\"line\": {\"color\": \"#E5ECF6\", \"width\": 0.5}}, \"type\": \"bar\"}], \"barpolar\": [{\"marker\": {\"line\": {\"color\": \"#E5ECF6\", \"width\": 0.5}}, \"type\": \"barpolar\"}], \"carpet\": [{\"aaxis\": {\"endlinecolor\": \"#2a3f5f\", \"gridcolor\": \"white\", \"linecolor\": \"white\", \"minorgridcolor\": \"white\", \"startlinecolor\": \"#2a3f5f\"}, \"baxis\": {\"endlinecolor\": \"#2a3f5f\", \"gridcolor\": \"white\", \"linecolor\": \"white\", \"minorgridcolor\": \"white\", \"startlinecolor\": \"#2a3f5f\"}, \"type\": \"carpet\"}], \"choropleth\": [{\"colorbar\": {\"outlinewidth\": 0, \"ticks\": \"\"}, \"type\": \"choropleth\"}], \"contour\": [{\"colorbar\": {\"outlinewidth\": 0, \"ticks\": \"\"}, \"colorscale\": [[0.0, \"#0d0887\"], [0.1111111111111111, \"#46039f\"], [0.2222222222222222, \"#7201a8\"], [0.3333333333333333, \"#9c179e\"], [0.4444444444444444, \"#bd3786\"], [0.5555555555555556, \"#d8576b\"], [0.6666666666666666, \"#ed7953\"], [0.7777777777777778, \"#fb9f3a\"], [0.8888888888888888, \"#fdca26\"], [1.0, \"#f0f921\"]], \"type\": \"contour\"}], \"contourcarpet\": [{\"colorbar\": {\"outlinewidth\": 0, \"ticks\": \"\"}, \"type\": \"contourcarpet\"}], \"heatmap\": [{\"colorbar\": {\"outlinewidth\": 0, \"ticks\": \"\"}, \"colorscale\": [[0.0, \"#0d0887\"], [0.1111111111111111, \"#46039f\"], [0.2222222222222222, \"#7201a8\"], [0.3333333333333333, \"#9c179e\"], [0.4444444444444444, \"#bd3786\"], [0.5555555555555556, \"#d8576b\"], [0.6666666666666666, \"#ed7953\"], [0.7777777777777778, \"#fb9f3a\"], [0.8888888888888888, \"#fdca26\"], [1.0, \"#f0f921\"]], \"type\": \"heatmap\"}], \"heatmapgl\": [{\"colorbar\": {\"outlinewidth\": 0, \"ticks\": \"\"}, \"colorscale\": [[0.0, \"#0d0887\"], [0.1111111111111111, \"#46039f\"], [0.2222222222222222, \"#7201a8\"], [0.3333333333333333, \"#9c179e\"], [0.4444444444444444, \"#bd3786\"], [0.5555555555555556, \"#d8576b\"], [0.6666666666666666, \"#ed7953\"], [0.7777777777777778, \"#fb9f3a\"], [0.8888888888888888, \"#fdca26\"], [1.0, \"#f0f921\"]], \"type\": \"heatmapgl\"}], \"histogram\": [{\"marker\": {\"colorbar\": {\"outlinewidth\": 0, \"ticks\": \"\"}}, \"type\": \"histogram\"}], \"histogram2d\": [{\"colorbar\": {\"outlinewidth\": 0, \"ticks\": \"\"}, \"colorscale\": [[0.0, \"#0d0887\"], [0.1111111111111111, \"#46039f\"], [0.2222222222222222, \"#7201a8\"], [0.3333333333333333, \"#9c179e\"], [0.4444444444444444, \"#bd3786\"], [0.5555555555555556, \"#d8576b\"], [0.6666666666666666, \"#ed7953\"], [0.7777777777777778, \"#fb9f3a\"], [0.8888888888888888, \"#fdca26\"], [1.0, \"#f0f921\"]], \"type\": \"histogram2d\"}], \"histogram2dcontour\": [{\"colorbar\": {\"outlinewidth\": 0, \"ticks\": \"\"}, \"colorscale\": [[0.0, \"#0d0887\"], [0.1111111111111111, \"#46039f\"], [0.2222222222222222, \"#7201a8\"], [0.3333333333333333, \"#9c179e\"], [0.4444444444444444, \"#bd3786\"], [0.5555555555555556, \"#d8576b\"], [0.6666666666666666, \"#ed7953\"], [0.7777777777777778, \"#fb9f3a\"], [0.8888888888888888, \"#fdca26\"], [1.0, \"#f0f921\"]], \"type\": \"histogram2dcontour\"}], \"mesh3d\": [{\"colorbar\": {\"outlinewidth\": 0, \"ticks\": \"\"}, \"type\": \"mesh3d\"}], \"parcoords\": [{\"line\": {\"colorbar\": {\"outlinewidth\": 0, \"ticks\": \"\"}}, \"type\": \"parcoords\"}], \"pie\": [{\"automargin\": true, \"type\": \"pie\"}], \"scatter\": [{\"marker\": {\"colorbar\": {\"outlinewidth\": 0, \"ticks\": \"\"}}, \"type\": \"scatter\"}], \"scatter3d\": [{\"line\": {\"colorbar\": {\"outlinewidth\": 0, \"ticks\": \"\"}}, \"marker\": {\"colorbar\": {\"outlinewidth\": 0, \"ticks\": \"\"}}, \"type\": \"scatter3d\"}], \"scattercarpet\": [{\"marker\": {\"colorbar\": {\"outlinewidth\": 0, \"ticks\": \"\"}}, \"type\": \"scattercarpet\"}], \"scattergeo\": [{\"marker\": {\"colorbar\": {\"outlinewidth\": 0, \"ticks\": \"\"}}, \"type\": \"scattergeo\"}], \"scattergl\": [{\"marker\": {\"colorbar\": {\"outlinewidth\": 0, \"ticks\": \"\"}}, \"type\": \"scattergl\"}], \"scattermapbox\": [{\"marker\": {\"colorbar\": {\"outlinewidth\": 0, \"ticks\": \"\"}}, \"type\": \"scattermapbox\"}], \"scatterpolar\": [{\"marker\": {\"colorbar\": {\"outlinewidth\": 0, \"ticks\": \"\"}}, \"type\": \"scatterpolar\"}], \"scatterpolargl\": [{\"marker\": {\"colorbar\": {\"outlinewidth\": 0, \"ticks\": \"\"}}, \"type\": \"scatterpolargl\"}], \"scatterternary\": [{\"marker\": {\"colorbar\": {\"outlinewidth\": 0, \"ticks\": \"\"}}, \"type\": \"scatterternary\"}], \"surface\": [{\"colorbar\": {\"outlinewidth\": 0, \"ticks\": \"\"}, \"colorscale\": [[0.0, \"#0d0887\"], [0.1111111111111111, \"#46039f\"], [0.2222222222222222, \"#7201a8\"], [0.3333333333333333, \"#9c179e\"], [0.4444444444444444, \"#bd3786\"], [0.5555555555555556, \"#d8576b\"], [0.6666666666666666, \"#ed7953\"], [0.7777777777777778, \"#fb9f3a\"], [0.8888888888888888, \"#fdca26\"], [1.0, \"#f0f921\"]], \"type\": \"surface\"}], \"table\": [{\"cells\": {\"fill\": {\"color\": \"#EBF0F8\"}, \"line\": {\"color\": \"white\"}}, \"header\": {\"fill\": {\"color\": \"#C8D4E3\"}, \"line\": {\"color\": \"white\"}}, \"type\": \"table\"}]}, \"layout\": {\"annotationdefaults\": {\"arrowcolor\": \"#2a3f5f\", \"arrowhead\": 0, \"arrowwidth\": 1}, \"autotypenumbers\": \"strict\", \"coloraxis\": {\"colorbar\": {\"outlinewidth\": 0, \"ticks\": \"\"}}, \"colorscale\": {\"diverging\": [[0, \"#8e0152\"], [0.1, \"#c51b7d\"], [0.2, \"#de77ae\"], [0.3, \"#f1b6da\"], [0.4, \"#fde0ef\"], [0.5, \"#f7f7f7\"], [0.6, \"#e6f5d0\"], [0.7, \"#b8e186\"], [0.8, \"#7fbc41\"], [0.9, \"#4d9221\"], [1, \"#276419\"]], \"sequential\": [[0.0, \"#0d0887\"], [0.1111111111111111, \"#46039f\"], [0.2222222222222222, \"#7201a8\"], [0.3333333333333333, \"#9c179e\"], [0.4444444444444444, \"#bd3786\"], [0.5555555555555556, \"#d8576b\"], [0.6666666666666666, \"#ed7953\"], [0.7777777777777778, \"#fb9f3a\"], [0.8888888888888888, \"#fdca26\"], [1.0, \"#f0f921\"]], \"sequentialminus\": [[0.0, \"#0d0887\"], [0.1111111111111111, \"#46039f\"], [0.2222222222222222, \"#7201a8\"], [0.3333333333333333, \"#9c179e\"], [0.4444444444444444, \"#bd3786\"], [0.5555555555555556, \"#d8576b\"], [0.6666666666666666, \"#ed7953\"], [0.7777777777777778, \"#fb9f3a\"], [0.8888888888888888, \"#fdca26\"], [1.0, \"#f0f921\"]]}, \"colorway\": [\"#636efa\", \"#EF553B\", \"#00cc96\", \"#ab63fa\", \"#FFA15A\", \"#19d3f3\", \"#FF6692\", \"#B6E880\", \"#FF97FF\", \"#FECB52\"], \"font\": {\"color\": \"#2a3f5f\"}, \"geo\": {\"bgcolor\": \"white\", \"lakecolor\": \"white\", \"landcolor\": \"#E5ECF6\", \"showlakes\": true, \"showland\": true, \"subunitcolor\": \"white\"}, \"hoverlabel\": {\"align\": \"left\"}, \"hovermode\": \"closest\", \"mapbox\": {\"style\": \"light\"}, \"paper_bgcolor\": \"white\", \"plot_bgcolor\": \"#E5ECF6\", \"polar\": {\"angularaxis\": {\"gridcolor\": \"white\", \"linecolor\": \"white\", \"ticks\": \"\"}, \"bgcolor\": \"#E5ECF6\", \"radialaxis\": {\"gridcolor\": \"white\", \"linecolor\": \"white\", \"ticks\": \"\"}}, \"scene\": {\"xaxis\": {\"backgroundcolor\": \"#E5ECF6\", \"gridcolor\": \"white\", \"gridwidth\": 2, \"linecolor\": \"white\", \"showbackground\": true, \"ticks\": \"\", \"zerolinecolor\": \"white\"}, \"yaxis\": {\"backgroundcolor\": \"#E5ECF6\", \"gridcolor\": \"white\", \"gridwidth\": 2, \"linecolor\": \"white\", \"showbackground\": true, \"ticks\": \"\", \"zerolinecolor\": \"white\"}, \"zaxis\": {\"backgroundcolor\": \"#E5ECF6\", \"gridcolor\": \"white\", \"gridwidth\": 2, \"linecolor\": \"white\", \"showbackground\": true, \"ticks\": \"\", \"zerolinecolor\": \"white\"}}, \"shapedefaults\": {\"line\": {\"color\": \"#2a3f5f\"}}, \"ternary\": {\"aaxis\": {\"gridcolor\": \"white\", \"linecolor\": \"white\", \"ticks\": \"\"}, \"baxis\": {\"gridcolor\": \"white\", \"linecolor\": \"white\", \"ticks\": \"\"}, \"bgcolor\": \"#E5ECF6\", \"caxis\": {\"gridcolor\": \"white\", \"linecolor\": \"white\", \"ticks\": \"\"}}, \"title\": {\"x\": 0.05}, \"xaxis\": {\"automargin\": true, \"gridcolor\": \"white\", \"linecolor\": \"white\", \"ticks\": \"\", \"title\": {\"standoff\": 15}, \"zerolinecolor\": \"white\", \"zerolinewidth\": 2}, \"yaxis\": {\"automargin\": true, \"gridcolor\": \"white\", \"linecolor\": \"white\", \"ticks\": \"\", \"title\": {\"standoff\": 15}, \"zerolinecolor\": \"white\", \"zerolinewidth\": 2}}}, \"xaxis\": {\"anchor\": \"y\", \"domain\": [0.0, 1.0], \"title\": {\"text\": \"Sample\"}}, \"yaxis\": {\"anchor\": \"x\", \"domain\": [0.0, 1.0], \"title\": {\"text\": \"Alpha_Max/DNA_Max\"}}},                        {\"responsive\": true}                    ).then(function(){\n",
       "                            \n",
       "var gd = document.getElementById('e8e272c0-ae53-4fdd-8ebd-39b397e5e88a');\n",
       "var x = new MutationObserver(function (mutations, observer) {{\n",
       "        var display = window.getComputedStyle(gd).display;\n",
       "        if (!display || display === 'none') {{\n",
       "            console.log([gd, 'removed!']);\n",
       "            Plotly.purge(gd);\n",
       "            observer.disconnect();\n",
       "        }}\n",
       "}});\n",
       "\n",
       "// Listen for the removal of the full notebook cells\n",
       "var notebookContainer = gd.closest('#notebook-container');\n",
       "if (notebookContainer) {{\n",
       "    x.observe(notebookContainer, {childList: true});\n",
       "}}\n",
       "\n",
       "// Listen for the clearing of the current output cell\n",
       "var outputEl = gd.closest('.output');\n",
       "if (outputEl) {{\n",
       "    x.observe(outputEl, {childList: true});\n",
       "}}\n",
       "\n",
       "                        })                };                });            </script>        </div>"
      ]
     },
     "metadata": {},
     "output_type": "display_data"
    }
   ],
   "source": [
    "y = maxes[\"Alpha_Max\"]\n",
    "x = maxes[\"Sample\"]\n",
    "y2 = maxes[\"Alpha_Max/DNA_Max\"]\n",
    "\n",
    "# ax1 = plt.gca()\n",
    "# ax2 = ax1.twinx()\n",
    "ax1 = px.scatter(maxes, x=x, y=y, color = \"Plate\")\n",
    "ax2 = px.scatter(maxes, x=x, y=y2, color = \"Plate\")\n",
    "\n",
    "ax1.show()\n",
    "ax2.show()"
   ]
  },
  {
   "cell_type": "code",
   "execution_count": 182,
   "metadata": {},
   "outputs": [],
   "source": [
    "calcs_df.drop(\"Plate\", axis=1, inplace=True)\n",
    "calcs_df.insert(0, \"Plate\", calcs_df[\"Sample\"].apply(lambda x: x.split(\"-\")[0]))"
   ]
  },
  {
   "cell_type": "code",
   "execution_count": 186,
   "metadata": {},
   "outputs": [
    {
     "data": {
      "application/vnd.plotly.v1+json": {
       "config": {
        "plotlyServerURL": "https://plot.ly"
       },
       "data": [
        {
         "hovertemplate": "Plate=P1<br>Sample=%{x}<br>Alpha_Max=%{y}<extra></extra>",
         "legendgroup": "P1",
         "marker": {
          "color": "#636efa",
          "symbol": "circle"
         },
         "mode": "markers",
         "name": "P1",
         "orientation": "v",
         "showlegend": true,
         "type": "scatter",
         "x": [
          "P1-A01",
          "P1-A02",
          "P1-A03",
          "P1-A04",
          "P1-A05",
          "P1-A06",
          "P1-A07",
          "P1-A08",
          "P1-A09",
          "P1-A10",
          "P1-A11",
          "P1-A12",
          "P1-B01",
          "P1-B02",
          "P1-B03",
          "P1-B04",
          "P1-B05",
          "P1-B06",
          "P1-B07",
          "P1-B08",
          "P1-B09",
          "P1-B10",
          "P1-B11",
          "P1-B12",
          "P1-C01",
          "P1-C02",
          "P1-C03",
          "P1-C04",
          "P1-C05",
          "P1-C06",
          "P1-C07",
          "P1-C08",
          "P1-C09",
          "P1-C10",
          "P1-C11",
          "P1-C12",
          "P1-D01",
          "P1-D02",
          "P1-D03",
          "P1-D04",
          "P1-D05",
          "P1-D06",
          "P1-D07",
          "P1-D08",
          "P1-D09",
          "P1-D10",
          "P1-D11",
          "P1-D12"
         ],
         "xaxis": "x",
         "y": [
          214067.7966101695,
          213728.813559322,
          178813.5593220339,
          2949830.508474576,
          2370862.723819859,
          2605046.120455778,
          2813084.745762712,
          2972000,
          2662915.254237288,
          4309627.118644067,
          4632813.559322034,
          4952745.762711864,
          3879.544221378187,
          9830.50847457627,
          2508.474576271186,
          2847.457627118644,
          11525.42372881356,
          1465.002712967987,
          292.96875,
          5152.542372881356,
          7966.101694915254,
          11864.40677966102,
          1694.915254237288,
          881.3559322033898,
          149322.0338983051,
          161186.4406779661,
          189830.5084745763,
          4344677.966101695,
          3563728.813559322,
          3901423.728813559,
          4156135.593220339,
          4507593.220338983,
          3579389.830508474,
          6270440.677966101,
          8234745.762711865,
          5867457.627118644,
          1557243.62452523,
          395117.1874999999,
          167083.3333333333,
          66800,
          27457.62711864407,
          8610.169491525423,
          1695638.020833333,
          515980.9027777778,
          143124.3055555556,
          67388.19444444445,
          20847.45762711865,
          13220.33898305085
         ],
         "yaxis": "y"
        },
        {
         "hovertemplate": "Plate=P2<br>Sample=%{x}<br>Alpha_Max=%{y}<extra></extra>",
         "legendgroup": "P2",
         "marker": {
          "color": "#EF553B",
          "symbol": "circle"
         },
         "mode": "markers",
         "name": "P2",
         "orientation": "v",
         "showlegend": true,
         "type": "scatter",
         "x": [
          "P2-A01",
          "P2-A02",
          "P2-A03",
          "P2-A04",
          "P2-A05",
          "P2-A06",
          "P2-A07",
          "P2-A08",
          "P2-A09",
          "P2-A10",
          "P2-A11",
          "P2-A12",
          "P2-B01",
          "P2-B02",
          "P2-B03",
          "P2-B04",
          "P2-B05",
          "P2-B06",
          "P2-B07",
          "P2-B08",
          "P2-B09",
          "P2-B10",
          "P2-B11",
          "P2-B12",
          "P2-C01",
          "P2-C02",
          "P2-C03",
          "P2-C04",
          "P2-C05",
          "P2-C06",
          "P2-C07",
          "P2-C08",
          "P2-C09",
          "P2-C10",
          "P2-C11",
          "P2-C12",
          "P2-D01",
          "P2-D02",
          "P2-D03",
          "P2-D04",
          "P2-D05",
          "P2-D06",
          "P2-D07",
          "P2-D08",
          "P2-D09",
          "P2-D10",
          "P2-D11",
          "P2-D12"
         ],
         "xaxis": "x",
         "y": [
          273559.3220338983,
          158474.5762711864,
          191593.220338983,
          2780032.555615843,
          2992105.263157894,
          2970835.594139989,
          2972137.818773738,
          3267552.902875746,
          3259796.610169491,
          4325423.728813559,
          4630169.491525424,
          4263389.830508474,
          30338.98305084746,
          13728.81355932203,
          22542.37288135593,
          10677.96610169492,
          8067.796610169491,
          13220.33898305085,
          68135.59322033898,
          2468.800868149755,
          0,
          14745.76271186441,
          5559.322033898305,
          24915.25423728814,
          51186.4406779661,
          111525.4237288136,
          118135.593220339,
          4656338.983050847,
          4868135.593220338,
          4123050.847457627,
          4335525.423728813,
          4878983.050847458,
          4042644.06779661,
          6807118.644067797,
          8879830.508474577,
          6657966.101694915,
          1562261.284722222,
          576248.2638888889,
          151675.3472222222,
          57220.33898305085,
          55932.20338983051,
          16203.38983050847,
          1872949.21875,
          633789.0624999999,
          289152.5423728814,
          50548.61111111111,
          30847.45762711865,
          11016.94915254237
         ],
         "yaxis": "y"
        },
        {
         "hovertemplate": "Plate=P3<br>Sample=%{x}<br>Alpha_Max=%{y}<extra></extra>",
         "legendgroup": "P3",
         "marker": {
          "color": "#00cc96",
          "symbol": "circle"
         },
         "mode": "markers",
         "name": "P3",
         "orientation": "v",
         "showlegend": true,
         "type": "scatter",
         "x": [
          "P3-A01",
          "P3-A02",
          "P3-A03",
          "P3-A04",
          "P3-A05",
          "P3-A06",
          "P3-A07",
          "P3-A08",
          "P3-A09",
          "P3-A10",
          "P3-A11",
          "P3-A12",
          "P3-B01",
          "P3-B02",
          "P3-B03",
          "P3-B04",
          "P3-B05",
          "P3-B06",
          "P3-B07",
          "P3-B08",
          "P3-B09",
          "P3-B10",
          "P3-B11",
          "P3-B12",
          "P3-C01",
          "P3-C02",
          "P3-C03",
          "P3-C04",
          "P3-C05",
          "P3-C06",
          "P3-C07",
          "P3-C08",
          "P3-C09",
          "P3-C10",
          "P3-C11",
          "P3-C12",
          "P3-D01",
          "P3-D02",
          "P3-D03",
          "P3-D04",
          "P3-D05",
          "P3-D06",
          "P3-D07",
          "P3-D08",
          "P3-D09",
          "P3-D10",
          "P3-D11",
          "P3-D12"
         ],
         "xaxis": "x",
         "y": [
          70508.47457627118,
          163220.3389830508,
          149322.0338983051,
          2927997.82962561,
          2644813.559322034,
          2691796.610169491,
          2669940.314704286,
          2899322.033898305,
          3030412.37113402,
          4240677.966101695,
          4449322.033898305,
          4299525.423728813,
          10508.47457627119,
          2542.372881355932,
          18474.57627118644,
          399.3055555555555,
          5152.542372881356,
          12372.8813559322,
          5593.220338983051,
          7999.999999999999,
          4237.28813559322,
          58305.08474576271,
          1437.873033098209,
          3118.64406779661,
          77966.10169491525,
          153220.3389830508,
          177796.6101694915,
          3227322.033898305,
          3837355.93220339,
          3890305.084745762,
          3712677.966101695,
          4884542.372881356,
          3738508.474576271,
          6283898.305084746,
          8511694.915254237,
          6154644.067796609,
          1508344.184027778,
          470064.2361111111,
          139811.8055555556,
          57734.72222222223,
          14487.2490504612,
          27118.64406779661,
          1609993.489583333,
          507986.1111111111,
          182270.1388888889,
          56510.41666666667,
          13456.32121540966,
          15254.23728813559
         ],
         "yaxis": "y"
        },
        {
         "hovertemplate": "Plate=P4<br>Sample=%{x}<br>Alpha_Max=%{y}<extra></extra>",
         "legendgroup": "P4",
         "marker": {
          "color": "#ab63fa",
          "symbol": "circle"
         },
         "mode": "markers",
         "name": "P4",
         "orientation": "v",
         "showlegend": true,
         "type": "scatter",
         "x": [
          "P4-A01",
          "P4-A02",
          "P4-A03",
          "P4-A04",
          "P4-A05",
          "P4-A06",
          "P4-A07",
          "P4-A08",
          "P4-A09",
          "P4-A10",
          "P4-A11",
          "P4-A12",
          "P4-B01",
          "P4-B02",
          "P4-B03",
          "P4-B04",
          "P4-B05",
          "P4-B06",
          "P4-B07",
          "P4-B08",
          "P4-B09",
          "P4-B10",
          "P4-B11",
          "P4-B12",
          "P4-C01",
          "P4-C02",
          "P4-C03",
          "P4-C04",
          "P4-C05",
          "P4-C06",
          "P4-C07",
          "P4-C08",
          "P4-C09",
          "P4-C10",
          "P4-C11",
          "P4-C12",
          "P4-D01",
          "P4-D02",
          "P4-D03",
          "P4-D04",
          "P4-D05",
          "P4-D06",
          "P4-D07",
          "P4-D08",
          "P4-D09",
          "P4-D10",
          "P4-D11",
          "P4-D12"
         ],
         "xaxis": "x",
         "y": [
          417627.1186440678,
          222372.8813559322,
          274237.2881355932,
          3671661.016949152,
          2982847.457627119,
          2664610.169491525,
          3444542.372881356,
          2781966.101694915,
          2944357.026587086,
          4338711.864406779,
          4724067.79661017,
          5452677.966101695,
          30677.96610169492,
          15762.34400434075,
          12711.86440677966,
          28983.05084745763,
          47966.10169491525,
          1817.688551275095,
          6372.881355932203,
          4745.762711864407,
          5932.203389830509,
          4745.762711864407,
          2440.677966101695,
          5355.93220338983,
          251694.9152542373,
          414745.7627118644,
          54576.27118644068,
          3964067.796610169,
          5230779.661016949,
          4338508.474576271,
          4415661.016949153,
          4606169.491525424,
          3989559.322033898,
          6542033.898305085,
          9281694.915254237,
          6938983.050847457,
          1468502.604166667,
          539046.875,
          127059.0277777778,
          51547.22222222223,
          27966.10169491525,
          21084.74576271186,
          1384965.277777778,
          421349.8263888889,
          140102.7777777778,
          51894.44444444445,
          35423.72881355933,
          26271.18644067797
         ],
         "yaxis": "y"
        },
        {
         "hovertemplate": "Plate=P5<br>Sample=%{x}<br>Alpha_Max=%{y}<extra></extra>",
         "legendgroup": "P5",
         "marker": {
          "color": "#FFA15A",
          "symbol": "circle"
         },
         "mode": "markers",
         "name": "P5",
         "orientation": "v",
         "showlegend": true,
         "type": "scatter",
         "x": [
          "P5-A01",
          "P5-A02",
          "P5-A03",
          "P5-A04",
          "P5-A05",
          "P5-A06",
          "P5-A07",
          "P5-A08",
          "P5-A09",
          "P5-A10",
          "P5-A11",
          "P5-A12",
          "P5-B01",
          "P5-B02",
          "P5-B03",
          "P5-B04",
          "P5-B05",
          "P5-B06",
          "P5-B07",
          "P5-B08",
          "P5-B09",
          "P5-B10",
          "P5-B11",
          "P5-B12",
          "P5-C01",
          "P5-C02",
          "P5-C03",
          "P5-C04",
          "P5-C05",
          "P5-C06",
          "P5-C07",
          "P5-C08",
          "P5-C09",
          "P5-C10",
          "P5-C11",
          "P5-C12",
          "P5-D01",
          "P5-D02",
          "P5-D03",
          "P5-D04",
          "P5-D05",
          "P5-D06",
          "P5-D07",
          "P5-D08",
          "P5-D09",
          "P5-D10",
          "P5-D11",
          "P5-D12"
         ],
         "xaxis": "x",
         "y": [
          307457.6271186441,
          152542.3728813559,
          338644.0677966102,
          2781898.305084745,
          3453152.542372881,
          3111661.016949152,
          3341016.949152542,
          3081307.650569723,
          3172000,
          4615864.406779661,
          4981966.101694915,
          4936135.593220338,
          10169.49152542373,
          4067.796610169491,
          48813.5593220339,
          314.6701388888889,
          7661.016949152542,
          27966.10169491525,
          895.2794357026586,
          7796.610169491525,
          14576.27118644068,
          2881.35593220339,
          672.7430555555557,
          4881.35593220339,
          296101.6949152543,
          383728.813559322,
          400271.186440678,
          4389694.915254237,
          4923796.610169491,
          4471322.033898305,
          4424067.796610169,
          5286983.050847458,
          4267796.610169491,
          6850237.288135593,
          8519661.016949153,
          6932711.864406779,
          1512467.447916667,
          506671.8750000001,
          151694.9152542373,
          70508.47457627118,
          43050.84745762712,
          10872.39583333333,
          1416966.145833333,
          481100.6944444445,
          140439.5833333333,
          50920.13888888889,
          53220.33898305085,
          59491.52542372882
         ],
         "yaxis": "y"
        },
        {
         "hovertemplate": "Plate=P6<br>Sample=%{x}<br>Alpha_Max=%{y}<extra></extra>",
         "legendgroup": "P6",
         "marker": {
          "color": "#19d3f3",
          "symbol": "circle"
         },
         "mode": "markers",
         "name": "P6",
         "orientation": "v",
         "showlegend": true,
         "type": "scatter",
         "x": [
          "P6-A01",
          "P6-A02",
          "P6-A03",
          "P6-A04",
          "P6-A05",
          "P6-A06",
          "P6-A07",
          "P6-A08",
          "P6-A09",
          "P6-A10",
          "P6-A11",
          "P6-A12",
          "P6-B01",
          "P6-B02",
          "P6-B03",
          "P6-B04",
          "P6-B05",
          "P6-B06",
          "P6-B07",
          "P6-B08",
          "P6-B09",
          "P6-B10",
          "P6-B11",
          "P6-B12",
          "P6-C01",
          "P6-C02",
          "P6-C03",
          "P6-C04",
          "P6-C05",
          "P6-C06",
          "P6-C07",
          "P6-C08",
          "P6-C09",
          "P6-C10",
          "P6-C11",
          "P6-C12",
          "P6-D01",
          "P6-D02",
          "P6-D03",
          "P6-D04",
          "P6-D05",
          "P6-D06",
          "P6-D07",
          "P6-D08",
          "P6-D09",
          "P6-D10",
          "P6-D11",
          "P6-D12"
         ],
         "xaxis": "x",
         "y": [
          218644.0677966102,
          121355.9322033898,
          221694.9152542373,
          2654101.694915254,
          3604271.186440678,
          3276338.983050847,
          3368203.389830508,
          3194915.254237288,
          3154440.677966102,
          4740813.559322034,
          5134983.050847458,
          4919322.033898305,
          19830.50847457627,
          998.263888888889,
          14576.27118644068,
          5084.745762711865,
          5491.525423728814,
          1030.815972222222,
          5254.237288135593,
          2495.930548019533,
          12033.89830508475,
          3389.830508474576,
          18474.57627118644,
          2191.840277777778,
          318135.593220339,
          393050.8474576271,
          282881.3559322034,
          4340949.152542372,
          4869694.915254237,
          4316474.576271187,
          4500542.372881356,
          4850440.677966101,
          4425966.101694915,
          7068135.593220339,
          9686779.661016949,
          7025559.322033898,
          1416223.958333333,
          533246.5277777779,
          137118.6440677966,
          46644.06779661016,
          15518.17688551275,
          35084.74576271186,
          1429431.423611111,
          484491.3194444445,
          140198.6111111111,
          55457.62711864406,
          114067.7966101695,
          8274.552360282149
         ],
         "yaxis": "y"
        }
       ],
       "layout": {
        "legend": {
         "title": {
          "text": "Plate"
         },
         "tracegroupgap": 0
        },
        "margin": {
         "t": 60
        },
        "template": {
         "data": {
          "bar": [
           {
            "error_x": {
             "color": "#2a3f5f"
            },
            "error_y": {
             "color": "#2a3f5f"
            },
            "marker": {
             "line": {
              "color": "#E5ECF6",
              "width": 0.5
             }
            },
            "type": "bar"
           }
          ],
          "barpolar": [
           {
            "marker": {
             "line": {
              "color": "#E5ECF6",
              "width": 0.5
             }
            },
            "type": "barpolar"
           }
          ],
          "carpet": [
           {
            "aaxis": {
             "endlinecolor": "#2a3f5f",
             "gridcolor": "white",
             "linecolor": "white",
             "minorgridcolor": "white",
             "startlinecolor": "#2a3f5f"
            },
            "baxis": {
             "endlinecolor": "#2a3f5f",
             "gridcolor": "white",
             "linecolor": "white",
             "minorgridcolor": "white",
             "startlinecolor": "#2a3f5f"
            },
            "type": "carpet"
           }
          ],
          "choropleth": [
           {
            "colorbar": {
             "outlinewidth": 0,
             "ticks": ""
            },
            "type": "choropleth"
           }
          ],
          "contour": [
           {
            "colorbar": {
             "outlinewidth": 0,
             "ticks": ""
            },
            "colorscale": [
             [
              0,
              "#0d0887"
             ],
             [
              0.1111111111111111,
              "#46039f"
             ],
             [
              0.2222222222222222,
              "#7201a8"
             ],
             [
              0.3333333333333333,
              "#9c179e"
             ],
             [
              0.4444444444444444,
              "#bd3786"
             ],
             [
              0.5555555555555556,
              "#d8576b"
             ],
             [
              0.6666666666666666,
              "#ed7953"
             ],
             [
              0.7777777777777778,
              "#fb9f3a"
             ],
             [
              0.8888888888888888,
              "#fdca26"
             ],
             [
              1,
              "#f0f921"
             ]
            ],
            "type": "contour"
           }
          ],
          "contourcarpet": [
           {
            "colorbar": {
             "outlinewidth": 0,
             "ticks": ""
            },
            "type": "contourcarpet"
           }
          ],
          "heatmap": [
           {
            "colorbar": {
             "outlinewidth": 0,
             "ticks": ""
            },
            "colorscale": [
             [
              0,
              "#0d0887"
             ],
             [
              0.1111111111111111,
              "#46039f"
             ],
             [
              0.2222222222222222,
              "#7201a8"
             ],
             [
              0.3333333333333333,
              "#9c179e"
             ],
             [
              0.4444444444444444,
              "#bd3786"
             ],
             [
              0.5555555555555556,
              "#d8576b"
             ],
             [
              0.6666666666666666,
              "#ed7953"
             ],
             [
              0.7777777777777778,
              "#fb9f3a"
             ],
             [
              0.8888888888888888,
              "#fdca26"
             ],
             [
              1,
              "#f0f921"
             ]
            ],
            "type": "heatmap"
           }
          ],
          "heatmapgl": [
           {
            "colorbar": {
             "outlinewidth": 0,
             "ticks": ""
            },
            "colorscale": [
             [
              0,
              "#0d0887"
             ],
             [
              0.1111111111111111,
              "#46039f"
             ],
             [
              0.2222222222222222,
              "#7201a8"
             ],
             [
              0.3333333333333333,
              "#9c179e"
             ],
             [
              0.4444444444444444,
              "#bd3786"
             ],
             [
              0.5555555555555556,
              "#d8576b"
             ],
             [
              0.6666666666666666,
              "#ed7953"
             ],
             [
              0.7777777777777778,
              "#fb9f3a"
             ],
             [
              0.8888888888888888,
              "#fdca26"
             ],
             [
              1,
              "#f0f921"
             ]
            ],
            "type": "heatmapgl"
           }
          ],
          "histogram": [
           {
            "marker": {
             "colorbar": {
              "outlinewidth": 0,
              "ticks": ""
             }
            },
            "type": "histogram"
           }
          ],
          "histogram2d": [
           {
            "colorbar": {
             "outlinewidth": 0,
             "ticks": ""
            },
            "colorscale": [
             [
              0,
              "#0d0887"
             ],
             [
              0.1111111111111111,
              "#46039f"
             ],
             [
              0.2222222222222222,
              "#7201a8"
             ],
             [
              0.3333333333333333,
              "#9c179e"
             ],
             [
              0.4444444444444444,
              "#bd3786"
             ],
             [
              0.5555555555555556,
              "#d8576b"
             ],
             [
              0.6666666666666666,
              "#ed7953"
             ],
             [
              0.7777777777777778,
              "#fb9f3a"
             ],
             [
              0.8888888888888888,
              "#fdca26"
             ],
             [
              1,
              "#f0f921"
             ]
            ],
            "type": "histogram2d"
           }
          ],
          "histogram2dcontour": [
           {
            "colorbar": {
             "outlinewidth": 0,
             "ticks": ""
            },
            "colorscale": [
             [
              0,
              "#0d0887"
             ],
             [
              0.1111111111111111,
              "#46039f"
             ],
             [
              0.2222222222222222,
              "#7201a8"
             ],
             [
              0.3333333333333333,
              "#9c179e"
             ],
             [
              0.4444444444444444,
              "#bd3786"
             ],
             [
              0.5555555555555556,
              "#d8576b"
             ],
             [
              0.6666666666666666,
              "#ed7953"
             ],
             [
              0.7777777777777778,
              "#fb9f3a"
             ],
             [
              0.8888888888888888,
              "#fdca26"
             ],
             [
              1,
              "#f0f921"
             ]
            ],
            "type": "histogram2dcontour"
           }
          ],
          "mesh3d": [
           {
            "colorbar": {
             "outlinewidth": 0,
             "ticks": ""
            },
            "type": "mesh3d"
           }
          ],
          "parcoords": [
           {
            "line": {
             "colorbar": {
              "outlinewidth": 0,
              "ticks": ""
             }
            },
            "type": "parcoords"
           }
          ],
          "pie": [
           {
            "automargin": true,
            "type": "pie"
           }
          ],
          "scatter": [
           {
            "marker": {
             "colorbar": {
              "outlinewidth": 0,
              "ticks": ""
             }
            },
            "type": "scatter"
           }
          ],
          "scatter3d": [
           {
            "line": {
             "colorbar": {
              "outlinewidth": 0,
              "ticks": ""
             }
            },
            "marker": {
             "colorbar": {
              "outlinewidth": 0,
              "ticks": ""
             }
            },
            "type": "scatter3d"
           }
          ],
          "scattercarpet": [
           {
            "marker": {
             "colorbar": {
              "outlinewidth": 0,
              "ticks": ""
             }
            },
            "type": "scattercarpet"
           }
          ],
          "scattergeo": [
           {
            "marker": {
             "colorbar": {
              "outlinewidth": 0,
              "ticks": ""
             }
            },
            "type": "scattergeo"
           }
          ],
          "scattergl": [
           {
            "marker": {
             "colorbar": {
              "outlinewidth": 0,
              "ticks": ""
             }
            },
            "type": "scattergl"
           }
          ],
          "scattermapbox": [
           {
            "marker": {
             "colorbar": {
              "outlinewidth": 0,
              "ticks": ""
             }
            },
            "type": "scattermapbox"
           }
          ],
          "scatterpolar": [
           {
            "marker": {
             "colorbar": {
              "outlinewidth": 0,
              "ticks": ""
             }
            },
            "type": "scatterpolar"
           }
          ],
          "scatterpolargl": [
           {
            "marker": {
             "colorbar": {
              "outlinewidth": 0,
              "ticks": ""
             }
            },
            "type": "scatterpolargl"
           }
          ],
          "scatterternary": [
           {
            "marker": {
             "colorbar": {
              "outlinewidth": 0,
              "ticks": ""
             }
            },
            "type": "scatterternary"
           }
          ],
          "surface": [
           {
            "colorbar": {
             "outlinewidth": 0,
             "ticks": ""
            },
            "colorscale": [
             [
              0,
              "#0d0887"
             ],
             [
              0.1111111111111111,
              "#46039f"
             ],
             [
              0.2222222222222222,
              "#7201a8"
             ],
             [
              0.3333333333333333,
              "#9c179e"
             ],
             [
              0.4444444444444444,
              "#bd3786"
             ],
             [
              0.5555555555555556,
              "#d8576b"
             ],
             [
              0.6666666666666666,
              "#ed7953"
             ],
             [
              0.7777777777777778,
              "#fb9f3a"
             ],
             [
              0.8888888888888888,
              "#fdca26"
             ],
             [
              1,
              "#f0f921"
             ]
            ],
            "type": "surface"
           }
          ],
          "table": [
           {
            "cells": {
             "fill": {
              "color": "#EBF0F8"
             },
             "line": {
              "color": "white"
             }
            },
            "header": {
             "fill": {
              "color": "#C8D4E3"
             },
             "line": {
              "color": "white"
             }
            },
            "type": "table"
           }
          ]
         },
         "layout": {
          "annotationdefaults": {
           "arrowcolor": "#2a3f5f",
           "arrowhead": 0,
           "arrowwidth": 1
          },
          "autotypenumbers": "strict",
          "coloraxis": {
           "colorbar": {
            "outlinewidth": 0,
            "ticks": ""
           }
          },
          "colorscale": {
           "diverging": [
            [
             0,
             "#8e0152"
            ],
            [
             0.1,
             "#c51b7d"
            ],
            [
             0.2,
             "#de77ae"
            ],
            [
             0.3,
             "#f1b6da"
            ],
            [
             0.4,
             "#fde0ef"
            ],
            [
             0.5,
             "#f7f7f7"
            ],
            [
             0.6,
             "#e6f5d0"
            ],
            [
             0.7,
             "#b8e186"
            ],
            [
             0.8,
             "#7fbc41"
            ],
            [
             0.9,
             "#4d9221"
            ],
            [
             1,
             "#276419"
            ]
           ],
           "sequential": [
            [
             0,
             "#0d0887"
            ],
            [
             0.1111111111111111,
             "#46039f"
            ],
            [
             0.2222222222222222,
             "#7201a8"
            ],
            [
             0.3333333333333333,
             "#9c179e"
            ],
            [
             0.4444444444444444,
             "#bd3786"
            ],
            [
             0.5555555555555556,
             "#d8576b"
            ],
            [
             0.6666666666666666,
             "#ed7953"
            ],
            [
             0.7777777777777778,
             "#fb9f3a"
            ],
            [
             0.8888888888888888,
             "#fdca26"
            ],
            [
             1,
             "#f0f921"
            ]
           ],
           "sequentialminus": [
            [
             0,
             "#0d0887"
            ],
            [
             0.1111111111111111,
             "#46039f"
            ],
            [
             0.2222222222222222,
             "#7201a8"
            ],
            [
             0.3333333333333333,
             "#9c179e"
            ],
            [
             0.4444444444444444,
             "#bd3786"
            ],
            [
             0.5555555555555556,
             "#d8576b"
            ],
            [
             0.6666666666666666,
             "#ed7953"
            ],
            [
             0.7777777777777778,
             "#fb9f3a"
            ],
            [
             0.8888888888888888,
             "#fdca26"
            ],
            [
             1,
             "#f0f921"
            ]
           ]
          },
          "colorway": [
           "#636efa",
           "#EF553B",
           "#00cc96",
           "#ab63fa",
           "#FFA15A",
           "#19d3f3",
           "#FF6692",
           "#B6E880",
           "#FF97FF",
           "#FECB52"
          ],
          "font": {
           "color": "#2a3f5f"
          },
          "geo": {
           "bgcolor": "white",
           "lakecolor": "white",
           "landcolor": "#E5ECF6",
           "showlakes": true,
           "showland": true,
           "subunitcolor": "white"
          },
          "hoverlabel": {
           "align": "left"
          },
          "hovermode": "closest",
          "mapbox": {
           "style": "light"
          },
          "paper_bgcolor": "white",
          "plot_bgcolor": "#E5ECF6",
          "polar": {
           "angularaxis": {
            "gridcolor": "white",
            "linecolor": "white",
            "ticks": ""
           },
           "bgcolor": "#E5ECF6",
           "radialaxis": {
            "gridcolor": "white",
            "linecolor": "white",
            "ticks": ""
           }
          },
          "scene": {
           "xaxis": {
            "backgroundcolor": "#E5ECF6",
            "gridcolor": "white",
            "gridwidth": 2,
            "linecolor": "white",
            "showbackground": true,
            "ticks": "",
            "zerolinecolor": "white"
           },
           "yaxis": {
            "backgroundcolor": "#E5ECF6",
            "gridcolor": "white",
            "gridwidth": 2,
            "linecolor": "white",
            "showbackground": true,
            "ticks": "",
            "zerolinecolor": "white"
           },
           "zaxis": {
            "backgroundcolor": "#E5ECF6",
            "gridcolor": "white",
            "gridwidth": 2,
            "linecolor": "white",
            "showbackground": true,
            "ticks": "",
            "zerolinecolor": "white"
           }
          },
          "shapedefaults": {
           "line": {
            "color": "#2a3f5f"
           }
          },
          "ternary": {
           "aaxis": {
            "gridcolor": "white",
            "linecolor": "white",
            "ticks": ""
           },
           "baxis": {
            "gridcolor": "white",
            "linecolor": "white",
            "ticks": ""
           },
           "bgcolor": "#E5ECF6",
           "caxis": {
            "gridcolor": "white",
            "linecolor": "white",
            "ticks": ""
           }
          },
          "title": {
           "x": 0.05
          },
          "xaxis": {
           "automargin": true,
           "gridcolor": "white",
           "linecolor": "white",
           "ticks": "",
           "title": {
            "standoff": 15
           },
           "zerolinecolor": "white",
           "zerolinewidth": 2
          },
          "yaxis": {
           "automargin": true,
           "gridcolor": "white",
           "linecolor": "white",
           "ticks": "",
           "title": {
            "standoff": 15
           },
           "zerolinecolor": "white",
           "zerolinewidth": 2
          }
         }
        },
        "xaxis": {
         "anchor": "y",
         "domain": [
          0,
          1
         ],
         "title": {
          "text": "Sample"
         }
        },
        "yaxis": {
         "anchor": "x",
         "domain": [
          0,
          1
         ],
         "title": {
          "text": "Alpha_Max"
         }
        }
       }
      },
      "text/html": [
       "<div>                            <div id=\"93332499-8826-4e45-ab73-66899aec1fd4\" class=\"plotly-graph-div\" style=\"height:525px; width:100%;\"></div>            <script type=\"text/javascript\">                require([\"plotly\"], function(Plotly) {                    window.PLOTLYENV=window.PLOTLYENV || {};                                    if (document.getElementById(\"93332499-8826-4e45-ab73-66899aec1fd4\")) {                    Plotly.newPlot(                        \"93332499-8826-4e45-ab73-66899aec1fd4\",                        [{\"hovertemplate\": \"Plate=P1<br>Sample=%{x}<br>Alpha_Max=%{y}<extra></extra>\", \"legendgroup\": \"P1\", \"marker\": {\"color\": \"#636efa\", \"symbol\": \"circle\"}, \"mode\": \"markers\", \"name\": \"P1\", \"orientation\": \"v\", \"showlegend\": true, \"type\": \"scatter\", \"x\": [\"P1-A01\", \"P1-A02\", \"P1-A03\", \"P1-A04\", \"P1-A05\", \"P1-A06\", \"P1-A07\", \"P1-A08\", \"P1-A09\", \"P1-A10\", \"P1-A11\", \"P1-A12\", \"P1-B01\", \"P1-B02\", \"P1-B03\", \"P1-B04\", \"P1-B05\", \"P1-B06\", \"P1-B07\", \"P1-B08\", \"P1-B09\", \"P1-B10\", \"P1-B11\", \"P1-B12\", \"P1-C01\", \"P1-C02\", \"P1-C03\", \"P1-C04\", \"P1-C05\", \"P1-C06\", \"P1-C07\", \"P1-C08\", \"P1-C09\", \"P1-C10\", \"P1-C11\", \"P1-C12\", \"P1-D01\", \"P1-D02\", \"P1-D03\", \"P1-D04\", \"P1-D05\", \"P1-D06\", \"P1-D07\", \"P1-D08\", \"P1-D09\", \"P1-D10\", \"P1-D11\", \"P1-D12\"], \"xaxis\": \"x\", \"y\": [214067.7966101695, 213728.813559322, 178813.5593220339, 2949830.508474576, 2370862.723819859, 2605046.120455778, 2813084.745762712, 2972000.0, 2662915.254237288, 4309627.118644067, 4632813.559322034, 4952745.762711864, 3879.544221378187, 9830.50847457627, 2508.474576271186, 2847.457627118644, 11525.42372881356, 1465.002712967987, 292.96875, 5152.542372881356, 7966.101694915254, 11864.40677966102, 1694.915254237288, 881.3559322033898, 149322.0338983051, 161186.4406779661, 189830.5084745763, 4344677.966101695, 3563728.813559322, 3901423.728813559, 4156135.593220339, 4507593.220338983, 3579389.830508474, 6270440.677966101, 8234745.762711865, 5867457.627118644, 1557243.62452523, 395117.1874999999, 167083.3333333333, 66800.0, 27457.62711864407, 8610.169491525423, 1695638.020833333, 515980.9027777778, 143124.3055555556, 67388.19444444445, 20847.45762711865, 13220.33898305085], \"yaxis\": \"y\"}, {\"hovertemplate\": \"Plate=P2<br>Sample=%{x}<br>Alpha_Max=%{y}<extra></extra>\", \"legendgroup\": \"P2\", \"marker\": {\"color\": \"#EF553B\", \"symbol\": \"circle\"}, \"mode\": \"markers\", \"name\": \"P2\", \"orientation\": \"v\", \"showlegend\": true, \"type\": \"scatter\", \"x\": [\"P2-A01\", \"P2-A02\", \"P2-A03\", \"P2-A04\", \"P2-A05\", \"P2-A06\", \"P2-A07\", \"P2-A08\", \"P2-A09\", \"P2-A10\", \"P2-A11\", \"P2-A12\", \"P2-B01\", \"P2-B02\", \"P2-B03\", \"P2-B04\", \"P2-B05\", \"P2-B06\", \"P2-B07\", \"P2-B08\", \"P2-B09\", \"P2-B10\", \"P2-B11\", \"P2-B12\", \"P2-C01\", \"P2-C02\", \"P2-C03\", \"P2-C04\", \"P2-C05\", \"P2-C06\", \"P2-C07\", \"P2-C08\", \"P2-C09\", \"P2-C10\", \"P2-C11\", \"P2-C12\", \"P2-D01\", \"P2-D02\", \"P2-D03\", \"P2-D04\", \"P2-D05\", \"P2-D06\", \"P2-D07\", \"P2-D08\", \"P2-D09\", \"P2-D10\", \"P2-D11\", \"P2-D12\"], \"xaxis\": \"x\", \"y\": [273559.3220338983, 158474.5762711864, 191593.220338983, 2780032.555615843, 2992105.263157894, 2970835.594139989, 2972137.818773738, 3267552.902875746, 3259796.610169491, 4325423.728813559, 4630169.491525424, 4263389.830508474, 30338.98305084746, 13728.81355932203, 22542.37288135593, 10677.96610169492, 8067.796610169491, 13220.33898305085, 68135.59322033898, 2468.800868149755, 0.0, 14745.76271186441, 5559.322033898305, 24915.25423728814, 51186.4406779661, 111525.4237288136, 118135.593220339, 4656338.983050847, 4868135.593220338, 4123050.847457627, 4335525.423728813, 4878983.050847458, 4042644.06779661, 6807118.644067797, 8879830.508474577, 6657966.101694915, 1562261.284722222, 576248.2638888889, 151675.3472222222, 57220.33898305085, 55932.20338983051, 16203.38983050847, 1872949.21875, 633789.0624999999, 289152.5423728814, 50548.61111111111, 30847.45762711865, 11016.94915254237], \"yaxis\": \"y\"}, {\"hovertemplate\": \"Plate=P3<br>Sample=%{x}<br>Alpha_Max=%{y}<extra></extra>\", \"legendgroup\": \"P3\", \"marker\": {\"color\": \"#00cc96\", \"symbol\": \"circle\"}, \"mode\": \"markers\", \"name\": \"P3\", \"orientation\": \"v\", \"showlegend\": true, \"type\": \"scatter\", \"x\": [\"P3-A01\", \"P3-A02\", \"P3-A03\", \"P3-A04\", \"P3-A05\", \"P3-A06\", \"P3-A07\", \"P3-A08\", \"P3-A09\", \"P3-A10\", \"P3-A11\", \"P3-A12\", \"P3-B01\", \"P3-B02\", \"P3-B03\", \"P3-B04\", \"P3-B05\", \"P3-B06\", \"P3-B07\", \"P3-B08\", \"P3-B09\", \"P3-B10\", \"P3-B11\", \"P3-B12\", \"P3-C01\", \"P3-C02\", \"P3-C03\", \"P3-C04\", \"P3-C05\", \"P3-C06\", \"P3-C07\", \"P3-C08\", \"P3-C09\", \"P3-C10\", \"P3-C11\", \"P3-C12\", \"P3-D01\", \"P3-D02\", \"P3-D03\", \"P3-D04\", \"P3-D05\", \"P3-D06\", \"P3-D07\", \"P3-D08\", \"P3-D09\", \"P3-D10\", \"P3-D11\", \"P3-D12\"], \"xaxis\": \"x\", \"y\": [70508.47457627118, 163220.3389830508, 149322.0338983051, 2927997.82962561, 2644813.559322034, 2691796.610169491, 2669940.314704286, 2899322.033898305, 3030412.37113402, 4240677.966101695, 4449322.033898305, 4299525.423728813, 10508.47457627119, 2542.372881355932, 18474.57627118644, 399.3055555555555, 5152.542372881356, 12372.8813559322, 5593.220338983051, 7999.999999999999, 4237.28813559322, 58305.08474576271, 1437.873033098209, 3118.64406779661, 77966.10169491525, 153220.3389830508, 177796.6101694915, 3227322.033898305, 3837355.93220339, 3890305.084745762, 3712677.966101695, 4884542.372881356, 3738508.474576271, 6283898.305084746, 8511694.915254237, 6154644.067796609, 1508344.184027778, 470064.2361111111, 139811.8055555556, 57734.72222222223, 14487.2490504612, 27118.64406779661, 1609993.489583333, 507986.1111111111, 182270.1388888889, 56510.41666666667, 13456.32121540966, 15254.23728813559], \"yaxis\": \"y\"}, {\"hovertemplate\": \"Plate=P4<br>Sample=%{x}<br>Alpha_Max=%{y}<extra></extra>\", \"legendgroup\": \"P4\", \"marker\": {\"color\": \"#ab63fa\", \"symbol\": \"circle\"}, \"mode\": \"markers\", \"name\": \"P4\", \"orientation\": \"v\", \"showlegend\": true, \"type\": \"scatter\", \"x\": [\"P4-A01\", \"P4-A02\", \"P4-A03\", \"P4-A04\", \"P4-A05\", \"P4-A06\", \"P4-A07\", \"P4-A08\", \"P4-A09\", \"P4-A10\", \"P4-A11\", \"P4-A12\", \"P4-B01\", \"P4-B02\", \"P4-B03\", \"P4-B04\", \"P4-B05\", \"P4-B06\", \"P4-B07\", \"P4-B08\", \"P4-B09\", \"P4-B10\", \"P4-B11\", \"P4-B12\", \"P4-C01\", \"P4-C02\", \"P4-C03\", \"P4-C04\", \"P4-C05\", \"P4-C06\", \"P4-C07\", \"P4-C08\", \"P4-C09\", \"P4-C10\", \"P4-C11\", \"P4-C12\", \"P4-D01\", \"P4-D02\", \"P4-D03\", \"P4-D04\", \"P4-D05\", \"P4-D06\", \"P4-D07\", \"P4-D08\", \"P4-D09\", \"P4-D10\", \"P4-D11\", \"P4-D12\"], \"xaxis\": \"x\", \"y\": [417627.1186440678, 222372.8813559322, 274237.2881355932, 3671661.016949152, 2982847.457627119, 2664610.169491525, 3444542.372881356, 2781966.101694915, 2944357.026587086, 4338711.864406779, 4724067.79661017, 5452677.966101695, 30677.96610169492, 15762.34400434075, 12711.86440677966, 28983.05084745763, 47966.10169491525, 1817.688551275095, 6372.881355932203, 4745.762711864407, 5932.203389830509, 4745.762711864407, 2440.677966101695, 5355.93220338983, 251694.9152542373, 414745.7627118644, 54576.27118644068, 3964067.796610169, 5230779.661016949, 4338508.474576271, 4415661.016949153, 4606169.491525424, 3989559.322033898, 6542033.898305085, 9281694.915254237, 6938983.050847457, 1468502.604166667, 539046.875, 127059.0277777778, 51547.22222222223, 27966.10169491525, 21084.74576271186, 1384965.277777778, 421349.8263888889, 140102.7777777778, 51894.44444444445, 35423.72881355933, 26271.18644067797], \"yaxis\": \"y\"}, {\"hovertemplate\": \"Plate=P5<br>Sample=%{x}<br>Alpha_Max=%{y}<extra></extra>\", \"legendgroup\": \"P5\", \"marker\": {\"color\": \"#FFA15A\", \"symbol\": \"circle\"}, \"mode\": \"markers\", \"name\": \"P5\", \"orientation\": \"v\", \"showlegend\": true, \"type\": \"scatter\", \"x\": [\"P5-A01\", \"P5-A02\", \"P5-A03\", \"P5-A04\", \"P5-A05\", \"P5-A06\", \"P5-A07\", \"P5-A08\", \"P5-A09\", \"P5-A10\", \"P5-A11\", \"P5-A12\", \"P5-B01\", \"P5-B02\", \"P5-B03\", \"P5-B04\", \"P5-B05\", \"P5-B06\", \"P5-B07\", \"P5-B08\", \"P5-B09\", \"P5-B10\", \"P5-B11\", \"P5-B12\", \"P5-C01\", \"P5-C02\", \"P5-C03\", \"P5-C04\", \"P5-C05\", \"P5-C06\", \"P5-C07\", \"P5-C08\", \"P5-C09\", \"P5-C10\", \"P5-C11\", \"P5-C12\", \"P5-D01\", \"P5-D02\", \"P5-D03\", \"P5-D04\", \"P5-D05\", \"P5-D06\", \"P5-D07\", \"P5-D08\", \"P5-D09\", \"P5-D10\", \"P5-D11\", \"P5-D12\"], \"xaxis\": \"x\", \"y\": [307457.6271186441, 152542.3728813559, 338644.0677966102, 2781898.305084745, 3453152.542372881, 3111661.016949152, 3341016.949152542, 3081307.650569723, 3172000.0, 4615864.406779661, 4981966.101694915, 4936135.593220338, 10169.49152542373, 4067.796610169491, 48813.5593220339, 314.6701388888889, 7661.016949152542, 27966.10169491525, 895.2794357026586, 7796.610169491525, 14576.27118644068, 2881.35593220339, 672.7430555555557, 4881.35593220339, 296101.6949152543, 383728.813559322, 400271.186440678, 4389694.915254237, 4923796.610169491, 4471322.033898305, 4424067.796610169, 5286983.050847458, 4267796.610169491, 6850237.288135593, 8519661.016949153, 6932711.864406779, 1512467.447916667, 506671.8750000001, 151694.9152542373, 70508.47457627118, 43050.84745762712, 10872.39583333333, 1416966.145833333, 481100.6944444445, 140439.5833333333, 50920.13888888889, 53220.33898305085, 59491.52542372882], \"yaxis\": \"y\"}, {\"hovertemplate\": \"Plate=P6<br>Sample=%{x}<br>Alpha_Max=%{y}<extra></extra>\", \"legendgroup\": \"P6\", \"marker\": {\"color\": \"#19d3f3\", \"symbol\": \"circle\"}, \"mode\": \"markers\", \"name\": \"P6\", \"orientation\": \"v\", \"showlegend\": true, \"type\": \"scatter\", \"x\": [\"P6-A01\", \"P6-A02\", \"P6-A03\", \"P6-A04\", \"P6-A05\", \"P6-A06\", \"P6-A07\", \"P6-A08\", \"P6-A09\", \"P6-A10\", \"P6-A11\", \"P6-A12\", \"P6-B01\", \"P6-B02\", \"P6-B03\", \"P6-B04\", \"P6-B05\", \"P6-B06\", \"P6-B07\", \"P6-B08\", \"P6-B09\", \"P6-B10\", \"P6-B11\", \"P6-B12\", \"P6-C01\", \"P6-C02\", \"P6-C03\", \"P6-C04\", \"P6-C05\", \"P6-C06\", \"P6-C07\", \"P6-C08\", \"P6-C09\", \"P6-C10\", \"P6-C11\", \"P6-C12\", \"P6-D01\", \"P6-D02\", \"P6-D03\", \"P6-D04\", \"P6-D05\", \"P6-D06\", \"P6-D07\", \"P6-D08\", \"P6-D09\", \"P6-D10\", \"P6-D11\", \"P6-D12\"], \"xaxis\": \"x\", \"y\": [218644.0677966102, 121355.9322033898, 221694.9152542373, 2654101.694915254, 3604271.186440678, 3276338.983050847, 3368203.389830508, 3194915.254237288, 3154440.677966102, 4740813.559322034, 5134983.050847458, 4919322.033898305, 19830.50847457627, 998.263888888889, 14576.27118644068, 5084.745762711865, 5491.525423728814, 1030.815972222222, 5254.237288135593, 2495.930548019533, 12033.89830508475, 3389.830508474576, 18474.57627118644, 2191.840277777778, 318135.593220339, 393050.8474576271, 282881.3559322034, 4340949.152542372, 4869694.915254237, 4316474.576271187, 4500542.372881356, 4850440.677966101, 4425966.101694915, 7068135.593220339, 9686779.661016949, 7025559.322033898, 1416223.958333333, 533246.5277777779, 137118.6440677966, 46644.06779661016, 15518.17688551275, 35084.74576271186, 1429431.423611111, 484491.3194444445, 140198.6111111111, 55457.62711864406, 114067.7966101695, 8274.552360282149], \"yaxis\": \"y\"}],                        {\"legend\": {\"title\": {\"text\": \"Plate\"}, \"tracegroupgap\": 0}, \"margin\": {\"t\": 60}, \"template\": {\"data\": {\"bar\": [{\"error_x\": {\"color\": \"#2a3f5f\"}, \"error_y\": {\"color\": \"#2a3f5f\"}, \"marker\": {\"line\": {\"color\": \"#E5ECF6\", \"width\": 0.5}}, \"type\": \"bar\"}], \"barpolar\": [{\"marker\": {\"line\": {\"color\": \"#E5ECF6\", \"width\": 0.5}}, \"type\": \"barpolar\"}], \"carpet\": [{\"aaxis\": {\"endlinecolor\": \"#2a3f5f\", \"gridcolor\": \"white\", \"linecolor\": \"white\", \"minorgridcolor\": \"white\", \"startlinecolor\": \"#2a3f5f\"}, \"baxis\": {\"endlinecolor\": \"#2a3f5f\", \"gridcolor\": \"white\", \"linecolor\": \"white\", \"minorgridcolor\": \"white\", \"startlinecolor\": \"#2a3f5f\"}, \"type\": \"carpet\"}], \"choropleth\": [{\"colorbar\": {\"outlinewidth\": 0, \"ticks\": \"\"}, \"type\": \"choropleth\"}], \"contour\": [{\"colorbar\": {\"outlinewidth\": 0, \"ticks\": \"\"}, \"colorscale\": [[0.0, \"#0d0887\"], [0.1111111111111111, \"#46039f\"], [0.2222222222222222, \"#7201a8\"], [0.3333333333333333, \"#9c179e\"], [0.4444444444444444, \"#bd3786\"], [0.5555555555555556, \"#d8576b\"], [0.6666666666666666, \"#ed7953\"], [0.7777777777777778, \"#fb9f3a\"], [0.8888888888888888, \"#fdca26\"], [1.0, \"#f0f921\"]], \"type\": \"contour\"}], \"contourcarpet\": [{\"colorbar\": {\"outlinewidth\": 0, \"ticks\": \"\"}, \"type\": \"contourcarpet\"}], \"heatmap\": [{\"colorbar\": {\"outlinewidth\": 0, \"ticks\": \"\"}, \"colorscale\": [[0.0, \"#0d0887\"], [0.1111111111111111, \"#46039f\"], [0.2222222222222222, \"#7201a8\"], [0.3333333333333333, \"#9c179e\"], [0.4444444444444444, \"#bd3786\"], [0.5555555555555556, \"#d8576b\"], [0.6666666666666666, \"#ed7953\"], [0.7777777777777778, \"#fb9f3a\"], [0.8888888888888888, \"#fdca26\"], [1.0, \"#f0f921\"]], \"type\": \"heatmap\"}], \"heatmapgl\": [{\"colorbar\": {\"outlinewidth\": 0, \"ticks\": \"\"}, \"colorscale\": [[0.0, \"#0d0887\"], [0.1111111111111111, \"#46039f\"], [0.2222222222222222, \"#7201a8\"], [0.3333333333333333, \"#9c179e\"], [0.4444444444444444, \"#bd3786\"], [0.5555555555555556, \"#d8576b\"], [0.6666666666666666, \"#ed7953\"], [0.7777777777777778, \"#fb9f3a\"], [0.8888888888888888, \"#fdca26\"], [1.0, \"#f0f921\"]], \"type\": \"heatmapgl\"}], \"histogram\": [{\"marker\": {\"colorbar\": {\"outlinewidth\": 0, \"ticks\": \"\"}}, \"type\": \"histogram\"}], \"histogram2d\": [{\"colorbar\": {\"outlinewidth\": 0, \"ticks\": \"\"}, \"colorscale\": [[0.0, \"#0d0887\"], [0.1111111111111111, \"#46039f\"], [0.2222222222222222, \"#7201a8\"], [0.3333333333333333, \"#9c179e\"], [0.4444444444444444, \"#bd3786\"], [0.5555555555555556, \"#d8576b\"], [0.6666666666666666, \"#ed7953\"], [0.7777777777777778, \"#fb9f3a\"], [0.8888888888888888, \"#fdca26\"], [1.0, \"#f0f921\"]], \"type\": \"histogram2d\"}], \"histogram2dcontour\": [{\"colorbar\": {\"outlinewidth\": 0, \"ticks\": \"\"}, \"colorscale\": [[0.0, \"#0d0887\"], [0.1111111111111111, \"#46039f\"], [0.2222222222222222, \"#7201a8\"], [0.3333333333333333, \"#9c179e\"], [0.4444444444444444, \"#bd3786\"], [0.5555555555555556, \"#d8576b\"], [0.6666666666666666, \"#ed7953\"], [0.7777777777777778, \"#fb9f3a\"], [0.8888888888888888, \"#fdca26\"], [1.0, \"#f0f921\"]], \"type\": \"histogram2dcontour\"}], \"mesh3d\": [{\"colorbar\": {\"outlinewidth\": 0, \"ticks\": \"\"}, \"type\": \"mesh3d\"}], \"parcoords\": [{\"line\": {\"colorbar\": {\"outlinewidth\": 0, \"ticks\": \"\"}}, \"type\": \"parcoords\"}], \"pie\": [{\"automargin\": true, \"type\": \"pie\"}], \"scatter\": [{\"marker\": {\"colorbar\": {\"outlinewidth\": 0, \"ticks\": \"\"}}, \"type\": \"scatter\"}], \"scatter3d\": [{\"line\": {\"colorbar\": {\"outlinewidth\": 0, \"ticks\": \"\"}}, \"marker\": {\"colorbar\": {\"outlinewidth\": 0, \"ticks\": \"\"}}, \"type\": \"scatter3d\"}], \"scattercarpet\": [{\"marker\": {\"colorbar\": {\"outlinewidth\": 0, \"ticks\": \"\"}}, \"type\": \"scattercarpet\"}], \"scattergeo\": [{\"marker\": {\"colorbar\": {\"outlinewidth\": 0, \"ticks\": \"\"}}, \"type\": \"scattergeo\"}], \"scattergl\": [{\"marker\": {\"colorbar\": {\"outlinewidth\": 0, \"ticks\": \"\"}}, \"type\": \"scattergl\"}], \"scattermapbox\": [{\"marker\": {\"colorbar\": {\"outlinewidth\": 0, \"ticks\": \"\"}}, \"type\": \"scattermapbox\"}], \"scatterpolar\": [{\"marker\": {\"colorbar\": {\"outlinewidth\": 0, \"ticks\": \"\"}}, \"type\": \"scatterpolar\"}], \"scatterpolargl\": [{\"marker\": {\"colorbar\": {\"outlinewidth\": 0, \"ticks\": \"\"}}, \"type\": \"scatterpolargl\"}], \"scatterternary\": [{\"marker\": {\"colorbar\": {\"outlinewidth\": 0, \"ticks\": \"\"}}, \"type\": \"scatterternary\"}], \"surface\": [{\"colorbar\": {\"outlinewidth\": 0, \"ticks\": \"\"}, \"colorscale\": [[0.0, \"#0d0887\"], [0.1111111111111111, \"#46039f\"], [0.2222222222222222, \"#7201a8\"], [0.3333333333333333, \"#9c179e\"], [0.4444444444444444, \"#bd3786\"], [0.5555555555555556, \"#d8576b\"], [0.6666666666666666, \"#ed7953\"], [0.7777777777777778, \"#fb9f3a\"], [0.8888888888888888, \"#fdca26\"], [1.0, \"#f0f921\"]], \"type\": \"surface\"}], \"table\": [{\"cells\": {\"fill\": {\"color\": \"#EBF0F8\"}, \"line\": {\"color\": \"white\"}}, \"header\": {\"fill\": {\"color\": \"#C8D4E3\"}, \"line\": {\"color\": \"white\"}}, \"type\": \"table\"}]}, \"layout\": {\"annotationdefaults\": {\"arrowcolor\": \"#2a3f5f\", \"arrowhead\": 0, \"arrowwidth\": 1}, \"autotypenumbers\": \"strict\", \"coloraxis\": {\"colorbar\": {\"outlinewidth\": 0, \"ticks\": \"\"}}, \"colorscale\": {\"diverging\": [[0, \"#8e0152\"], [0.1, \"#c51b7d\"], [0.2, \"#de77ae\"], [0.3, \"#f1b6da\"], [0.4, \"#fde0ef\"], [0.5, \"#f7f7f7\"], [0.6, \"#e6f5d0\"], [0.7, \"#b8e186\"], [0.8, \"#7fbc41\"], [0.9, \"#4d9221\"], [1, \"#276419\"]], \"sequential\": [[0.0, \"#0d0887\"], [0.1111111111111111, \"#46039f\"], [0.2222222222222222, \"#7201a8\"], [0.3333333333333333, \"#9c179e\"], [0.4444444444444444, \"#bd3786\"], [0.5555555555555556, \"#d8576b\"], [0.6666666666666666, \"#ed7953\"], [0.7777777777777778, \"#fb9f3a\"], [0.8888888888888888, \"#fdca26\"], [1.0, \"#f0f921\"]], \"sequentialminus\": [[0.0, \"#0d0887\"], [0.1111111111111111, \"#46039f\"], [0.2222222222222222, \"#7201a8\"], [0.3333333333333333, \"#9c179e\"], [0.4444444444444444, \"#bd3786\"], [0.5555555555555556, \"#d8576b\"], [0.6666666666666666, \"#ed7953\"], [0.7777777777777778, \"#fb9f3a\"], [0.8888888888888888, \"#fdca26\"], [1.0, \"#f0f921\"]]}, \"colorway\": [\"#636efa\", \"#EF553B\", \"#00cc96\", \"#ab63fa\", \"#FFA15A\", \"#19d3f3\", \"#FF6692\", \"#B6E880\", \"#FF97FF\", \"#FECB52\"], \"font\": {\"color\": \"#2a3f5f\"}, \"geo\": {\"bgcolor\": \"white\", \"lakecolor\": \"white\", \"landcolor\": \"#E5ECF6\", \"showlakes\": true, \"showland\": true, \"subunitcolor\": \"white\"}, \"hoverlabel\": {\"align\": \"left\"}, \"hovermode\": \"closest\", \"mapbox\": {\"style\": \"light\"}, \"paper_bgcolor\": \"white\", \"plot_bgcolor\": \"#E5ECF6\", \"polar\": {\"angularaxis\": {\"gridcolor\": \"white\", \"linecolor\": \"white\", \"ticks\": \"\"}, \"bgcolor\": \"#E5ECF6\", \"radialaxis\": {\"gridcolor\": \"white\", \"linecolor\": \"white\", \"ticks\": \"\"}}, \"scene\": {\"xaxis\": {\"backgroundcolor\": \"#E5ECF6\", \"gridcolor\": \"white\", \"gridwidth\": 2, \"linecolor\": \"white\", \"showbackground\": true, \"ticks\": \"\", \"zerolinecolor\": \"white\"}, \"yaxis\": {\"backgroundcolor\": \"#E5ECF6\", \"gridcolor\": \"white\", \"gridwidth\": 2, \"linecolor\": \"white\", \"showbackground\": true, \"ticks\": \"\", \"zerolinecolor\": \"white\"}, \"zaxis\": {\"backgroundcolor\": \"#E5ECF6\", \"gridcolor\": \"white\", \"gridwidth\": 2, \"linecolor\": \"white\", \"showbackground\": true, \"ticks\": \"\", \"zerolinecolor\": \"white\"}}, \"shapedefaults\": {\"line\": {\"color\": \"#2a3f5f\"}}, \"ternary\": {\"aaxis\": {\"gridcolor\": \"white\", \"linecolor\": \"white\", \"ticks\": \"\"}, \"baxis\": {\"gridcolor\": \"white\", \"linecolor\": \"white\", \"ticks\": \"\"}, \"bgcolor\": \"#E5ECF6\", \"caxis\": {\"gridcolor\": \"white\", \"linecolor\": \"white\", \"ticks\": \"\"}}, \"title\": {\"x\": 0.05}, \"xaxis\": {\"automargin\": true, \"gridcolor\": \"white\", \"linecolor\": \"white\", \"ticks\": \"\", \"title\": {\"standoff\": 15}, \"zerolinecolor\": \"white\", \"zerolinewidth\": 2}, \"yaxis\": {\"automargin\": true, \"gridcolor\": \"white\", \"linecolor\": \"white\", \"ticks\": \"\", \"title\": {\"standoff\": 15}, \"zerolinecolor\": \"white\", \"zerolinewidth\": 2}}}, \"xaxis\": {\"anchor\": \"y\", \"domain\": [0.0, 1.0], \"title\": {\"text\": \"Sample\"}}, \"yaxis\": {\"anchor\": \"x\", \"domain\": [0.0, 1.0], \"title\": {\"text\": \"Alpha_Max\"}}},                        {\"responsive\": true}                    ).then(function(){\n",
       "                            \n",
       "var gd = document.getElementById('93332499-8826-4e45-ab73-66899aec1fd4');\n",
       "var x = new MutationObserver(function (mutations, observer) {{\n",
       "        var display = window.getComputedStyle(gd).display;\n",
       "        if (!display || display === 'none') {{\n",
       "            console.log([gd, 'removed!']);\n",
       "            Plotly.purge(gd);\n",
       "            observer.disconnect();\n",
       "        }}\n",
       "}});\n",
       "\n",
       "// Listen for the removal of the full notebook cells\n",
       "var notebookContainer = gd.closest('#notebook-container');\n",
       "if (notebookContainer) {{\n",
       "    x.observe(notebookContainer, {childList: true});\n",
       "}}\n",
       "\n",
       "// Listen for the clearing of the current output cell\n",
       "var outputEl = gd.closest('.output');\n",
       "if (outputEl) {{\n",
       "    x.observe(outputEl, {childList: true});\n",
       "}}\n",
       "\n",
       "                        })                };                });            </script>        </div>"
      ]
     },
     "metadata": {},
     "output_type": "display_data"
    },
    {
     "data": {
      "text/plain": [
       "<Figure size 2800x1600 with 0 Axes>"
      ]
     },
     "metadata": {},
     "output_type": "display_data"
    }
   ],
   "source": [
    "y = calcs_df[\"Alpha_Max\"]\n",
    "x = calcs_df[\"Sample\"]\n",
    "y2 = calcs_df[\"Alpha_Max/DNA_Max\"]\n",
    "\n",
    "ax1 = plt.figure(figsize=(14, 8), dpi=200)\n",
    "# ax1 = plt.gca()\n",
    "# ax2 = ax1.twinx()\n",
    "ax1 = px.scatter(calcs_df, x=x, y=y, color = \"Plate\")\n",
    "ax1.show()"
   ]
  },
  {
   "cell_type": "code",
   "execution_count": null,
   "metadata": {},
   "outputs": [],
   "source": []
  }
 ],
 "metadata": {
  "kernelspec": {
   "display_name": "Python 3",
   "language": "python",
   "name": "python3"
  },
  "language_info": {
   "codemirror_mode": {
    "name": "ipython",
    "version": 3
   },
   "file_extension": ".py",
   "mimetype": "text/x-python",
   "name": "python",
   "nbconvert_exporter": "python",
   "pygments_lexer": "ipython3",
   "version": "3.8.3"
  }
 },
 "nbformat": 4,
 "nbformat_minor": 4
}
