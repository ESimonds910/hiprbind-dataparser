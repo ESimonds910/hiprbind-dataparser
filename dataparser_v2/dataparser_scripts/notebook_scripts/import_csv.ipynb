{
 "cells": [
  {
   "cell_type": "code",
   "execution_count": null,
   "metadata": {},
   "outputs": [],
   "source": [
    "import pandas as pd\n",
    "import pandas.errors as pderrors\n",
    "import numpy as np\n",
    "import json\n",
    "from tkinter import Tk, messagebox\n",
    "from tkinter.filedialog import askopenfilename"
   ]
  },
  {
   "cell_type": "code",
   "execution_count": null,
   "metadata": {},
   "outputs": [],
   "source": [
    "PLATE_IDX = [x for x in range(25)]\n",
    "DNA_PLATE_IDX = [x for x in range(24, 49)]"
   ]
  },
  {
   "cell_type": "code",
   "execution_count": null,
   "metadata": {},
   "outputs": [],
   "source": [
    "def file_import(input_raw_path, section, count):\n",
    "    if section == \"alpha\":\n",
    "        row_skip = 7\n",
    "        index = PLATE_IDX\n",
    "    else:\n",
    "        row_skip = 31\n",
    "        index = DNA_PLATE_IDX\n",
    "    try:\n",
    "        df = pd.read_csv(\n",
    "            input_raw_path,\n",
    "            header=None,\n",
    "            index_col=0,\n",
    "            names=index,\n",
    "            usecols=np.arange(0, 25),\n",
    "            skiprows=row_skip + count * 48,\n",
    "            nrows=16,\n",
    "            encoding='unicode_escape'\n",
    "        )\n",
    "    except pderrors.ParserError:\n",
    "        messagebox.showinfo(title=\"Hang on...\", message=\"Raw file is not in typical format. Please check.\")\n",
    "    else:\n",
    "        return df"
   ]
  },
  {
   "cell_type": "code",
   "execution_count": null,
   "metadata": {},
   "outputs": [],
   "source": [
    "class FileFinder:\n",
    "    def __init__(self):\n",
    "        self.window = Tk()\n",
    "        self.window.withdraw()\n",
    "        self.window.destroy()\n",
    "        self.all_data = pd.DataFrame()\n",
    "    def data_finder(self, proj_data):\n",
    "        plates = proj_data[\"plates\"]\n",
    "        input_raw_path = proj_data[\"raw_file\"]\n",
    "        all_alpha_data = pd.DataFrame()\n",
    "        all_dna_data = pd.DataFrame()\n",
    "        for plate in plates:\n",
    "            plate_idx = plates.index(plate)\n",
    "            new_alpha_data = file_import(input_raw_path, \"alpha\", plate_idx)\n",
    "            new_dna_data = file_import(input_raw_path, \"dna\", plate_idx)\n",
    "            if new_alpha_data.empty or new_dna_data.empty:\n",
    "                messagebox.showinfo(\n",
    "                    title=\"Hang on...\",\n",
    "                    message=\"The raw file may be empty, or raw path was not indicated.\"\n",
    "                )\n",
    "                break\n",
    "            else:\n",
    "                # new_alpha_data.insert(0, \"Plate\", plate)\n",
    "                # new_alpha_data.insert(1, \"Source\", plate[:2])\n",
    "                all_alpha_data = pd.concat([all_alpha_data, new_alpha_data])\n",
    "                all_dna_data = pd.concat([all_dna_data, new_dna_data])\n",
    "        return self.concat_alpha_dna(all_alpha_data, all_dna_data)\n",
    "    def concat_alpha_dna(self, all_alpha_data, all_dna_data):\n",
    "        self.all_data = pd.concat([all_alpha_data, all_dna_data], axis=1)\n",
    "        return self.all_data"
   ]
  },
  {
   "cell_type": "code",
   "execution_count": null,
   "metadata": {},
   "outputs": [],
   "source": [
    "if __name__ == \"__main__\":\n",
    "    try:\n",
    "        with open(\"../modules/archive_json_test.json\") as test_file:\n",
    "            test_data = json.load(test_file)[\"SSF00616\"]\n",
    "    except Exception as e:\n",
    "        print(f\"{e.__class__} occurred. Pick new project.\")\n",
    "    else:\n",
    "        plate_ids = test_data[\"Plate IDs\"]\n",
    "        raw_path = test_data[\"raw_file_path\"]\n",
    "        FileFinder().data_finder(plate_ids, raw_path)"
   ]
  }
 ],
 "metadata": {
  "kernelspec": {
   "display_name": "Python 3",
   "language": "python",
   "name": "python3"
  },
  "language_info": {
   "codemirror_mode": {
    "name": "ipython",
    "version": 3
   },
   "file_extension": ".py",
   "mimetype": "text/x-python",
   "name": "python",
   "nbconvert_exporter": "python",
   "pygments_lexer": "ipython3",
   "version": "3.8.3"
  }
 },
 "nbformat": 4,
 "nbformat_minor": 2
}
