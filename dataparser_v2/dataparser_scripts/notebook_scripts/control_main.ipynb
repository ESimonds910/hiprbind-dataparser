{
 "cells": [
  {
   "cell_type": "code",
   "execution_count": 23,
   "metadata": {},
   "outputs": [
    {
     "name": "stdout",
     "output_type": "stream",
     "text": [
      "Requirement already satisfied: ipynb in c:\\users\\esimonds\\anaconda3\\lib\\site-packages (0.5.1)\n"
     ]
    },
    {
     "name": "stderr",
     "output_type": "stream",
     "text": [
      "WARNING: You are using pip version 20.3.3; however, version 21.1 is available.\n",
      "You should consider upgrading via the 'c:\\users\\esimonds\\anaconda3\\python.exe -m pip install --upgrade pip' command.\n"
     ]
    }
   ],
   "source": [
    "# ! pip install ipynb"
   ]
  },
  {
   "cell_type": "code",
   "execution_count": 24,
   "metadata": {},
   "outputs": [],
   "source": [
    "import pandas as pd\n",
    "import json\n",
    "import numpy as np\n",
    "from time import time\n",
    "from tkinter import Tk, messagebox\n",
    "from tkinter.filedialog import askopenfilename\n",
    "from string import ascii_uppercase as upstr\n",
    "import ipynb.fs.full.file_split as fs\n",
    "# import file_split as fs\n",
    "from ipynb.fs.full.import_csv import FileFinder\n",
    "import ipynb.fs.full.data_formatter as formatter\n",
    "import ipynb.fs.full.enspire_od_join as enspire_od_join\n",
    "import ipynb.fs.full.pt_calculations as pt_calculations\n",
    "from ipynb.fs.full.import_od import import_od"
   ]
  },
  {
   "cell_type": "code",
   "execution_count": null,
   "metadata": {},
   "outputs": [],
   "source": []
  },
  {
   "cell_type": "markdown",
   "metadata": {},
   "source": [
    "TODO just create separate inputs module"
   ]
  },
  {
   "cell_type": "code",
   "execution_count": 25,
   "metadata": {},
   "outputs": [],
   "source": [
    "def concat_projs(df):\n",
    "    all_projs_df = pd.DataFrame()\n",
    "    pass"
   ]
  },
  {
   "cell_type": "code",
   "execution_count": 26,
   "metadata": {},
   "outputs": [],
   "source": [
    "def run_main(proj_dict):\n",
    "    proj_concat = False\n",
    "    file_finder = FileFinder()\n",
    "    proj_dict = fs.split_projects(proj_dict)\n",
    "    for proj, inner_dict in proj_dict.items():\n",
    "        project_title = proj\n",
    "        if \"-\" in proj:\n",
    "            inner_dict[\"proj_name\"] = proj.split(\"-\")[0]\n",
    "            inner_dict[\"ab_name\"] = proj.split(\"-\")[-1]\n",
    "        else:\n",
    "            inner_dict[\"ab_name\"] = \"\"\n",
    "            inner_dict[\"proj_name\"] = proj\n",
    "        proj_data = proj_dict[proj]\n",
    "        source_df = file_finder.data_finder(proj_data)\n",
    "        df_list = formatter.data_format(source_df, proj_data)\n",
    "        if proj_data[\"od_file\"]:\n",
    "            raw_od = import_od(proj_data)\n",
    "            joined_df_list = enspire_od_join.join_dfs(df_list, raw_od, proj_data)\n",
    "            main_join_dfs = joined_df_list[:2]\n",
    "            final_display_df = joined_df_list[2]\n",
    "            final_display_rep_df = joined_df_list[3]\n",
    "            completed_main_dfs = pt_calculations.make_calculations(main_join_dfs, proj_data)\n",
    "        else:\n",
    "            main_dfs = df_list[:2]\n",
    "            final_display_df = df_list[2]\n",
    "            final_display_rep_df = df_list[3]\n",
    "            completed_main_dfs = pt_calculations.make_calculations(main_dfs, proj_data)\n",
    "        final_main_df = completed_main_dfs[0]\n",
    "        final_main_rep_df = completed_main_dfs[1]\n",
    "        with pd.ExcelWriter(f\"../../test_files/test_outputs/{project_title}_output_test.xlsx\") as writer:\n",
    "            final_main_df.to_excel(writer, sheet_name=\"Calculations\")\n",
    "            final_display_df.to_excel(writer, sheet_name=\"Display_Ready\")\n",
    "            final_main_rep_df.to_excel(writer, sheet_name=\"Rep_Calculations\")\n",
    "            final_display_rep_df.to_excel(writer, sheet_name=\"Rep_Display_Ready\")\n",
    "        print(f\"Project {project_title} has been output.\")\n",
    "\n",
    "        # Also return these four dataframes into list?\n",
    "        # clean_df, main_df, clean_rep_df, main_rep_df = test_formatter.data_format(source_df, proj_data)\n",
    "        # df_list = [clean_df, main_df, clean_rep_df, main_rep_df]\n",
    "        # dfs_return = join_dfs(df_list, raw_od, proj_data)\n",
    "        #\n",
    "        # clean_join_df = dfs_return[0]\n",
    "        # main_join_df = dfs_return[1]\n",
    "        # clean_rep_join_df = dfs_return[2]\n",
    "        # main_rep_join_df = dfs_return[3]\n",
    "        #\n",
    "        # complete_df = eight_pt_calculations.make_calculations(main_join_df, proj_data)\n",
    "        # complete_rep_df = eight_pt_calculations.make_calculations(main_rep_join_df, proj_data)\n",
    "        #"
   ]
  },
  {
   "cell_type": "code",
   "execution_count": 27,
   "metadata": {},
   "outputs": [
    {
     "name": "stdout",
     "output_type": "stream",
     "text": [
      "SOM00012 and 2\n",
      "Project SOM00012 has been output.\n",
      "Program runtime: 19.09s\n"
     ]
    }
   ],
   "source": [
    "if __name__ == \"__main__\":\n",
    "    start_time = time()\n",
    "    window = Tk()\n",
    "    window.withdraw()\n",
    "    try:\n",
    "        with open(r\"C:\\Users\\esimonds\\parser_data.json\", \"r\") as parser_file:\n",
    "            proj_data_dict = json.load(parser_file)\n",
    "    except FileNotFoundError:\n",
    "        messagebox.showinfo(title=\"Warning!\", message=\"There's no file, did you complete the parser form?\")\n",
    "\n",
    "    run_main(proj_data_dict)\n",
    "    window.destroy()\n",
    "    end_time = time()\n",
    "    split = round(end_time - start_time, 2)\n",
    "    print(f\"Program runtime: {split}s\")"
   ]
  },
  {
   "cell_type": "code",
   "execution_count": null,
   "metadata": {},
   "outputs": [],
   "source": []
  }
 ],
 "metadata": {
  "kernelspec": {
   "display_name": "Python 3",
   "language": "python",
   "name": "python3"
  },
  "language_info": {
   "codemirror_mode": {
    "name": "ipython",
    "version": 3
   },
   "file_extension": ".py",
   "mimetype": "text/x-python",
   "name": "python",
   "nbconvert_exporter": "python",
   "pygments_lexer": "ipython3",
   "version": "3.8.3"
  }
 },
 "nbformat": 4,
 "nbformat_minor": 2
}
