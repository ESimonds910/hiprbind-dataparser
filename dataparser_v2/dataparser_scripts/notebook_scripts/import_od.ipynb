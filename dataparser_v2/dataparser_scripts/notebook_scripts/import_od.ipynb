{
 "cells": [
  {
   "cell_type": "code",
   "execution_count": 13,
   "metadata": {},
   "outputs": [],
   "source": [
    "import pandas as pd\n",
    "import xlrd\n",
    "from tkinter import messagebox\n",
    "from tkinter.filedialog import askopenfilename"
   ]
  },
  {
   "cell_type": "code",
   "execution_count": 14,
   "metadata": {},
   "outputs": [],
   "source": [
    "def header_check(columns):\n",
    "    try:\n",
    "        eln_headers = pd.read_excel(\"test_files/ELN_headers.xlsx\", header=None)\n",
    "    except FileNotFoundError:\n",
    "        print(\"File not found\")\n",
    "        pass\n",
    "    else:\n",
    "        for column in columns:\n",
    "            if column not in list(eln_headers[0]):\n",
    "                print(f\"'{column}' does not match SSF Database Nomenclature.\")"
   ]
  },
  {
   "cell_type": "code",
   "execution_count": 15,
   "metadata": {},
   "outputs": [],
   "source": [
    "def import_od(proj_data):\n",
    "    # input_od_path = proj_data[\"od_file\"]\n",
    "    od_data = pd.DataFrame()\n",
    "    input_od_path = askopenfilename(title=\"Choose OD file.\")\n",
    "    try:\n",
    "        od_data = pd.read_excel(input_od_path, sheet_name=\"Growth Details\")\n",
    "    except FileNotFoundError:\n",
    "        messagebox.showinfo(title=\"Uh oh...\", message=\"Something's wrong. The OD file wasn't found.\")\n",
    "        pass\n",
    "    except KeyError:\n",
    "        try:\n",
    "            od_data = pd.read_excel(input_od_path)\n",
    "        except FileNotFoundError:\n",
    "            messagebox.showinfo(title=\"Uh oh...\", message=\"Something's wrong. The OD file wasn't found.\")\n",
    "            pass\n",
    "    except ValueError:\n",
    "        try:\n",
    "            od_data = pd.read_csv(input_od_path)\n",
    "        except FileNotFoundError:\n",
    "            messagebox.showinfo(title=\"Uh oh...\", message=\"Something's wrong. The OD file wasn't found.\")\n",
    "            pass\n",
    "    except xlrd.XLRDError:\n",
    "        try:\n",
    "            od_data = pd.read_excel(input_od_path)\n",
    "        except FileNotFoundError:\n",
    "            messagebox.showinfo(title=\"Uh oh...\", message=\"Something's wrong. The OD file wasn't found.\")\n",
    "            pass\n",
    "    if not od_data.empty:\n",
    "        try:\n",
    "            for column in od_data.columns[1:]:\n",
    "                if \" \" in column:\n",
    "                    new_column = column.strip().replace(\" \", \"_\").lower().capitalize()\n",
    "                else:\n",
    "                    new_column = column.strip().lower().capitalize()\n",
    "                od_data.rename(columns={column: new_column}, inplace=True)\n",
    "            od_data.dropna(thresh=3, subset=od_data.columns[:-1], inplace=True)\n",
    "            od_data.dropna(axis=1, how=\"all\", inplace=True)\n",
    "            col_header = \"Od600\"\n",
    "            od_data[col_header] = od_data[col_header].replace(\" \", \"0.0\")\n",
    "            col_header = \"Harvest_sample_id\"\n",
    "            od_data.set_index(col_header, drop=False, inplace=True)\n",
    "        except KeyError:\n",
    "            print(f\"Parser was looking for column '{col_header}', but was not found. Check file for missing column.\")\n",
    "            pass\n",
    "        finally:\n",
    "            # header_check(od_data.columns)\n",
    "            return od_data\n",
    "    else:\n",
    "        messagebox.showinfo(title=\"Uh oh...\", message=\"Something's wrong, there is no OD data. Check OD File.\")"
   ]
  },
  {
   "cell_type": "code",
   "execution_count": 16,
   "metadata": {
    "scrolled": false
   },
   "outputs": [
    {
     "name": "stdout",
     "output_type": "stream",
     "text": [
      "Run time: 3.8548007011413574\n"
     ]
    }
   ],
   "source": [
    "if __name__ == \"__main__\":\n",
    "    from time import time\n",
    "    start_time = time()\n",
    "    test_data = \"\"\n",
    "    df_check = import_od(test_data)\n",
    "    df_check.head(5)\n",
    "    # ELN file path\n",
    "#     od_file_path = r\"L:\\Molecular Sciences\\Small Scale Runs\\SSF00609b Discrete Strain Screening (DSS) v1.5 Repeat of\" \\\n",
    "#                    r\" old SSF00603 DSS reference sequence into 3 hosts 21C 44 hours\\SSF00609b Discrete\" \\\n",
    "#                    r\" Strain Screening (DSS) ELN v1.5.xlsm\"\n",
    "\n",
    "    # Old OD file path\n",
    "    # od_file_path = \"L:/Molecular Sciences/Small Scale Runs/SSF00607 Discrete Strain Screening (DSS) akita Compare \" \\\n",
    "    #                \"Chap hits side-by-side/Assays/OD/Processed/SSF00607 24DW OD.xlsx \"\n",
    "#     import_od(od_file_path)\n",
    "    end_time = time()\n",
    "    run_time = end_time - start_time\n",
    "    print(f\"Run time: {run_time}\")"
   ]
  }
 ],
 "metadata": {
  "kernelspec": {
   "display_name": "Python 3",
   "language": "python",
   "name": "python3"
  },
  "language_info": {
   "codemirror_mode": {
    "name": "ipython",
    "version": 3
   },
   "file_extension": ".py",
   "mimetype": "text/x-python",
   "name": "python",
   "nbconvert_exporter": "python",
   "pygments_lexer": "ipython3",
   "version": "3.8.3"
  }
 },
 "nbformat": 4,
 "nbformat_minor": 2
}
