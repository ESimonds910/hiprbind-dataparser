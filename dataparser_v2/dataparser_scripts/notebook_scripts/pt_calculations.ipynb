{
 "cells": [
  {
   "cell_type": "code",
   "execution_count": null,
   "metadata": {},
   "outputs": [],
   "source": [
    "import pandas as pd\n",
    "import numpy as np"
   ]
  },
  {
   "cell_type": "code",
   "execution_count": null,
   "metadata": {},
   "outputs": [],
   "source": [
    "def find_max(main_dfs, proj_data):\n",
    "    max_found = False\n",
    "    max_slope = 0\n",
    "    original_max = 0\n",
    "    max_cols = [f\"alpha_slope_{n}\" for n in range(1, 8)]\n",
    "    alpha_cols = [f\"Alpha_{n}\" for n in range(1, 9)]\n",
    "    search_cols = alpha_cols + max_cols\n",
    "    selected_row = clean_df[clean_df[\"Alpha_avg_raw\"] == row].loc[:, search_cols]\n",
    "    # new_avg = selected_row.loc[:, [\"Alpha_5\", \"Alpha_6\", \"Alpha_7\", \"Alpha_8\"]].std(axis=1).item()\n",
    "    # row_minus_std = row - std\n",
    "    while not max_found:\n",
    "\n",
    "        # print(max_cols)\n",
    "        max_slope = float(selected_row.loc[:, max_cols].max(axis=1))\n",
    "\n",
    "        # print(f\"max_slope: {max_slope}\")\n",
    "        col_idx = selected_row.loc[:, max_cols].idxmax(axis=1).item()\n",
    "        # print(f\"col_idx 1: {col_idx}\")\n",
    "        try:\n",
    "            col_num = int(col_idx.split(\"_\")[2])\n",
    "        except IndexError:\n",
    "            print(f\"col_idx 2: {col_idx}\")\n",
    "        alpha_raw_max = int(selected_row[f\"Alpha_{col_num}\"])\n",
    "        # print(f\"alpha_raw_max: {alpha_raw_max} vs alpha_mean: {row}\")\n",
    "        if alpha_raw_max < row:\n",
    "            max_cols.remove(col_idx)\n",
    "            if max_slope > original_max:\n",
    "                original_max = max_slope\n",
    "            if max_cols == []:\n",
    "                return original_max\n",
    "        else:\n",
    "            max_found = True\n",
    "            return max_slope"
   ]
  },
  {
   "cell_type": "code",
   "execution_count": null,
   "metadata": {},
   "outputs": [],
   "source": [
    "def make_calculations(dfs, proj_data):\n",
    "    dv = proj_data[\"volumes\"]\n",
    "    points = proj_data[\"points\"]\n",
    "    signals = [\"Alpha\", \"DNA\"]\n",
    "    final_dfs = []\n",
    "    for df in dfs:\n",
    "\n",
    "        # df[\"Alpha_avg_raw\"] = df.loc[:, \"Alpha_1\":\"Alpha_8\"].mean(axis=1)\n",
    "        for signal in signals:\n",
    "            for n in range(1, points):\n",
    "                df[f\"{signal}_slope_{n}\"] = round(\n",
    "                    (df[f\"{signal}_{n + 1}\"] - df[f\"{signal}_{n}\"]) / (dv[n] - dv[n - 1]), 2\n",
    "                )\n",
    "\n",
    "            # df[\"Value\"] = df[\"Alpha_avg_raw\"].apply(find_max, args=(df, ))\n",
    "            # df[\"4pt_selection\"] = df.loc[:, \"alpha_slope_1\":\"alpha_slope_4\"].max(axis=1)\n",
    "            if points == 8:\n",
    "                last_slope = 4\n",
    "            else:\n",
    "                last_slope = 3\n",
    "            df[f\"{signal}.Max.Slope\"] = df.loc[:, f\"{signal}_slope_1\": f\"{signal}_slope_{last_slope}\"].max(axis=1)\n",
    "\n",
    "        # for n in range(1, 8):\n",
    "        #     df[f\"DNA_slope_{n}\"] = round((df[f\"DNA_{n + 1}\"] - df[f\"DNA_{n}\"]) / (dv[n] - dv[n - 1]), 2)\n",
    "        #\n",
    "        # df[\"DNA.Max.Slope\"] = df.loc[:, \"dna_slope_1\":\"dna_slope_4\"].max(axis=1)\n",
    "        df[\"HPB_DNA\"] = round(df[\"Alpha.Max.Slope\"] / df[\"DNA.Max.Slope\"], 2)\n",
    "        if proj_data[\"od_file\"]:\n",
    "            df[\"Od600\"] = df[\"Od600\"].apply(lambda x: round(float(x), 2) if x != \"\" else \"0.0\")\n",
    "            df[\"HPB_OD\"] = round(df[\"Alpha.Max.Slope\"] / df[\"Od600\"], 2)\n",
    "        final_dfs.append(df)\n",
    "    return final_dfs"
   ]
  },
  {
   "cell_type": "code",
   "execution_count": null,
   "metadata": {},
   "outputs": [],
   "source": [
    "if __name__ == \"__main__\":\n",
    "    test_df = pd.read_csv(\"test_df_precalc.csv\")\n",
    "    volumes = [0.21428571, 0.03061224, 0.00437318, 0.00062474, 0.00008925, 0.00001275, 0.00000182, 0.00000026]\n",
    "    output_df = make_calculations(test_df, volumes)\n",
    "    print(output_df.iloc[0])\n",
    "    output_df.to_csv(\"Test_output.csv\")"
   ]
  }
 ],
 "metadata": {
  "kernelspec": {
   "display_name": "Python 3",
   "language": "python",
   "name": "python3"
  },
  "language_info": {
   "codemirror_mode": {
    "name": "ipython",
    "version": 3
   },
   "file_extension": ".py",
   "mimetype": "text/x-python",
   "name": "python",
   "nbconvert_exporter": "python",
   "pygments_lexer": "ipython3",
   "version": "3.8.3"
  }
 },
 "nbformat": 4,
 "nbformat_minor": 2
}
