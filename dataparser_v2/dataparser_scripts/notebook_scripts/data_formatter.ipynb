{
 "cells": [
  {
   "cell_type": "code",
   "execution_count": null,
   "metadata": {},
   "outputs": [],
   "source": [
    "import pandas as pd\n",
    "import numpy as np\n",
    "from string import ascii_uppercase as letters"
   ]
  },
  {
   "cell_type": "code",
   "execution_count": null,
   "metadata": {},
   "outputs": [],
   "source": [
    "def find_replicate_data(df):\n",
    "    df[\"Replicate\"] = np.where(\n",
    "        df[\"Plate\"].apply(lambda x: len(x) > 2 and int(x[-1:])) > 1,\n",
    "        \"replicate\", \"\"\n",
    "    )\n",
    "    rep_df = df[df[\"Replicate\"] == \"replicate\"]\n",
    "    main_df = df[df[\"Replicate\"] == \"\"]\n",
    "    main_df = main_df.drop(\"Replicate\", axis=1)\n",
    "    return main_df, rep_df"
   ]
  },
  {
   "cell_type": "code",
   "execution_count": null,
   "metadata": {},
   "outputs": [],
   "source": [
    "def add_standard(df, proj_data):\n",
    "    # std_row = proj_data[\"std_row\"]\n",
    "    std_conc = proj_data[\"std_conc\"]\n",
    "    # std_pos = proj_data[\"std_pos\"]\n",
    "    if type(std_conc) == dict:\n",
    "        df.insert(\n",
    "            6,\n",
    "            \"std_conc\",\n",
    "            df[\"Well_Id\"].apply(\n",
    "                lambda x: std_conc[x] if x in std_conc else \"\"\n",
    "            )\n",
    "        )\n",
    "    # elif std_row != \"\" and std_pos == \"half\":\n",
    "    #     df.insert(\n",
    "    #         6,\n",
    "    #         \"std_conc\",\n",
    "    #         df[\"Well_Id\"].apply(\n",
    "    #             lambda x: std_conc[int(x[1:]) - 1] if x[:1] in std_row and int(x[1:]) > 6 else \"\"\n",
    "    #         )\n",
    "    #     )\n",
    "    # elif std_row != \"\":\n",
    "    #     df.insert(\n",
    "    #         6,\n",
    "    #         \"std_conc\",\n",
    "    #         df[\"Well_Id\"].apply(\n",
    "    #             lambda x: std_conc[int(x[1:]) - 1] if x[:1] in std_row else \"\"\n",
    "    #         )\n",
    "    #     )\n",
    "    return df"
   ]
  },
  {
   "cell_type": "code",
   "execution_count": null,
   "metadata": {},
   "outputs": [],
   "source": [
    "def build_columns(df, plate, proj_data, w_idx, df_id=\"main\"):\n",
    "    proj_name = proj_data[\"proj_name\"]\n",
    "    volumes = proj_data[\"volumes\"]\n",
    "    if df.shape[1] == 16 or df.shape[0] == 8:\n",
    "        row_len = 4\n",
    "    else:\n",
    "        row_len = 8\n",
    "    well_ids = [letter + str(num).zfill(2) for letter in letters[:row_len] for num in range(1, 13)]\n",
    "    if df_id == \"display\":\n",
    "        df.insert(0, \"Plate\", plate)\n",
    "        df.insert(1, \"Well_Id\", well_ids[w_idx])\n",
    "        df.insert(2, \"Row\", df[\"Well_Id\"].apply(lambda x: x[:1]))\n",
    "        df.insert(3, \"Col\", df[\"Well_Id\"].apply(lambda x: x[1:]))\n",
    "        df.insert(4, \"Volumes\", volumes)\n",
    "        df.insert(0, \"Id\", plate.split(\"-\")[0] + \"-\" + df[\"Well_Id\"])\n",
    "        df.insert(0, \"Unique_Id\", proj_name + \"-\" + df[\"Id\"])\n",
    "        return df\n",
    "    df.insert(0, \"Plate\", plate)\n",
    "    df.insert(1, \"Well_Id\", well_ids[w_idx])\n",
    "    df.insert(0, \"Id\", plate.split(\"-\")[0] + \"-\" + df[\"Well_Id\"])\n",
    "    df.insert(0, \"Unique_Id\", proj_name + \"-\" + df[\"Id\"])\n",
    "    return df"
   ]
  },
  {
   "cell_type": "code",
   "execution_count": null,
   "metadata": {},
   "outputs": [],
   "source": [
    "def data_format(source, proj_data):\n",
    "    plates = proj_data[\"plates\"]\n",
    "    points = proj_data[\"points\"]\n",
    "    display_formatted_df = pd.DataFrame()\n",
    "    main_formatted_df = pd.DataFrame()\n",
    "    start_row = 0\n",
    "    if points == 8:\n",
    "        end_row = 8\n",
    "    else:\n",
    "        end_row = 16\n",
    "    for plate in plates:\n",
    "        well_index = 0\n",
    "        for row in range(start_row, end_row, 2):\n",
    "            row_2 = row + 1\n",
    "            end_col = int(source.shape[1] / 2)\n",
    "            for col in range(1, end_col, 2):\n",
    "                col_2 = col + 1\n",
    "                dna_col = col + 24\n",
    "                dna_col_2 = dna_col + 1\n",
    "                alpha_quad = list(source.iloc[row][[col, col_2]]) + list(source.iloc[row_2][[col, col_2]])\n",
    "                dna_quad = list(source.iloc[row][[dna_col, dna_col_2]]) + list(source.iloc[row_2][[dna_col, dna_col_2]])\n",
    "                main_df_columns = [f\"Alpha_{n}\" for n in range(1, 5)] + [f\"DNA_{n}\" for n in range(1, 5)]\n",
    "                if points == 8:\n",
    "                    row_3 = row + 8\n",
    "                    row_4 = row + 9\n",
    "                    alpha_quad_2 = list(source.iloc[row_3][[col, col_2]]) + list(source.iloc[row_4][[col, col_2]])\n",
    "                    alpha_quad += alpha_quad_2\n",
    "                    dna_quad_2 = list(source.iloc[row_3][[dna_col, dna_col_2]]) + \\\n",
    "                                 list(source.iloc[row_4][[dna_col, dna_col_2]])\n",
    "                    dna_quad += dna_quad_2\n",
    "                    main_df_columns = [f\"Alpha_{n}\" for n in range(1, 9)] + [f\"DNA_{n}\" for n in range(1, 9)]\n",
    "                main_df = pd.DataFrame([alpha_quad + dna_quad], columns=main_df_columns)\n",
    "                display_df = pd.DataFrame([alpha_quad, dna_quad], index=[\"Alpha\", \"DNA\"]).transpose()\n",
    "                main_df = build_columns(main_df, plate, proj_data, well_index)\n",
    "                display_df = build_columns(display_df, plate, proj_data, well_index, df_id=\"display\")\n",
    "                main_df = add_standard(main_df, proj_data)\n",
    "                display_df = add_standard(display_df, proj_data)\n",
    "                main_formatted_df = pd.concat([main_formatted_df, main_df])\n",
    "                display_formatted_df = pd.concat([display_formatted_df, display_df])\n",
    "                well_index += 1\n",
    "        start_row += 16\n",
    "        end_row += 16\n",
    "    main_formatted_df, main_formatted_rep_df = find_replicate_data(main_formatted_df)\n",
    "    display_formatted_df, display_formatted_rep_df = find_replicate_data(display_formatted_df)\n",
    "    df_list = [main_formatted_df, main_formatted_rep_df, display_formatted_df, display_formatted_rep_df]\n",
    "    return df_list"
   ]
  },
  {
   "cell_type": "code",
   "execution_count": null,
   "metadata": {},
   "outputs": [],
   "source": [
    "if __name__ == \"__main__\":\n",
    "    pass"
   ]
  }
 ],
 "metadata": {
  "kernelspec": {
   "display_name": "Python 3",
   "language": "python",
   "name": "python3"
  },
  "language_info": {
   "codemirror_mode": {
    "name": "ipython",
    "version": 3
   },
   "file_extension": ".py",
   "mimetype": "text/x-python",
   "name": "python",
   "nbconvert_exporter": "python",
   "pygments_lexer": "ipython3",
   "version": "3.8.3"
  }
 },
 "nbformat": 4,
 "nbformat_minor": 2
}
