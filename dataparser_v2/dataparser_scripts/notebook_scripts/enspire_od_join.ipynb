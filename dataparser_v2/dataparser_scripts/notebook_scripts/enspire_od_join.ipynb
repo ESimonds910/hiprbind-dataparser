{
 "cells": [
  {
   "cell_type": "code",
   "execution_count": null,
   "metadata": {},
   "outputs": [],
   "source": [
    "import pandas as pd"
   ]
  },
  {
   "cell_type": "code",
   "execution_count": null,
   "metadata": {},
   "outputs": [],
   "source": [
    "def join_dfs(df_list, raw_od, proj_data):\n",
    "    ab_name = proj_data[\"ab_name\"]\n",
    "    join_df_list = []\n",
    "    for df in df_list:\n",
    "        df.set_index(\"Unique_Id\", inplace=True)\n",
    "        raw_od.set_index(\"Harvest_sample_id\", drop=False, inplace=True)\n",
    "        join_df = raw_od.join(df, how=\"right\")\n",
    "        try:\n",
    "            join_df.loc[(join_df[\"std_conc\"].apply(lambda x: x) != \"\"), \"Sample_type\"] = \"Standard\"\n",
    "        except KeyError:\n",
    "            pass\n",
    "        if ab_name != \"\":\n",
    "            join_df.insert(loc=1, column=\"HPB_scheme\", value=ab_name)\n",
    "        join_df_list.append(join_df)\n",
    "    return join_df_list"
   ]
  }
 ],
 "metadata": {
  "kernelspec": {
   "display_name": "Python 3",
   "language": "python",
   "name": "python3"
  },
  "language_info": {
   "codemirror_mode": {
    "name": "ipython",
    "version": 3
   },
   "file_extension": ".py",
   "mimetype": "text/x-python",
   "name": "python",
   "nbconvert_exporter": "python",
   "pygments_lexer": "ipython3",
   "version": "3.8.3"
  }
 },
 "nbformat": 4,
 "nbformat_minor": 2
}
