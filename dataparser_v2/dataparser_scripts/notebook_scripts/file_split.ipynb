{
 "cells": [
  {
   "cell_type": "code",
   "execution_count": null,
   "metadata": {},
   "outputs": [],
   "source": [
    "import csv\n",
    "from tkinter import Tk\n",
    "from tkinter.filedialog import askopenfilename, askdirectory\n",
    "import tkinter.messagebox as messagebox"
   ]
  },
  {
   "cell_type": "code",
   "execution_count": null,
   "metadata": {},
   "outputs": [],
   "source": [
    "def split_projects(proj_dict):\n",
    "    copy_start_row = 0\n",
    "    copy_end_row = 0\n",
    "    window = Tk()\n",
    "    window.withdraw()\n",
    "    file_path_raw = askopenfilename(title='Select file to copy', initialdir=\"L:/Assay Development/Enspire\")\n",
    "    for proj, inner_dict in proj_dict.items():\n",
    "        proj_name = proj\n",
    "        plate_num = len(inner_dict[\"plates\"])\n",
    "        try:\n",
    "            folder_path_raw = askdirectory(\n",
    "                title=\"Choose Raw folder from Project folder to place file for \" + proj_name,\n",
    "                initialdir='L:/Molecular Sciences/Small Scale Runs'\n",
    "            )\n",
    "        except FileNotFoundError:\n",
    "            pass\n",
    "        else:\n",
    "            print('%s and %s' % (proj_name, plate_num))\n",
    "            with open(file_path_raw) as csv_file:\n",
    "                reader = csv.reader(csv_file)\n",
    "                copy_end_row += int(plate_num) * 48\n",
    "                plate_rows = [row for idx, row in enumerate(reader) if idx in range(copy_start_row, copy_end_row)]\n",
    "                copy_start_row = copy_end_row\n",
    "                raw_output = folder_path_raw + '/' + proj_name + '.csv'\n",
    "                with open(raw_output, 'w', newline=\"\") as newFile:\n",
    "                    csv_writer = csv.writer(newFile)\n",
    "                    for row in plate_rows:\n",
    "                        csv_writer.writerow(row)\n",
    "                inner_dict[\"raw_file\"] = raw_output\n",
    "    messagebox.showinfo(title=\"Congrats!\", message=\"File has been moved!\")\n",
    "    window.destroy()\n",
    "    return proj_dict"
   ]
  }
 ],
 "metadata": {
  "kernelspec": {
   "display_name": "Python 3",
   "language": "python",
   "name": "python3"
  },
  "language_info": {
   "codemirror_mode": {
    "name": "ipython",
    "version": 3
   },
   "file_extension": ".py",
   "mimetype": "text/x-python",
   "name": "python",
   "nbconvert_exporter": "python",
   "pygments_lexer": "ipython3",
   "version": "3.8.3"
  }
 },
 "nbformat": 4,
 "nbformat_minor": 2
}
